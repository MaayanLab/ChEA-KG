{
 "cells": [
  {
   "cell_type": "code",
   "execution_count": 1,
   "metadata": {},
   "outputs": [
    {
     "data": {
      "text/html": [
       "    <style>\n",
       "        .bk-notebook-logo {\n",
       "            display: block;\n",
       "            width: 20px;\n",
       "            height: 20px;\n",
       "            background-image: url(data:image/png;base64,iVBORw0KGgoAAAANSUhEUgAAABQAAAAUCAYAAACNiR0NAAAABHNCSVQICAgIfAhkiAAAAAlwSFlzAAALEgAACxIB0t1+/AAAABx0RVh0U29mdHdhcmUAQWRvYmUgRmlyZXdvcmtzIENTNui8sowAAAOkSURBVDiNjZRtaJVlGMd/1/08zzln5zjP1LWcU9N0NkN8m2CYjpgQYQXqSs0I84OLIC0hkEKoPtiH3gmKoiJDU7QpLgoLjLIQCpEsNJ1vqUOdO7ppbuec5+V+rj4ctwzd8IIbbi6u+8f1539dt3A78eXC7QizUF7gyV1fD1Yqg4JWz84yffhm0qkFqBogB9rM8tZdtwVsPUhWhGcFJngGeWrPzHm5oaMmkfEg1usvLFyc8jLRqDOMru7AyC8saQr7GG7f5fvDeH7Ej8CM66nIF+8yngt6HWaKh7k49Soy9nXurCi1o3qUbS3zWfrYeQDTB/Qj6kX6Ybhw4B+bOYoLKCC9H3Nu/leUTZ1JdRWkkn2ldcCamzrcf47KKXdAJllSlxAOkRgyHsGC/zRday5Qld9DyoM4/q/rUoy/CXh3jzOu3bHUVZeU+DEn8FInkPBFlu3+nW3Nw0mk6vCDiWg8CeJaxEwuHS3+z5RgY+YBR6V1Z1nxSOfoaPa4LASWxxdNp+VWTk7+4vzaou8v8PN+xo+KY2xsw6une2frhw05CTYOmQvsEhjhWjn0bmXPjpE1+kplmmkP3suftwTubK9Vq22qKmrBhpY4jvd5afdRA3wGjFAgcnTK2s4hY0/GPNIb0nErGMCRxWOOX64Z8RAC4oCXdklmEvcL8o0BfkNK4lUg9HTl+oPlQxdNo3Mg4Nv175e/1LDGzZen30MEjRUtmXSfiTVu1kK8W4txyV6BMKlbgk3lMwYCiusNy9fVfvvwMxv8Ynl6vxoByANLTWplvuj/nF9m2+PDtt1eiHPBr1oIfhCChQMBw6Aw0UulqTKZdfVvfG7VcfIqLG9bcldL/+pdWTLxLUy8Qq38heUIjh4XlzZxzQm19lLFlr8vdQ97rjZVOLf8nclzckbcD4wxXMidpX30sFd37Fv/GtwwhzhxGVAprjbg0gCAEeIgwCZyTV2Z1REEW8O4py0wsjeloKoMr6iCY6dP92H6Vw/oTyICIthibxjm/DfN9lVz8IqtqKYLUXfoKVMVQVVJOElGjrnnUt9T9wbgp8AyYKaGlqingHZU/uG2NTZSVqwHQTWkx9hxjkpWDaCg6Ckj5qebgBVbT3V3NNXMSiWSDdGV3hrtzla7J+duwPOToIg42ChPQOQjspnSlp1V+Gjdged7+8UN5CRAV7a5EdFNwCjEaBR27b3W890TE7g24NAP/mMDXRWrGoFPQI9ls/MWO2dWFAar/xcOIImbbpA3zgAAAABJRU5ErkJggg==);\n",
       "        }\n",
       "    </style>\n",
       "    <div>\n",
       "        <a href=\"https://bokeh.org\" target=\"_blank\" class=\"bk-notebook-logo\"></a>\n",
       "        <span id=\"e7081cd9-b75f-446f-8f6f-febf22843ffb\">Loading BokehJS ...</span>\n",
       "    </div>\n"
      ]
     },
     "metadata": {},
     "output_type": "display_data"
    },
    {
     "data": {
      "application/javascript": "'use strict';\n(function(root) {\n  function now() {\n    return new Date();\n  }\n\n  const force = true;\n\n  if (typeof root._bokeh_onload_callbacks === \"undefined\" || force === true) {\n    root._bokeh_onload_callbacks = [];\n    root._bokeh_is_loading = undefined;\n  }\n\nconst JS_MIME_TYPE = 'application/javascript';\n  const HTML_MIME_TYPE = 'text/html';\n  const EXEC_MIME_TYPE = 'application/vnd.bokehjs_exec.v0+json';\n  const CLASS_NAME = 'output_bokeh rendered_html';\n\n  /**\n   * Render data to the DOM node\n   */\n  function render(props, node) {\n    const script = document.createElement(\"script\");\n    node.appendChild(script);\n  }\n\n  /**\n   * Handle when an output is cleared or removed\n   */\n  function handleClearOutput(event, handle) {\n    function drop(id) {\n      const view = Bokeh.index.get_by_id(id)\n      if (view != null) {\n        view.model.document.clear()\n        Bokeh.index.delete(view)\n      }\n    }\n\n    const cell = handle.cell;\n\n    const id = cell.output_area._bokeh_element_id;\n    const server_id = cell.output_area._bokeh_server_id;\n\n    // Clean up Bokeh references\n    if (id != null) {\n      drop(id)\n    }\n\n    if (server_id !== undefined) {\n      // Clean up Bokeh references\n      const cmd_clean = \"from bokeh.io.state import curstate; print(curstate().uuid_to_server['\" + server_id + \"'].get_sessions()[0].document.roots[0]._id)\";\n      cell.notebook.kernel.execute(cmd_clean, {\n        iopub: {\n          output: function(msg) {\n            const id = msg.content.text.trim()\n            drop(id)\n          }\n        }\n      });\n      // Destroy server and session\n      const cmd_destroy = \"import bokeh.io.notebook as ion; ion.destroy_server('\" + server_id + \"')\";\n      cell.notebook.kernel.execute(cmd_destroy);\n    }\n  }\n\n  /**\n   * Handle when a new output is added\n   */\n  function handleAddOutput(event, handle) {\n    const output_area = handle.output_area;\n    const output = handle.output;\n\n    // limit handleAddOutput to display_data with EXEC_MIME_TYPE content only\n    if ((output.output_type != \"display_data\") || (!Object.prototype.hasOwnProperty.call(output.data, EXEC_MIME_TYPE))) {\n      return\n    }\n\n    const toinsert = output_area.element.find(\".\" + CLASS_NAME.split(' ')[0]);\n\n    if (output.metadata[EXEC_MIME_TYPE][\"id\"] !== undefined) {\n      toinsert[toinsert.length - 1].firstChild.textContent = output.data[JS_MIME_TYPE];\n      // store reference to embed id on output_area\n      output_area._bokeh_element_id = output.metadata[EXEC_MIME_TYPE][\"id\"];\n    }\n    if (output.metadata[EXEC_MIME_TYPE][\"server_id\"] !== undefined) {\n      const bk_div = document.createElement(\"div\");\n      bk_div.innerHTML = output.data[HTML_MIME_TYPE];\n      const script_attrs = bk_div.children[0].attributes;\n      for (let i = 0; i < script_attrs.length; i++) {\n        toinsert[toinsert.length - 1].firstChild.setAttribute(script_attrs[i].name, script_attrs[i].value);\n        toinsert[toinsert.length - 1].firstChild.textContent = bk_div.children[0].textContent\n      }\n      // store reference to server id on output_area\n      output_area._bokeh_server_id = output.metadata[EXEC_MIME_TYPE][\"server_id\"];\n    }\n  }\n\n  function register_renderer(events, OutputArea) {\n\n    function append_mime(data, metadata, element) {\n      // create a DOM node to render to\n      const toinsert = this.create_output_subarea(\n        metadata,\n        CLASS_NAME,\n        EXEC_MIME_TYPE\n      );\n      this.keyboard_manager.register_events(toinsert);\n      // Render to node\n      const props = {data: data, metadata: metadata[EXEC_MIME_TYPE]};\n      render(props, toinsert[toinsert.length - 1]);\n      element.append(toinsert);\n      return toinsert\n    }\n\n    /* Handle when an output is cleared or removed */\n    events.on('clear_output.CodeCell', handleClearOutput);\n    events.on('delete.Cell', handleClearOutput);\n\n    /* Handle when a new output is added */\n    events.on('output_added.OutputArea', handleAddOutput);\n\n    /**\n     * Register the mime type and append_mime function with output_area\n     */\n    OutputArea.prototype.register_mime_type(EXEC_MIME_TYPE, append_mime, {\n      /* Is output safe? */\n      safe: true,\n      /* Index of renderer in `output_area.display_order` */\n      index: 0\n    });\n  }\n\n  // register the mime type if in Jupyter Notebook environment and previously unregistered\n  if (root.Jupyter !== undefined) {\n    const events = require('base/js/events');\n    const OutputArea = require('notebook/js/outputarea').OutputArea;\n\n    if (OutputArea.prototype.mime_types().indexOf(EXEC_MIME_TYPE) == -1) {\n      register_renderer(events, OutputArea);\n    }\n  }\n  if (typeof (root._bokeh_timeout) === \"undefined\" || force === true) {\n    root._bokeh_timeout = Date.now() + 5000;\n    root._bokeh_failed_load = false;\n  }\n\n  const NB_LOAD_WARNING = {'data': {'text/html':\n     \"<div style='background-color: #fdd'>\\n\"+\n     \"<p>\\n\"+\n     \"BokehJS does not appear to have successfully loaded. If loading BokehJS from CDN, this \\n\"+\n     \"may be due to a slow or bad network connection. Possible fixes:\\n\"+\n     \"</p>\\n\"+\n     \"<ul>\\n\"+\n     \"<li>re-rerun `output_notebook()` to attempt to load from CDN again, or</li>\\n\"+\n     \"<li>use INLINE resources instead, as so:</li>\\n\"+\n     \"</ul>\\n\"+\n     \"<code>\\n\"+\n     \"from bokeh.resources import INLINE\\n\"+\n     \"output_notebook(resources=INLINE)\\n\"+\n     \"</code>\\n\"+\n     \"</div>\"}};\n\n  function display_loaded(error = null) {\n    const el = document.getElementById(\"e7081cd9-b75f-446f-8f6f-febf22843ffb\");\n    if (el != null) {\n      const html = (() => {\n        if (typeof root.Bokeh === \"undefined\") {\n          if (error == null) {\n            return \"BokehJS is loading ...\";\n          } else {\n            return \"BokehJS failed to load.\";\n          }\n        } else {\n          const prefix = `BokehJS ${root.Bokeh.version}`;\n          if (error == null) {\n            return `${prefix} successfully loaded.`;\n          } else {\n            return `${prefix} <b>encountered errors</b> while loading and may not function as expected.`;\n          }\n        }\n      })();\n      el.innerHTML = html;\n\n      if (error != null) {\n        const wrapper = document.createElement(\"div\");\n        wrapper.style.overflow = \"auto\";\n        wrapper.style.height = \"5em\";\n        wrapper.style.resize = \"vertical\";\n        const content = document.createElement(\"div\");\n        content.style.fontFamily = \"monospace\";\n        content.style.whiteSpace = \"pre-wrap\";\n        content.style.backgroundColor = \"rgb(255, 221, 221)\";\n        content.textContent = error.stack ?? error.toString();\n        wrapper.append(content);\n        el.append(wrapper);\n      }\n    } else if (Date.now() < root._bokeh_timeout) {\n      setTimeout(() => display_loaded(error), 100);\n    }\n  }\n\n  function run_callbacks() {\n    try {\n      root._bokeh_onload_callbacks.forEach(function(callback) {\n        if (callback != null)\n          callback();\n      });\n    } finally {\n      delete root._bokeh_onload_callbacks\n    }\n    console.debug(\"Bokeh: all callbacks have finished\");\n  }\n\n  function load_libs(css_urls, js_urls, callback) {\n    if (css_urls == null) css_urls = [];\n    if (js_urls == null) js_urls = [];\n\n    root._bokeh_onload_callbacks.push(callback);\n    if (root._bokeh_is_loading > 0) {\n      console.debug(\"Bokeh: BokehJS is being loaded, scheduling callback at\", now());\n      return null;\n    }\n    if (js_urls == null || js_urls.length === 0) {\n      run_callbacks();\n      return null;\n    }\n    console.debug(\"Bokeh: BokehJS not loaded, scheduling load and callback at\", now());\n    root._bokeh_is_loading = css_urls.length + js_urls.length;\n\n    function on_load() {\n      root._bokeh_is_loading--;\n      if (root._bokeh_is_loading === 0) {\n        console.debug(\"Bokeh: all BokehJS libraries/stylesheets loaded\");\n        run_callbacks()\n      }\n    }\n\n    function on_error(url) {\n      console.error(\"failed to load \" + url);\n    }\n\n    for (let i = 0; i < css_urls.length; i++) {\n      const url = css_urls[i];\n      const element = document.createElement(\"link\");\n      element.onload = on_load;\n      element.onerror = on_error.bind(null, url);\n      element.rel = \"stylesheet\";\n      element.type = \"text/css\";\n      element.href = url;\n      console.debug(\"Bokeh: injecting link tag for BokehJS stylesheet: \", url);\n      document.body.appendChild(element);\n    }\n\n    for (let i = 0; i < js_urls.length; i++) {\n      const url = js_urls[i];\n      const element = document.createElement('script');\n      element.onload = on_load;\n      element.onerror = on_error.bind(null, url);\n      element.async = false;\n      element.src = url;\n      console.debug(\"Bokeh: injecting script tag for BokehJS library: \", url);\n      document.head.appendChild(element);\n    }\n  };\n\n  function inject_raw_css(css) {\n    const element = document.createElement(\"style\");\n    element.appendChild(document.createTextNode(css));\n    document.body.appendChild(element);\n  }\n\n  const js_urls = [\"https://cdn.bokeh.org/bokeh/release/bokeh-3.6.2.min.js\", \"https://cdn.bokeh.org/bokeh/release/bokeh-gl-3.6.2.min.js\", \"https://cdn.bokeh.org/bokeh/release/bokeh-widgets-3.6.2.min.js\", \"https://cdn.bokeh.org/bokeh/release/bokeh-tables-3.6.2.min.js\", \"https://cdn.bokeh.org/bokeh/release/bokeh-mathjax-3.6.2.min.js\"];\n  const css_urls = [];\n\n  const inline_js = [    function(Bokeh) {\n      Bokeh.set_log_level(\"info\");\n    },\nfunction(Bokeh) {\n    }\n  ];\n\n  function run_inline_js() {\n    if (root.Bokeh !== undefined || force === true) {\n      try {\n            for (let i = 0; i < inline_js.length; i++) {\n      inline_js[i].call(root, root.Bokeh);\n    }\n\n      } catch (error) {display_loaded(error);throw error;\n      }if (force === true) {\n        display_loaded();\n      }} else if (Date.now() < root._bokeh_timeout) {\n      setTimeout(run_inline_js, 100);\n    } else if (!root._bokeh_failed_load) {\n      console.log(\"Bokeh: BokehJS failed to load within specified timeout.\");\n      root._bokeh_failed_load = true;\n    } else if (force !== true) {\n      const cell = $(document.getElementById(\"e7081cd9-b75f-446f-8f6f-febf22843ffb\")).parents('.cell').data().cell;\n      cell.output_area.append_execute_result(NB_LOAD_WARNING)\n    }\n  }\n\n  if (root._bokeh_is_loading === 0) {\n    console.debug(\"Bokeh: BokehJS loaded, going straight to plotting\");\n    run_inline_js();\n  } else {\n    load_libs(css_urls, js_urls, function() {\n      console.debug(\"Bokeh: BokehJS plotting callback run at\", now());\n      run_inline_js();\n    });\n  }\n}(window));",
      "application/vnd.bokehjs_load.v0+json": ""
     },
     "metadata": {},
     "output_type": "display_data"
    }
   ],
   "source": [
    "import pandas as pd\n",
    "from collections import defaultdict\n",
    "import numpy as np\n",
    "import tqdm\n",
    "import chromedriver_binary\n",
    "import random\n",
    "from sklearn.feature_extraction.text import TfidfVectorizer\n",
    "import scanpy as sc\n",
    "import anndata\n",
    "from collections import OrderedDict\n",
    "from bokeh.io import output_notebook, export_png, export_svg\n",
    "from bokeh.plotting import figure, show\n",
    "from bokeh.models import HoverTool, ColumnDataSource\n",
    "from bokeh.palettes import Category20\n",
    "import glasbey\n",
    "output_notebook()\n",
    "\n",
    "from IPython.display import display, HTML, Markdown"
   ]
  },
  {
   "cell_type": "code",
   "execution_count": 2,
   "metadata": {},
   "outputs": [],
   "source": [
    "def load_network(networkdir):\n",
    "    up = pd.read_csv(f\"{networkdir}/Transcription Factor.upregulates.Transcription Factor.edges.csv\", usecols=[\"source_label\",\"target_label\"])\n",
    "    down = pd.read_csv(f\"{networkdir}/Transcription Factor.downregulates.Transcription Factor.edges.csv\",usecols=[\"source_label\",\"target_label\"])\n",
    "    nodes = pd.read_csv(f\"{networkdir}/Transcription Factor.nodes.csv\",usecols=[\"label\"])\n",
    "    return up,down,nodes\n",
    "\n",
    "def find_neighbors(edge_list):\n",
    "    neighbors = defaultdict(list)\n",
    "    for (source, target) in edge_list:\n",
    "        neighbors[source].append(target) \n",
    "    return neighbors\n",
    "\n",
    "up,down,nodes = load_network(\"../kg_assertions_for_neo4j\")"
   ]
  },
  {
   "cell_type": "markdown",
   "metadata": {},
   "source": [
    "# Network UMAP"
   ]
  },
  {
   "cell_type": "markdown",
   "metadata": {},
   "source": [
    "Step 1. Convert the network to a GMT."
   ]
  },
  {
   "cell_type": "code",
   "execution_count": 3,
   "metadata": {},
   "outputs": [],
   "source": [
    "up = pd.read_csv(\"../kg_assertions_for_neo4j/Transcription Factor.upregulates.Transcription Factor.edges.csv\", usecols=[\"source_label\",\"target_label\"])\n",
    "down = pd.read_csv(\"../kg_assertions_for_neo4j/Transcription Factor.downregulates.Transcription Factor.edges.csv\",usecols=[\"source_label\",\"target_label\"])\n",
    "edges = pd.concat([up, down], ignore_index=True)\n",
    "\n",
    "edgelist = list(zip(edges[\"source_label\"], edges[\"target_label\"]))\n",
    "gmt = {}\n",
    "for (source, target) in edgelist:\n",
    "    if source in gmt.keys():\n",
    "        gmt[source].append(target)\n",
    "    else:\n",
    "        gmt[source] = [target]\n",
    "\n",
    "with open(\"./network_gmt.gmt\", \"w\") as file:\n",
    "    for s,t in gmt.items():\n",
    "        file.write(str(s) + \"\\t\\t\" + \"\\t\".join(t) + \"\\n\")"
   ]
  },
  {
   "cell_type": "markdown",
   "metadata": {},
   "source": [
    "Step 2. Build the UMAP using code from the Enrichr processing libraries"
   ]
  },
  {
   "cell_type": "code",
   "execution_count": 4,
   "metadata": {},
   "outputs": [],
   "source": [
    "libname = 'network_gmt'\n",
    "libdir = './fig_data' # directory where library is\n",
    "\n",
    "def get_scatter_library(libname, local, augmented):\n",
    "    '''\n",
    "    Processes the GMT file for the input Enrichr library {lib} and returns a \n",
    "    dictionary where the keys correspond to gene set names, and the value for\n",
    "    each key is a space-delimited string containing all genes belonging to\n",
    "    the gene set: \n",
    "    {\n",
    "        \"gene set name\": \"gene_1 gene_2 gene_3 ... gene_n\", \n",
    "        ...\n",
    "    }\n",
    "    In addition, this function can augment each gene set library using ARCHS4 \n",
    "    gene-gene co-expression data. For each gene set, the most co-expressed genes \n",
    "    (determined by summing the coexpression coefficients across all genes)\n",
    "    are added to the gene set before visualization. \n",
    "    '''\n",
    "    ### open local file or from Enrichr\n",
    "    if local: \n",
    "        print(f\"\\tOpening library locally from '{libdir}'...\")\n",
    "        with open(f\"{libdir}/{libname}.gmt\", 'r') as f:\n",
    "            lines = f.readlines()\n",
    "\n",
    "    ### variables to store gene set data\n",
    "    lib_dict = OrderedDict()\n",
    "\n",
    "    if augmented:\n",
    "        print(\"\\tProcessing gene sets and augmenting with ARCHS4...\")\n",
    "    else:\n",
    "        print(\"\\tProcessing gene sets without augmentation...\")\n",
    "\n",
    "    for line in lines:\n",
    "        tokens = line.split(\"\\t\\t\")\n",
    "        term = tokens[0]\n",
    "        genes = [x.split(',')[0].strip() for x in tokens[1].split('\\t')]\n",
    "        lib_dict[term] = ' '.join(genes)\n",
    "    \n",
    "    return lib_dict\n",
    "\n",
    "def process_scatterplot(libdict, nneighbors=30, mindist=0.1, spread=1.0, maxdf=1.0, mindf=1):\n",
    "    print(\"\\tTF-IDF vectorizing gene set data...\")\n",
    "    vec = TfidfVectorizer(max_df=maxdf, min_df=mindf)\n",
    "    X = vec.fit_transform(libdict.values())\n",
    "    print(X.shape)\n",
    "    adata = anndata.AnnData(X)\n",
    "    adata.obs.index = libdict.keys()\n",
    "\n",
    "    print(\"\\tPerforming Leiden clustering...\")\n",
    "    ### the n_neighbors and min_dist parameters can be altered\n",
    "    sc.pp.neighbors(adata, n_neighbors=nneighbors)\n",
    "    sc.tl.leiden(adata, resolution=1.0)\n",
    "    sc.tl.umap(adata, min_dist=mindist, spread=spread, random_state=42)\n",
    "\n",
    "    new_order = adata.obs.sort_values(by='leiden').index.tolist()\n",
    "    adata = adata[new_order, :]\n",
    "    adata.obs['leiden'] = 'Cluster ' + adata.obs['leiden'].astype('object')\n",
    "\n",
    "    df = pd.DataFrame(adata.obsm['X_umap'])\n",
    "    df.columns = ['x', 'y']\n",
    "\n",
    "    df['cluster'] = adata.obs['leiden'].values\n",
    "    df['term'] = adata.obs.index\n",
    "    df['genes'] = [libdict[l] for l in df['term']]\n",
    "\n",
    "    return df\n",
    "\n",
    "def get_scatter_colors(df):\n",
    "    clusters = pd.unique(df['cluster']).tolist()\n",
    "    colors = glasbey.create_palette(palette_size=len(clusters), lightness_bounds=(0,100), chroma_bounds=(50,100), as_hex=True)\n",
    "    color_mapper = {clusters[i]: colors[i % 20] for i in range(len(clusters))}\n",
    "    return color_mapper\n",
    "\n",
    "def get_scatterplot(scatterdf):\n",
    "    df = scatterdf.copy()\n",
    "    color_mapper = get_scatter_colors(df)\n",
    "    df['color'] = df['cluster'].apply(lambda x: color_mapper[x])\n",
    "    df['cluster_number'] = df['cluster'].apply(lambda x: int(x.split(\" \")[-1]))\n",
    "    print(df['cluster_number'])\n",
    "    df.sort_values(by=['cluster_number'], inplace=True)\n",
    "    df.drop(columns = ['cluster_number'])\n",
    "    tooltips = [\n",
    "        (\"Gene Set\", \"@gene_set\"),\n",
    "        (\"Cluster\", \"@label\")\n",
    "    ]\n",
    "        \n",
    "    hover_emb = HoverTool(tooltips=tooltips)\n",
    "    tools_emb = [hover_emb, 'pan', 'wheel_zoom', 'reset', 'save']\n",
    "\n",
    "    plot_emb =  figure(\n",
    "        width=500*2, \n",
    "        height=400*2, \n",
    "        tools=tools_emb,\n",
    "        output_backend='svg'\n",
    "    )\n",
    "\n",
    "    source = ColumnDataSource(\n",
    "        data=dict(\n",
    "            x = df['x'],\n",
    "            y = df['y'],\n",
    "            gene_set = df['term'],\n",
    "            colors = df['color'],\n",
    "            label = df['cluster']\n",
    "        )\n",
    "    )\n",
    "\n",
    "    # hide axis labels and grid lines\n",
    "    plot_emb.xaxis.major_tick_line_color = None\n",
    "    plot_emb.xaxis.minor_tick_line_color = None\n",
    "    plot_emb.yaxis.major_tick_line_color = None\n",
    "    plot_emb.yaxis.minor_tick_line_color = None\n",
    "    plot_emb.grid.grid_line_color = None\n",
    "    plot_emb.xaxis.major_label_text_font_size = '0pt'\n",
    "    plot_emb.yaxis.major_label_text_font_size = '0pt' \n",
    "    \n",
    "    plot_emb.xaxis.axis_label = \"UMAP-1\"\n",
    "    plot_emb.yaxis.axis_label = \"UMAP-2\"\n",
    "    plot_emb.xaxis.axis_label_text_font_size = '40pt'\n",
    "    plot_emb.yaxis.axis_label_text_font_size = '40pt'\n",
    "    plot_emb.xaxis.axis_label_text_font_style = \"normal\"\n",
    "    plot_emb.yaxis.axis_label_text_font_style = \"normal\"\n",
    "\n",
    "\n",
    "    s = plot_emb.scatter(\n",
    "        'x', \n",
    "        'y', \n",
    "        size = 3 *2, \n",
    "        source = source, \n",
    "        marker='circle',\n",
    "        fill_color = 'colors', \n",
    "        color='colors',\n",
    "        legend_group = 'label'\n",
    "    )\n",
    "    plot_emb.legend.label_text_font_size = '18pt'\n",
    "    plot_emb.legend.glyph_height = 20\n",
    "    plot_emb.legend.glyph_width = 20\n",
    "\n",
    "    print(\"legend\", plot_emb.legend[0])\n",
    "    plot_emb.add_layout(plot_emb.legend[0], 'right')\n",
    "    \n",
    "    return plot_emb, source"
   ]
  },
  {
   "cell_type": "code",
   "execution_count": 5,
   "metadata": {},
   "outputs": [
    {
     "name": "stdout",
     "output_type": "stream",
     "text": [
      "\tOpening library locally from './fig_data'...\n",
      "\tProcessing gene sets without augmentation...\n",
      "Now processing network_gmt\n",
      "\tTF-IDF vectorizing gene set data...\n",
      "(700, 1550)\n",
      "\tPerforming Leiden clustering...\n"
     ]
    },
    {
     "name": "stderr",
     "output_type": "stream",
     "text": [
      "/Users/anna/Projects/TranscriptionNetwork-Demo/.venv/lib/python3.12/site-packages/scanpy/tools/_utils.py:41: UserWarning: You’re trying to run this on 1550 dimensions of `.X`, if you really want this, set `use_rep='X'`.\n",
      "         Falling back to preprocessing with `sc.pp.pca` and default params.\n",
      "  warnings.warn(\n",
      "/var/folders/8r/rnwphsss465cd53qqc8bmn_40000gn/T/ipykernel_24483/52403325.py:52: FutureWarning: In the future, the default backend for leiden will be igraph instead of leidenalg.\n",
      "\n",
      " To achieve the future defaults please pass: flavor=\"igraph\" and n_iterations=2.  directed must also be False to work with igraph's implementation.\n",
      "  sc.tl.leiden(adata, resolution=1.0)\n"
     ]
    },
    {
     "name": "stdout",
     "output_type": "stream",
     "text": [
      "\tDone!\n",
      "0       0\n",
      "1       0\n",
      "2       0\n",
      "3       0\n",
      "4       0\n",
      "       ..\n",
      "695    26\n",
      "696    26\n",
      "697    26\n",
      "698    26\n",
      "699    26\n",
      "Name: cluster_number, Length: 700, dtype: int64\n",
      "legend Legend(id='p1039', ...)\n",
      "figure(id='p1002', ...)\n"
     ]
    },
    {
     "name": "stderr",
     "output_type": "stream",
     "text": [
      "/var/folders/8r/rnwphsss465cd53qqc8bmn_40000gn/T/ipykernel_24483/52403325.py:57: ImplicitModificationWarning: Trying to modify attribute `.obs` of view, initializing view as actual.\n",
      "  adata.obs['leiden'] = 'Cluster ' + adata.obs['leiden'].astype('object')\n"
     ]
    },
    {
     "data": {
      "text/html": [
       "<div style='font-size:1.5rem;'>Scatter plot visualization for network_gmt.</div>"
      ],
      "text/plain": [
       "<IPython.core.display.HTML object>"
      ]
     },
     "metadata": {},
     "output_type": "display_data"
    },
    {
     "data": {
      "text/html": [
       "\n",
       "  <div id=\"a54c55f5-f68a-473e-9922-e7f5ea6089c2\" data-root-id=\"p1002\" style=\"display: contents;\"></div>\n"
      ]
     },
     "metadata": {},
     "output_type": "display_data"
    },
    {
     "data": {
      "application/javascript": "(function(root) {\n  function embed_document(root) {\n  const docs_json = {\"25a30637-bd94-4233-9b39-48f41a1ce088\":{\"version\":\"3.6.2\",\"title\":\"Bokeh Application\",\"roots\":[{\"type\":\"object\",\"name\":\"Figure\",\"id\":\"p1002\",\"attributes\":{\"width\":1000,\"height\":800,\"x_range\":{\"type\":\"object\",\"name\":\"DataRange1d\",\"id\":\"p1003\"},\"y_range\":{\"type\":\"object\",\"name\":\"DataRange1d\",\"id\":\"p1004\"},\"x_scale\":{\"type\":\"object\",\"name\":\"LinearScale\",\"id\":\"p1011\"},\"y_scale\":{\"type\":\"object\",\"name\":\"LinearScale\",\"id\":\"p1012\"},\"title\":{\"type\":\"object\",\"name\":\"Title\",\"id\":\"p1009\"},\"renderers\":[{\"type\":\"object\",\"name\":\"GlyphRenderer\",\"id\":\"p1036\",\"attributes\":{\"data_source\":{\"type\":\"object\",\"name\":\"ColumnDataSource\",\"id\":\"p1027\",\"attributes\":{\"selected\":{\"type\":\"object\",\"name\":\"Selection\",\"id\":\"p1028\",\"attributes\":{\"indices\":[],\"line_indices\":[]}},\"selection_policy\":{\"type\":\"object\",\"name\":\"UnionRenderers\",\"id\":\"p1029\"},\"data\":{\"type\":\"map\",\"entries\":[[\"x\",{\"type\":\"ndarray\",\"array\":{\"type\":\"bytes\",\"data\":\"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\"},\"shape\":[700],\"dtype\":\"float32\",\"order\":\"little\"}],[\"y\",{\"type\":\"ndarray\",\"array\":{\"type\":\"bytes\",\"data\":\"/v7sQJ8yAEF6lulACRzvQLZ9AUFySP1AtCkDQYJl/ECjBf9AWqL1QC30+ECFqudAc6/7QOHd60BfTAFBk/zsQFPg8EDCDP5Ajz/wQJTj/EAWOZdA/CnuQF/87UBqKPNAASf2QMbu+UDXjAJBP7r6QLp4AkF++/JAdYH5QPgm+UDaTuZAx0D9QB9e+UCiq/RAuA78QOKp80DJFQRBq6AAQUBg8EDp5exAQwsGQWKrAEE3YPFAVNvrQL2j8kBlUgNBz5D/QOCKA0GzMdRA5df5QNcf9ECGCwJBWDnwQOo66UB4rgBBDKf0QLD050BaxehA4UPzQPftA0Gu9PVAI6HnQGDuAUHYr5pAaQLxQH4TAUFtr/xAozDjQFGbAkFvb+dAtPYAQWaE60ALWP5AikIGQZ626UCtmAZBgaDwQGeX7kCRCelABhAHQU7W9kA+bfFA0pzsQBt59UD/bu9A1CUHQRxtB0EFFQJBki4JQQfzBUGivfNALjkHQfVR+kBNewNBgGTwQFfV+kCb3wFB//sBQexJ5kAL5vpAC9zxQGFL/kA7x+xAeUP7QOTdBkGe3NxArm/oQE5eAEFLTdpAvVICQXZc+UCLfwZBTfAFQZho+0A8yP1AD9ABQYg4B0EbdtxAd2oBQWr+2UAXvABBfwXYQMY7/0Astv9At0QEQcr15kDCSDJBc1YhQUn4LkF3xC9Bm/oaQVPoFUEtvhpBGgwjQX7GFUEuyRpBNKEkQbXeHkHc7i1BfJUsQb7sIkHq3Q5BXOYgQZUyGkFQojBBbPcNQYq9GUHhECBBeDAkQdxbHkHnLQ9BRoUyQXdeGkF+IRtBxaQfQYXEJ0GiECNBr2cNQWhzLkG+RRxBK+sxQbK0GEGUoCNBL4gUQQXMEkF6ORVBWNINQTyNFEHINRlBkowUQZVTKUHw44VBWX2OQYCmh0EEDJBB3imSQckchUFe4IJBvV6SQadyj0F9MoZBjVaPQQhokkHVCoJBZbqCQTXJkUEoAYhBewOSQfr6h0EtE5JB5TaHQadPgkGE7oZBGtyNQaBshUGev4xBgvyJQTrhhkESbJBBxQSMQceEhEHes45BIeqCQd9ajUHyRoZBT0OCQQich0F9CY5BenCFQU3UhEESgINBJ5qSQf1RhUGSrpBB8TxDQdMJSUG8DT9BF6dHQZ7XREFfwChBjX8FQXvESkGW+EdBV9A+QcPVSEE4sz9BgvpEQfHuQEHPj0BBN6pHQXHmO0Fo6UFB9ipHQTXcR0FoOCtBCwM7QZfzO0H3bD9ByodGQS20R0F+DTlBsAdBQZaCR0EO90lBbnFFQTlqSkFZB0VBIa1HQaoHREHX90FBEV9FQUtwQ0EjGURBYRBBQUfBOUH280JBoINsQM/0M0DC4kBAIIE4QGPMREAJlVNA5zs0QNB0X0DmklRAcllDQPUea0CAa2BAUk1aQIKPdEB9mV9Ap0Y6QHIcekAE6V5Ayz0uQBrGPEB5D11AlfRwQPrdb0Dg/i5AWL8/QHFWXUBviThAg4NPQKdWTUDsaWdAdXc8QJ9aPEDW709AxoFRQPbGVkBGaDtALkxAQAS7YUD/2i9AlzovQESPX0Cc9sBAfSXYQORJxEDUP6NA/IGoQEcr3EB11dpAPNT8QKsz0ECXvNhAf3H+QAFhzkDCLK9AkEfMQEZ3n0BkMqpA8ey5QCp//UChOQFBsTStQD6pwEA9qdpAeGO8QLXMvUBDddpAfp8AQZp+wkAE669AHMOsQJafx0DJLbpA4oHkQJM+ukAu7a9AhTuoQBBctr9R/7K+e2a4v/bP7L4gB0C/8v/Pv6oA1L8jneq+SLLQvxGZGb/O89G/7lW2v/QYFL+CrZO/3Zkyv1f0yr/BW8e/IK7XvzYZJL+gf7u/5O3wvi1So7/jYpq+5/qZv/drmL9A9VO/3LeZv/NrpL+2bNW/r86pv6suNb83qL+/1gucv8p3Tb9szaW+Rik+QXioP0GaZDhBDVI5QfLcPUGYWDVB7oY3QXQGOkELxT9BZ6hCQa/BOUFfnUVBbCtAQX2vOkH0Nj5BMMlEQftbRkFVfT5B9nY+QaVXRUE9IztBFeEzQbK+NUGI0TlB1qM0QRgSM0E/FDVBGhc7QXeoPEGGYz1B6fo9QeLOOkEk5j5B0GQyQdggm0BUOYRAMTGWQBgwmkBjk5BAuEWYQNShk0Aim5dAkziWQBnehUCMU41Au2CCQNyTm0A9mYJA71CVQDaUn0CoaZhA7UqaQCPXmUCnjIVAqPubQG8SkEDYvaBAROuWQEdBmkAOY4RAx0ORQC0XmkCSpZRA0ROaQGTnnUCZE5pAJLqaQIXRFUFfEvRABLQVQbwe90A8LhVBdQ4RQfMG9EB7kRVBLK4HQTTaEEG94ARB3dr0QDwSAkEy9wlBtlUQQVQa9EBdHAlBCgcPQWyHFUHM7QhBCdYKQdK6D0GXvgFB9D8HQUqcAUGF4/NAo7INQciHIkH7ZhtBBPQeQSnTHEFEKyNBMSUVQQgXFEEzVRtBV2IdQd7NGUEciSFBk+olQT0DFEEQ1Q9BlJkPQbP+D0GrqhZBYo4ZQZrZD0G3ABlBYYYTQbHJEEGjnBtB4IwdQcQWHkEFax9BtjEZQZ3CLUEduCRBuRAtQS7eLUH/GBFBgmchQZGEKEF6wi5BtLwtQR2BDEEMzyFBQbkQQc01HUGMOy1BjBQkQWs+JEGFYC5BpBkkQYKDD0GEsCZBjWQUQW2RGUFi5w5B0mkOQVGXJUF2+yRBS6vrQNB28ECfkcxAB23MQMH76UBxh/FARP7vQIvl60CTM99ATtDvQEH060AYWOpARFzvQANy7EAsZsxAXGjvQFET7EBDqOpAqWHvQJkW0EDm4M1Ana+VQC29lED/k6tA3MagQLDJn0BoZZVAj12UQHf9q0BnJqxAyTmWQBbHkkBSCJRAn/2gQHs5nEDzH5tAIgufQD3Hp0AYEJNA9RWsQGRroUBXYJRAXOYKQdNdPkFbIxBBM1k+QabsOkGECD9BMhY9Qc0TEUEEL0BBBcMNQdynOUFahj9B6grhQEA/D0E59xBBTpU+QT+TPkE57BBBVUw/QRRUOkE/9AxByQA9P+WAlj9Cyvo/KMz0PxTyOT8Tn6A/AcY7P/OyB0Ap5Pw/MQxnP1BW8z96YvM/uZdIP271tT/DqD8/SGfNPyK0qT9GkrY/xE61Pzfc3D8CzzVA+6VaQNhLMECy7zNA9P00QEQJMkAu21RAhZ8eQNv33kBj+V5ArdNcQEU1X0ACg91Aj9UyQC0uXUCCMd9AgXQ9QOJeO0AO4TZAiOdJQJaER0AwAUtA1v5JQNeuNUBVqEZArZQ4QNa3N0DF4EVA+4NCQCvSNUBUnD1AUiE7QHwIQ0EWRT9B8HA/QYvVP0GjmD9BnYalQPfSQkHT0kJBAQtCQR2RP0E4oUJBarmQQNBVo0B/bEJB+uWHwF1dh8Aoz4bAOayKwImgicDyqobAbaiIwC48hsCEdIjASTiFwHjIisBc6obAklyJwPiY1kAp2c1AQFbXQKuy20AFEM9ADFfcQB3FzkB5TdxAnzbbQKav10DqasxAiq+OQExXj0DBT49AqfuOQNqEjkCxeI5Aa0ePQPVvj0APYwpBzqIIQaFeF0E9nxdBcqgXQRCQCkHZXRdBjxQJQckYkEEGGJBBzhiQQZAYkEG4GJBBgbUGQU61BkFNtQZBcbQGQeS1BkG4dYvAuXaLwLl2i8Clc4vAQ3iLwA==\"},\"shape\":[700],\"dtype\":\"float32\",\"order\":\"little\"}],[\"gene_set\",{\"type\":\"ndarray\",\"array\":[\"VAX1\",\"STAT5B\",\"ZNF883\",\"L3MBTL1\",\"MXD4\",\"E4F1\",\"POU2AF1\",\"ZNF687\",\"SP2\",\"TBX10\",\"MEF2A\",\"ZNF485\",\"ZNF775\",\"THRA\",\"USF2\",\"SOX21\",\"ZBTB39\",\"HMGN3\",\"ZNF540\",\"LTF\",\"HEY1\",\"BRF2\",\"SP9\",\"MSANTD4\",\"ZNF428\",\"GATAD2B\",\"ESR1\",\"ESRRA\",\"ZNF664\",\"ZNF37A\",\"TIGD5\",\"ZNF696\",\"TFCP2\",\"NRF1\",\"ZNF24\",\"ZNF358\",\"HOXB2\",\"THYN1\",\"NKX6-3\",\"ZBTB22\",\"ZNF33A\",\"ZSCAN26\",\"ZNF672\",\"ZNF211\",\"PIN1\",\"GABPA\",\"ZNF614\",\"REPIN1\",\"FOXA2\",\"UBP1\",\"PITX2\",\"ZBTB47\",\"ZNF22\",\"PBX2\",\"ADNP2\",\"HMG20B\",\"ZNF75D\",\"ZNF207\",\"EMX1\",\"NR2F1\",\"ZNF32\",\"ZNF496\",\"ZNF420\",\"SOHLH1\",\"PGR\",\"IRX1\",\"FEV\",\"FOXJ2\",\"ZNF74\",\"ALX4\",\"SREBF1\",\"TBR1\",\"ZNF92\",\"CREBZF\",\"HIVEP1\",\"ZBTB2\",\"ZKSCAN8\",\"ZNF324\",\"NFAT5\",\"ZFP62\",\"FOXJ3\",\"PRDM4\",\"ZNF770\",\"ZNF322\",\"TET2\",\"IKZF5\",\"ZFP69B\",\"ZBTB24\",\"ZNF398\",\"ZBTB11\",\"JRK\",\"ZNF79\",\"ZNF81\",\"KMT2B\",\"ZBTB26\",\"SPEN\",\"CGGBP1\",\"ZNF678\",\"RFX7\",\"ZNF507\",\"ZBTB37\",\"KMT2A\",\"EEA1\",\"ZNF148\",\"ZNF518A\",\"ZBED6\",\"ZNF317\",\"ZNF736\",\"SON\",\"ZNF654\",\"ZNF782\",\"RLF\",\"ASH1L\",\"ZNF134\",\"ZNF416\",\"BPTF\",\"MYSM1\",\"ZBTB21\",\"ZNF830\",\"DMTF1\",\"RBAK\",\"BAZ2B\",\"ZBTB6\",\"ZSCAN30\",\"MGA\",\"ZNF12\",\"ZNF45\",\"ZNF236\",\"NFKB1\",\"CREB3L1\",\"ZNF331\",\"REL\",\"FOS\",\"KCMF1\",\"ATF3\",\"KLF2\",\"ZNF410\",\"HBP1\",\"ETV3\",\"ERF\",\"EGR2\",\"ETS2\",\"NPAS2\",\"CEBPB\",\"MSANTD3\",\"BHLHA15\",\"RELA\",\"ATF5\",\"XBP1\",\"NFE2L2\",\"ZNF394\",\"NR1H2\",\"THAP12\",\"ETV3L\",\"TGIF1\",\"GZF1\",\"FOSL2\",\"FOSL1\",\"EGR3\",\"SKIL\",\"NR4A1\",\"JUN\",\"MSC\",\"ZNF655\",\"SRF\",\"ZNF35\",\"ETV5\",\"CSRNP2\",\"ATF4\",\"HIVEP2\",\"MAFG\",\"NKX2-2\",\"AHRR\",\"MTF1\",\"BATF\",\"NFE4\",\"GFI1\",\"NFATC2\",\"ZBTB48\",\"TFEB\",\"IKZF3\",\"AKNA\",\"TFE3\",\"SP140L\",\"ZNF80\",\"ZBTB34\",\"ZNF438\",\"TBX21\",\"SNAI3\",\"SPIB\",\"CEBPE\",\"STAT4\",\"HLX\",\"PHF21A\",\"SPI1\",\"SP110\",\"ZNF276\",\"IRF5\",\"LYL1\",\"BORCS8-MEF2B\",\"SCML4\",\"IKZF1\",\"CREB5\",\"SP140\",\"ZNF319\",\"TFEC\",\"FLI1\",\"ZNF641\",\"ELF4\",\"IRF8\",\"JDP2\",\"ZNF467\",\"ZNF746\",\"TCF7\",\"MXD1\",\"ZNF831\",\"MBD3\",\"GLI4\",\"MYPOP\",\"ZBTB45\",\"FIZ1\",\"RARG\",\"MNT\",\"RBCK1\",\"CIC\",\"ZNF219\",\"ZNF444\",\"FBXL19\",\"GMEB2\",\"DRAP1\",\"RXRB\",\"BAZ2A\",\"ZBTB7A\",\"ZNF335\",\"ZNF316\",\"PRR12\",\"ZBTB7B\",\"FOXP4\",\"ZBTB42\",\"MBD6\",\"ZNF524\",\"ZNF142\",\"AHDC1\",\"AKAP8L\",\"CXXC1\",\"CC2D1A\",\"ZBTB17\",\"ZNF580\",\"ZNF668\",\"SRCAP\",\"GATAD2A\",\"ZNF512B\",\"ZNF787\",\"ZNF282\",\"ZNF837\",\"SNAPC2\",\"NR2F6\",\"KLF16\",\"LHX1\",\"GLI3\",\"MYT1\",\"SOX1\",\"DPF1\",\"NHLH2\",\"NPAS3\",\"POU3F4\",\"OLIG2\",\"SCRT2\",\"INSM2\",\"CAMTA1\",\"PEG3\",\"INSM1\",\"ZNF536\",\"POU3F3\",\"NR2E1\",\"NEUROD6\",\"PURG\",\"SALL2\",\"DACH2\",\"DBX2\",\"SOX3\",\"CSRNP3\",\"SALL3\",\"RORB\",\"GLI2\",\"FOXG1\",\"KCNIP3\",\"FEZF1\",\"POU3F2\",\"SOX2\",\"MEIS3\",\"ARNT2\",\"ZMAT4\",\"CXXC4\",\"PCGF2\",\"ZNF365\",\"SCRT1\",\"MYT1L\",\"ZNF804A\",\"KLF12\",\"ZNF385D\",\"NFIA\",\"EBF3\",\"SOX11\",\"ZNF251\",\"ZSCAN23\",\"ZNF248\",\"ZNF300\",\"RBSN\",\"ZNF362\",\"ZNF354C\",\"MEIS2\",\"TCF4\",\"EBF2\",\"LHX9\",\"ZNF608\",\"PBX3\",\"NKX2-1\",\"ZNF25\",\"PBX1\",\"ZNF445\",\"ZNF532\",\"TSHZ1\",\"ZNF214\",\"ZBTB4\",\"ZNF827\",\"DACH1\",\"ZNF521\",\"ZNF423\",\"ZNF618\",\"ZNF449\",\"ZNF704\",\"ZFHX4\",\"ST18\",\"AEBP1\",\"SOX17\",\"PRRX2\",\"SOX18\",\"GLIS1\",\"ZNF469\",\"RFX8\",\"BCL6B\",\"ELK3\",\"ATOH8\",\"SNAI2\",\"PRRX1\",\"MEOX2\",\"FOXC2\",\"HEYL\",\"TEAD3\",\"TWIST2\",\"FOXD1\",\"OSR2\",\"OSR1\",\"MEOX1\",\"TSHZ3\",\"ZNF792\",\"NFATC4\",\"TBX18\",\"FOXS1\",\"FOXL1\",\"MKX\",\"HMGA2\",\"TWIST1\",\"HIC1\",\"GLIS2\",\"BNC2\",\"FOXF1\",\"SOX7\",\"FOXK2\",\"THAP7\",\"POU5F1B\",\"CHCHD3\",\"GLYR1\",\"PRMT3\",\"ZNF239\",\"CHAMP1\",\"THAP4\",\"REXO4\",\"ZNF202\",\"ZNF777\",\"PREB\",\"MLX\",\"ZNF581\",\"ZNF408\",\"SAFB\",\"ZNF511\",\"ZBTB9\",\"ZNF598\",\"GTF2I\",\"ZNF670\",\"ZNF888\",\"SNAPC5\",\"ZNF146\",\"TTF1\",\"MTERF3\",\"ZBED4\",\"ZNF749\",\"THAP3\",\"ZNF324B\",\"GTF3A\",\"CENPX\",\"PCGF6\",\"ZIC4\",\"SOX10\",\"ZSCAN18\",\"FLYWCH1\",\"ZBTB18\",\"LHX5\",\"CXXC5\",\"NACC2\",\"BHLHE22\",\"BHLHE41\",\"SGSM2\",\"OLIG1\",\"EBF4\",\"SOX8\",\"ZNF488\",\"PATZ1\",\"BARHL1\",\"ZNF692\",\"ZNF76\",\"MYRF\",\"SAFB2\",\"POU6F1\",\"SOX12\",\"ZNF853\",\"ZIC2\",\"NKX6-2\",\"CAMTA2\",\"MZF1\",\"TEF\",\"EN2\",\"ANKZF1\",\"SCX\",\"HSF4\",\"ZNF609\",\"AEBP2\",\"ZNF740\",\"ZNF644\",\"TCF20\",\"ATF7\",\"SP3\",\"ZBTB40\",\"ZNF217\",\"ZFHX3\",\"ZBTB1\",\"ZFX\",\"ZNF805\",\"KLF7\",\"ZNF407\",\"FOXN2\",\"KLF3\",\"FOXN3\",\"KDM2A\",\"MBNL2\",\"VEZF1\",\"PRDM2\",\"ZNF460\",\"ARID5B\",\"ZNF800\",\"DR1\",\"NCOA2\",\"EPAS1\",\"ELF5\",\"TRPS1\",\"HOXB13\",\"RUNX2\",\"ZBED3\",\"MITF\",\"MESP1\",\"NKX3-1\",\"SOX13\",\"AHR\",\"SMAD3\",\"HLF\",\"DMRT2\",\"PPARG\",\"TSHZ2\",\"NR1H3\",\"KLF9\",\"IRX6\",\"FOXO1\",\"RORC\",\"ARNTL\",\"FOXA1\",\"CREB3L4\",\"ZNF436\",\"SPDEF\",\"ZNF385B\",\"FOXQ1\",\"GRHL1\",\"GRHL3\",\"EHF\",\"CASZ1\",\"SOX15\",\"ZNF750\",\"IRF6\",\"ELF3\",\"ZNF503\",\"IRX4\",\"IRX5\",\"BARX2\",\"TFCP2L1\",\"GRHL2\",\"TFAP2C\",\"OVOL1\",\"SP6\",\"TP63\",\"ARNTL2\",\"DLX3\",\"ZBTB7C\",\"NKX1-2\",\"HES2\",\"BNC1\",\"FOXN1\",\"ELF1\",\"ZBED5\",\"HMG20A\",\"SOX4\",\"ZNF253\",\"ZMAT1\",\"ZNF841\",\"ZNF229\",\"ZNF254\",\"ZNF783\",\"ZNF605\",\"ZNF737\",\"ZNF789\",\"ZNF528\",\"ZNF260\",\"ZNF266\",\"ZNF418\",\"ZNF112\",\"ZNF182\",\"TEAD2\",\"ZNF286A\",\"KLF6\",\"DDIT3\",\"ZBTB38\",\"TEAD1\",\"GLIS3\",\"SNAI1\",\"NFIL3\",\"FOXO3\",\"HIF1A\",\"KLF10\",\"CSRNP1\",\"JUNB\",\"CREB3L2\",\"ZNF697\",\"CEBPG\",\"SETBP1\",\"CREBL2\",\"FOSB\",\"ZNF395\",\"ZHX3\",\"NR4A3\",\"TGIF2\",\"HES3\",\"GATA1\",\"ZIC5\",\"ETV4\",\"POU5F1\",\"TCF7L1\",\"GFI1B\",\"ZNF121\",\"E2F2\",\"E2F4\",\"HESX1\",\"DZIP1\",\"KLF1\",\"RHOXF2\",\"ZIC3\",\"NANOG\",\"TAL1\",\"FOXH1\",\"E2F8\",\"MXD3\",\"MYF6\",\"NKX2-5\",\"HOXD10\",\"HOXD3\",\"MYOG\",\"NKX2-6\",\"MYOD1\",\"HOXB3\",\"HOXA3\",\"DPF3\",\"HOXD11\",\"HOXD9\",\"RXRG\",\"HAND2\",\"YBX3\",\"GATA6\",\"TBX20\",\"GATA4\",\"TBX5\",\"HAND1\",\"HOXD8\",\"HOXB5\",\"HOXC4\",\"HOXA6\",\"HOXA11\",\"HOXC5\",\"HOXB6\",\"HOXC6\",\"NKX6-1\",\"HOXB8\",\"HOXA5\",\"HOXA2\",\"HOXA13\",\"HOXC11\",\"HOXA4\",\"PHOX2B\",\"HOXD4\",\"CDX1\",\"HNF1B\",\"ARID3C\",\"CREB3L3\",\"NR1I3\",\"MLXIPL\",\"MYRFL\",\"NR1H4\",\"HNF4G\",\"CDX2\",\"NR1I2\",\"HNF1A\",\"HNF4A\",\"FOXA3\",\"ISX\",\"SP100\",\"RELB\",\"NFKB2\",\"BATF3\",\"TRAFD1\",\"GLMP\",\"STAT2\",\"IRF9\",\"PLSCR1\",\"ZNF267\",\"IRF7\",\"ARID5A\",\"USF1\",\"BATF2\",\"ZNF367\",\"FOXM1\",\"TFDP1\",\"MYBL2\",\"ZNF93\",\"E2F1\",\"ZNF695\",\"PA2G4\",\"CENPA\",\"HMGA1\",\"ZNF878\",\"DNMT1\",\"E2F7\",\"ZNF550\",\"ZNF514\",\"ZNF227\",\"ZNF785\",\"ZNF594\",\"ZNF844\",\"ZNF606\",\"ZNF417\",\"ZNF776\",\"ZNF845\",\"ZNF780B\",\"SRY\",\"AR\",\"ZFY\",\"VDR\",\"STAT3\",\"MYC\",\"TP53\",\"KLF4\",\"IRF4\",\"ZNF107\",\"LEF1\",\"WT1\",\"FOXP3\",\"IKZF2\",\"MTERF4\",\"MEF2B\",\"ETV7\",\"STAT1\",\"PRDM1\",\"IRF1\",\"IRF2\",\"CCDC17\",\"ZNF474\",\"TIGD4\",\"RFX3\",\"FOXJ1\",\"MAFA\",\"SIX1\",\"PITX3\",\"TBX15\",\"MYF5\"],\"shape\":[700],\"dtype\":\"object\",\"order\":\"little\"}],[\"colors\",{\"type\":\"ndarray\",\"array\":[\"#d70000\",\"#d70000\",\"#d70000\",\"#d70000\",\"#d70000\",\"#d70000\",\"#d70000\",\"#d70000\",\"#d70000\",\"#d70000\",\"#d70000\",\"#d70000\",\"#d70000\",\"#d70000\",\"#d70000\",\"#d70000\",\"#d70000\",\"#d70000\",\"#d70000\",\"#d70000\",\"#d70000\",\"#d70000\",\"#d70000\",\"#d70000\",\"#d70000\",\"#d70000\",\"#d70000\",\"#d70000\",\"#d70000\",\"#d70000\",\"#d70000\",\"#d70000\",\"#d70000\",\"#d70000\",\"#d70000\",\"#d70000\",\"#d70000\",\"#d70000\",\"#d70000\",\"#d70000\",\"#d70000\",\"#d70000\",\"#d70000\",\"#d70000\",\"#d70000\",\"#d70000\",\"#d70000\",\"#d70000\",\"#d70000\",\"#d70000\",\"#d70000\",\"#d70000\",\"#d70000\",\"#d70000\",\"#d70000\",\"#d70000\",\"#d70000\",\"#d70000\",\"#d70000\",\"#d70000\",\"#d70000\",\"#d70000\",\"#d70000\",\"#d70000\",\"#d70000\",\"#d70000\",\"#d70000\",\"#d70000\",\"#d70000\",\"#d70000\",\"#d70000\",\"#d70000\",\"#d70000\",\"#8a3dff\",\"#8a3dff\",\"#8a3dff\",\"#8a3dff\",\"#8a3dff\",\"#8a3dff\",\"#8a3dff\",\"#8a3dff\",\"#8a3dff\",\"#8a3dff\",\"#8a3dff\",\"#8a3dff\",\"#8a3dff\",\"#8a3dff\",\"#8a3dff\",\"#8a3dff\",\"#8a3dff\",\"#8a3dff\",\"#8a3dff\",\"#8a3dff\",\"#8a3dff\",\"#8a3dff\",\"#8a3dff\",\"#8a3dff\",\"#8a3dff\",\"#8a3dff\",\"#8a3dff\",\"#8a3dff\",\"#8a3dff\",\"#8a3dff\",\"#8a3dff\",\"#8a3dff\",\"#8a3dff\",\"#8a3dff\",\"#8a3dff\",\"#8a3dff\",\"#8a3dff\",\"#8a3dff\",\"#8a3dff\",\"#8a3dff\",\"#8a3dff\",\"#8a3dff\",\"#8a3dff\",\"#8a3dff\",\"#8a3dff\",\"#8a3dff\",\"#8a3dff\",\"#8a3dff\",\"#8a3dff\",\"#8a3dff\",\"#8a3dff\",\"#8a3dff\",\"#8a3dff\",\"#8a3dff\",\"#8a3dff\",\"#008a00\",\"#008a00\",\"#008a00\",\"#008a00\",\"#008a00\",\"#008a00\",\"#008a00\",\"#008a00\",\"#008a00\",\"#008a00\",\"#008a00\",\"#008a00\",\"#008a00\",\"#008a00\",\"#008a00\",\"#008a00\",\"#008a00\",\"#008a00\",\"#008a00\",\"#008a00\",\"#008a00\",\"#008a00\",\"#008a00\",\"#008a00\",\"#008a00\",\"#008a00\",\"#008a00\",\"#008a00\",\"#008a00\",\"#008a00\",\"#008a00\",\"#008a00\",\"#008a00\",\"#008a00\",\"#008a00\",\"#008a00\",\"#008a00\",\"#008a00\",\"#008a00\",\"#008a00\",\"#008a00\",\"#008a00\",\"#008a00\",\"#008a00\",\"#008a00\",\"#00aeca\",\"#00aeca\",\"#00aeca\",\"#00aeca\",\"#00aeca\",\"#00aeca\",\"#00aeca\",\"#00aeca\",\"#00aeca\",\"#00aeca\",\"#00aeca\",\"#00aeca\",\"#00aeca\",\"#00aeca\",\"#00aeca\",\"#00aeca\",\"#00aeca\",\"#00aeca\",\"#00aeca\",\"#00aeca\",\"#00aeca\",\"#00aeca\",\"#00aeca\",\"#00aeca\",\"#00aeca\",\"#00aeca\",\"#00aeca\",\"#00aeca\",\"#00aeca\",\"#00aeca\",\"#00aeca\",\"#00aeca\",\"#00aeca\",\"#00aeca\",\"#00aeca\",\"#00aeca\",\"#00aeca\",\"#00aeca\",\"#00aeca\",\"#00aeca\",\"#00aeca\",\"#00aeca\",\"#00aeca\",\"#9eff00\",\"#9eff00\",\"#9eff00\",\"#9eff00\",\"#9eff00\",\"#9eff00\",\"#9eff00\",\"#9eff00\",\"#9eff00\",\"#9eff00\",\"#9eff00\",\"#9eff00\",\"#9eff00\",\"#9eff00\",\"#9eff00\",\"#9eff00\",\"#9eff00\",\"#9eff00\",\"#9eff00\",\"#9eff00\",\"#9eff00\",\"#9eff00\",\"#9eff00\",\"#9eff00\",\"#9eff00\",\"#9eff00\",\"#9eff00\",\"#9eff00\",\"#9eff00\",\"#9eff00\",\"#9eff00\",\"#9eff00\",\"#9eff00\",\"#9eff00\",\"#9eff00\",\"#9eff00\",\"#9eff00\",\"#9eff00\",\"#9eff00\",\"#9eff00\",\"#9eff00\",\"#9eff00\",\"#ff7dd2\",\"#ff7dd2\",\"#ff7dd2\",\"#ff7dd2\",\"#ff7dd2\",\"#ff7dd2\",\"#ff7dd2\",\"#ff7dd2\",\"#ff7dd2\",\"#ff7dd2\",\"#ff7dd2\",\"#ff7dd2\",\"#ff7dd2\",\"#ff7dd2\",\"#ff7dd2\",\"#ff7dd2\",\"#ff7dd2\",\"#ff7dd2\",\"#ff7dd2\",\"#ff7dd2\",\"#ff7dd2\",\"#ff7dd2\",\"#ff7dd2\",\"#ff7dd2\",\"#ff7dd2\",\"#ff7dd2\",\"#ff7dd2\",\"#ff7dd2\",\"#ff7dd2\",\"#ff7dd2\",\"#ff7dd2\",\"#ff7dd2\",\"#ff7dd2\",\"#ff7dd2\",\"#ff7dd2\",\"#ff7dd2\",\"#ff7dd2\",\"#ff7dd2\",\"#ff7dd2\",\"#ff7dd2\",\"#ff7dd2\",\"#6d0051\",\"#6d0051\",\"#6d0051\",\"#6d0051\",\"#6d0051\",\"#6d0051\",\"#6d0051\",\"#6d0051\",\"#6d0051\",\"#6d0051\",\"#6d0051\",\"#6d0051\",\"#6d0051\",\"#6d0051\",\"#6d0051\",\"#6d0051\",\"#6d0051\",\"#6d0051\",\"#6d0051\",\"#6d0051\",\"#6d0051\",\"#6d0051\",\"#6d0051\",\"#6d0051\",\"#6d0051\",\"#6d0051\",\"#6d0051\",\"#6d0051\",\"#6d0051\",\"#6d0051\",\"#6d0051\",\"#6d0051\",\"#6d0051\",\"#6d0051\",\"#6d0051\",\"#ffa220\",\"#ffa220\",\"#ffa220\",\"#ffa220\",\"#ffa220\",\"#ffa220\",\"#ffa220\",\"#ffa220\",\"#ffa220\",\"#ffa220\",\"#ffa220\",\"#ffa220\",\"#ffa220\",\"#ffa220\",\"#ffa220\",\"#ffa220\",\"#ffa220\",\"#ffa220\",\"#ffa220\",\"#ffa220\",\"#ffa220\",\"#ffa220\",\"#ffa220\",\"#ffa220\",\"#ffa220\",\"#ffa220\",\"#ffa220\",\"#ffa220\",\"#ffa220\",\"#ffa220\",\"#ffa220\",\"#ffa220\",\"#ffa220\",\"#ffa220\",\"#ffa220\",\"#04009a\",\"#04009a\",\"#04009a\",\"#04009a\",\"#04009a\",\"#04009a\",\"#04009a\",\"#04009a\",\"#04009a\",\"#04009a\",\"#04009a\",\"#04009a\",\"#04009a\",\"#04009a\",\"#04009a\",\"#04009a\",\"#04009a\",\"#04009a\",\"#04009a\",\"#04009a\",\"#04009a\",\"#04009a\",\"#04009a\",\"#04009a\",\"#04009a\",\"#04009a\",\"#04009a\",\"#04009a\",\"#04009a\",\"#04009a\",\"#04009a\",\"#04009a\",\"#04009a\",\"#04009a\",\"#00ffce\",\"#00ffce\",\"#00ffce\",\"#00ffce\",\"#00ffce\",\"#00ffce\",\"#00ffce\",\"#00ffce\",\"#00ffce\",\"#00ffce\",\"#00ffce\",\"#00ffce\",\"#00ffce\",\"#00ffce\",\"#00ffce\",\"#00ffce\",\"#00ffce\",\"#00ffce\",\"#00ffce\",\"#00ffce\",\"#00ffce\",\"#00ffce\",\"#00ffce\",\"#00ffce\",\"#00ffce\",\"#00ffce\",\"#00ffce\",\"#00ffce\",\"#00ffce\",\"#00ffce\",\"#00ffce\",\"#00ffce\",\"#00ffce\",\"#712400\",\"#712400\",\"#712400\",\"#712400\",\"#712400\",\"#712400\",\"#712400\",\"#712400\",\"#712400\",\"#712400\",\"#712400\",\"#712400\",\"#712400\",\"#712400\",\"#712400\",\"#712400\",\"#712400\",\"#712400\",\"#712400\",\"#712400\",\"#712400\",\"#712400\",\"#712400\",\"#712400\",\"#712400\",\"#712400\",\"#712400\",\"#aaa2ff\",\"#aaa2ff\",\"#aaa2ff\",\"#aaa2ff\",\"#aaa2ff\",\"#aaa2ff\",\"#aaa2ff\",\"#aaa2ff\",\"#aaa2ff\",\"#aaa2ff\",\"#aaa2ff\",\"#aaa2ff\",\"#aaa2ff\",\"#aaa2ff\",\"#aaa2ff\",\"#aaa2ff\",\"#aaa2ff\",\"#aaa2ff\",\"#aaa2ff\",\"#aaa2ff\",\"#aaa2ff\",\"#aaa2ff\",\"#aaa2ff\",\"#aaa2ff\",\"#aaa2ff\",\"#aaa2ff\",\"#aaa2ff\",\"#a26900\",\"#a26900\",\"#a26900\",\"#a26900\",\"#a26900\",\"#a26900\",\"#a26900\",\"#a26900\",\"#a26900\",\"#a26900\",\"#a26900\",\"#a26900\",\"#a26900\",\"#a26900\",\"#a26900\",\"#a26900\",\"#a26900\",\"#a26900\",\"#a26900\",\"#a26900\",\"#a26900\",\"#a26900\",\"#a26900\",\"#a26900\",\"#a26900\",\"#a26900\",\"#0069ae\",\"#0069ae\",\"#0069ae\",\"#0069ae\",\"#0069ae\",\"#0069ae\",\"#0069ae\",\"#0069ae\",\"#0069ae\",\"#0069ae\",\"#0069ae\",\"#0069ae\",\"#0069ae\",\"#0069ae\",\"#0069ae\",\"#0069ae\",\"#0069ae\",\"#0069ae\",\"#0069ae\",\"#0069ae\",\"#0069ae\",\"#be10ba\",\"#be10ba\",\"#be10ba\",\"#be10ba\",\"#be10ba\",\"#be10ba\",\"#be10ba\",\"#be10ba\",\"#be10ba\",\"#be10ba\",\"#be10ba\",\"#be10ba\",\"#be10ba\",\"#be10ba\",\"#be10ba\",\"#be10ba\",\"#be10ba\",\"#be10ba\",\"#be10ba\",\"#be10ba\",\"#be10ba\",\"#9ab245\",\"#9ab245\",\"#9ab245\",\"#9ab245\",\"#9ab245\",\"#9ab245\",\"#9ab245\",\"#9ab245\",\"#9ab245\",\"#9ab245\",\"#9ab245\",\"#9ab245\",\"#9ab245\",\"#9ab245\",\"#9ab245\",\"#9ab245\",\"#9ab245\",\"#9ab245\",\"#9ab245\",\"#9ab245\",\"#9ab245\",\"#590496\",\"#590496\",\"#590496\",\"#590496\",\"#590496\",\"#590496\",\"#590496\",\"#590496\",\"#590496\",\"#590496\",\"#590496\",\"#590496\",\"#590496\",\"#590496\",\"#590496\",\"#590496\",\"#590496\",\"#590496\",\"#590496\",\"#590496\",\"#004d00\",\"#004d00\",\"#004d00\",\"#004d00\",\"#004d00\",\"#004d00\",\"#004d00\",\"#004d00\",\"#004d00\",\"#004d00\",\"#004d00\",\"#004d00\",\"#004d00\",\"#004d00\",\"#004d00\",\"#004d00\",\"#004d00\",\"#e77569\",\"#e77569\",\"#e77569\",\"#e77569\",\"#e77569\",\"#e77569\",\"#e77569\",\"#e77569\",\"#e77569\",\"#e77569\",\"#e77569\",\"#e77569\",\"#e77569\",\"#e77569\",\"#e77569\",\"#00b282\",\"#00b282\",\"#00b282\",\"#00b282\",\"#00b282\",\"#00b282\",\"#00b282\",\"#00b282\",\"#00b282\",\"#00b282\",\"#00b282\",\"#00b282\",\"#00b282\",\"#00b282\",\"#d70000\",\"#d70000\",\"#d70000\",\"#d70000\",\"#d70000\",\"#d70000\",\"#d70000\",\"#d70000\",\"#d70000\",\"#d70000\",\"#d70000\",\"#d70000\",\"#d70000\",\"#8a3dff\",\"#8a3dff\",\"#8a3dff\",\"#8a3dff\",\"#8a3dff\",\"#8a3dff\",\"#8a3dff\",\"#8a3dff\",\"#8a3dff\",\"#8a3dff\",\"#8a3dff\",\"#008a00\",\"#008a00\",\"#008a00\",\"#008a00\",\"#008a00\",\"#008a00\",\"#008a00\",\"#008a00\",\"#00aeca\",\"#00aeca\",\"#00aeca\",\"#00aeca\",\"#00aeca\",\"#00aeca\",\"#00aeca\",\"#00aeca\",\"#9eff00\",\"#9eff00\",\"#9eff00\",\"#9eff00\",\"#9eff00\",\"#ff7dd2\",\"#ff7dd2\",\"#ff7dd2\",\"#ff7dd2\",\"#ff7dd2\",\"#6d0051\",\"#6d0051\",\"#6d0051\",\"#6d0051\",\"#6d0051\"],\"shape\":[700],\"dtype\":\"object\",\"order\":\"little\"}],[\"label\",{\"type\":\"ndarray\",\"array\":[\"Cluster 0\",\"Cluster 0\",\"Cluster 0\",\"Cluster 0\",\"Cluster 0\",\"Cluster 0\",\"Cluster 0\",\"Cluster 0\",\"Cluster 0\",\"Cluster 0\",\"Cluster 0\",\"Cluster 0\",\"Cluster 0\",\"Cluster 0\",\"Cluster 0\",\"Cluster 0\",\"Cluster 0\",\"Cluster 0\",\"Cluster 0\",\"Cluster 0\",\"Cluster 0\",\"Cluster 0\",\"Cluster 0\",\"Cluster 0\",\"Cluster 0\",\"Cluster 0\",\"Cluster 0\",\"Cluster 0\",\"Cluster 0\",\"Cluster 0\",\"Cluster 0\",\"Cluster 0\",\"Cluster 0\",\"Cluster 0\",\"Cluster 0\",\"Cluster 0\",\"Cluster 0\",\"Cluster 0\",\"Cluster 0\",\"Cluster 0\",\"Cluster 0\",\"Cluster 0\",\"Cluster 0\",\"Cluster 0\",\"Cluster 0\",\"Cluster 0\",\"Cluster 0\",\"Cluster 0\",\"Cluster 0\",\"Cluster 0\",\"Cluster 0\",\"Cluster 0\",\"Cluster 0\",\"Cluster 0\",\"Cluster 0\",\"Cluster 0\",\"Cluster 0\",\"Cluster 0\",\"Cluster 0\",\"Cluster 0\",\"Cluster 0\",\"Cluster 0\",\"Cluster 0\",\"Cluster 0\",\"Cluster 0\",\"Cluster 0\",\"Cluster 0\",\"Cluster 0\",\"Cluster 0\",\"Cluster 0\",\"Cluster 0\",\"Cluster 0\",\"Cluster 0\",\"Cluster 1\",\"Cluster 1\",\"Cluster 1\",\"Cluster 1\",\"Cluster 1\",\"Cluster 1\",\"Cluster 1\",\"Cluster 1\",\"Cluster 1\",\"Cluster 1\",\"Cluster 1\",\"Cluster 1\",\"Cluster 1\",\"Cluster 1\",\"Cluster 1\",\"Cluster 1\",\"Cluster 1\",\"Cluster 1\",\"Cluster 1\",\"Cluster 1\",\"Cluster 1\",\"Cluster 1\",\"Cluster 1\",\"Cluster 1\",\"Cluster 1\",\"Cluster 1\",\"Cluster 1\",\"Cluster 1\",\"Cluster 1\",\"Cluster 1\",\"Cluster 1\",\"Cluster 1\",\"Cluster 1\",\"Cluster 1\",\"Cluster 1\",\"Cluster 1\",\"Cluster 1\",\"Cluster 1\",\"Cluster 1\",\"Cluster 1\",\"Cluster 1\",\"Cluster 1\",\"Cluster 1\",\"Cluster 1\",\"Cluster 1\",\"Cluster 1\",\"Cluster 1\",\"Cluster 1\",\"Cluster 1\",\"Cluster 1\",\"Cluster 1\",\"Cluster 1\",\"Cluster 1\",\"Cluster 1\",\"Cluster 1\",\"Cluster 2\",\"Cluster 2\",\"Cluster 2\",\"Cluster 2\",\"Cluster 2\",\"Cluster 2\",\"Cluster 2\",\"Cluster 2\",\"Cluster 2\",\"Cluster 2\",\"Cluster 2\",\"Cluster 2\",\"Cluster 2\",\"Cluster 2\",\"Cluster 2\",\"Cluster 2\",\"Cluster 2\",\"Cluster 2\",\"Cluster 2\",\"Cluster 2\",\"Cluster 2\",\"Cluster 2\",\"Cluster 2\",\"Cluster 2\",\"Cluster 2\",\"Cluster 2\",\"Cluster 2\",\"Cluster 2\",\"Cluster 2\",\"Cluster 2\",\"Cluster 2\",\"Cluster 2\",\"Cluster 2\",\"Cluster 2\",\"Cluster 2\",\"Cluster 2\",\"Cluster 2\",\"Cluster 2\",\"Cluster 2\",\"Cluster 2\",\"Cluster 2\",\"Cluster 2\",\"Cluster 2\",\"Cluster 2\",\"Cluster 2\",\"Cluster 3\",\"Cluster 3\",\"Cluster 3\",\"Cluster 3\",\"Cluster 3\",\"Cluster 3\",\"Cluster 3\",\"Cluster 3\",\"Cluster 3\",\"Cluster 3\",\"Cluster 3\",\"Cluster 3\",\"Cluster 3\",\"Cluster 3\",\"Cluster 3\",\"Cluster 3\",\"Cluster 3\",\"Cluster 3\",\"Cluster 3\",\"Cluster 3\",\"Cluster 3\",\"Cluster 3\",\"Cluster 3\",\"Cluster 3\",\"Cluster 3\",\"Cluster 3\",\"Cluster 3\",\"Cluster 3\",\"Cluster 3\",\"Cluster 3\",\"Cluster 3\",\"Cluster 3\",\"Cluster 3\",\"Cluster 3\",\"Cluster 3\",\"Cluster 3\",\"Cluster 3\",\"Cluster 3\",\"Cluster 3\",\"Cluster 3\",\"Cluster 3\",\"Cluster 3\",\"Cluster 3\",\"Cluster 4\",\"Cluster 4\",\"Cluster 4\",\"Cluster 4\",\"Cluster 4\",\"Cluster 4\",\"Cluster 4\",\"Cluster 4\",\"Cluster 4\",\"Cluster 4\",\"Cluster 4\",\"Cluster 4\",\"Cluster 4\",\"Cluster 4\",\"Cluster 4\",\"Cluster 4\",\"Cluster 4\",\"Cluster 4\",\"Cluster 4\",\"Cluster 4\",\"Cluster 4\",\"Cluster 4\",\"Cluster 4\",\"Cluster 4\",\"Cluster 4\",\"Cluster 4\",\"Cluster 4\",\"Cluster 4\",\"Cluster 4\",\"Cluster 4\",\"Cluster 4\",\"Cluster 4\",\"Cluster 4\",\"Cluster 4\",\"Cluster 4\",\"Cluster 4\",\"Cluster 4\",\"Cluster 4\",\"Cluster 4\",\"Cluster 4\",\"Cluster 4\",\"Cluster 4\",\"Cluster 5\",\"Cluster 5\",\"Cluster 5\",\"Cluster 5\",\"Cluster 5\",\"Cluster 5\",\"Cluster 5\",\"Cluster 5\",\"Cluster 5\",\"Cluster 5\",\"Cluster 5\",\"Cluster 5\",\"Cluster 5\",\"Cluster 5\",\"Cluster 5\",\"Cluster 5\",\"Cluster 5\",\"Cluster 5\",\"Cluster 5\",\"Cluster 5\",\"Cluster 5\",\"Cluster 5\",\"Cluster 5\",\"Cluster 5\",\"Cluster 5\",\"Cluster 5\",\"Cluster 5\",\"Cluster 5\",\"Cluster 5\",\"Cluster 5\",\"Cluster 5\",\"Cluster 5\",\"Cluster 5\",\"Cluster 5\",\"Cluster 5\",\"Cluster 5\",\"Cluster 5\",\"Cluster 5\",\"Cluster 5\",\"Cluster 5\",\"Cluster 5\",\"Cluster 6\",\"Cluster 6\",\"Cluster 6\",\"Cluster 6\",\"Cluster 6\",\"Cluster 6\",\"Cluster 6\",\"Cluster 6\",\"Cluster 6\",\"Cluster 6\",\"Cluster 6\",\"Cluster 6\",\"Cluster 6\",\"Cluster 6\",\"Cluster 6\",\"Cluster 6\",\"Cluster 6\",\"Cluster 6\",\"Cluster 6\",\"Cluster 6\",\"Cluster 6\",\"Cluster 6\",\"Cluster 6\",\"Cluster 6\",\"Cluster 6\",\"Cluster 6\",\"Cluster 6\",\"Cluster 6\",\"Cluster 6\",\"Cluster 6\",\"Cluster 6\",\"Cluster 6\",\"Cluster 6\",\"Cluster 6\",\"Cluster 6\",\"Cluster 7\",\"Cluster 7\",\"Cluster 7\",\"Cluster 7\",\"Cluster 7\",\"Cluster 7\",\"Cluster 7\",\"Cluster 7\",\"Cluster 7\",\"Cluster 7\",\"Cluster 7\",\"Cluster 7\",\"Cluster 7\",\"Cluster 7\",\"Cluster 7\",\"Cluster 7\",\"Cluster 7\",\"Cluster 7\",\"Cluster 7\",\"Cluster 7\",\"Cluster 7\",\"Cluster 7\",\"Cluster 7\",\"Cluster 7\",\"Cluster 7\",\"Cluster 7\",\"Cluster 7\",\"Cluster 7\",\"Cluster 7\",\"Cluster 7\",\"Cluster 7\",\"Cluster 7\",\"Cluster 7\",\"Cluster 7\",\"Cluster 7\",\"Cluster 8\",\"Cluster 8\",\"Cluster 8\",\"Cluster 8\",\"Cluster 8\",\"Cluster 8\",\"Cluster 8\",\"Cluster 8\",\"Cluster 8\",\"Cluster 8\",\"Cluster 8\",\"Cluster 8\",\"Cluster 8\",\"Cluster 8\",\"Cluster 8\",\"Cluster 8\",\"Cluster 8\",\"Cluster 8\",\"Cluster 8\",\"Cluster 8\",\"Cluster 8\",\"Cluster 8\",\"Cluster 8\",\"Cluster 8\",\"Cluster 8\",\"Cluster 8\",\"Cluster 8\",\"Cluster 8\",\"Cluster 8\",\"Cluster 8\",\"Cluster 8\",\"Cluster 8\",\"Cluster 8\",\"Cluster 8\",\"Cluster 9\",\"Cluster 9\",\"Cluster 9\",\"Cluster 9\",\"Cluster 9\",\"Cluster 9\",\"Cluster 9\",\"Cluster 9\",\"Cluster 9\",\"Cluster 9\",\"Cluster 9\",\"Cluster 9\",\"Cluster 9\",\"Cluster 9\",\"Cluster 9\",\"Cluster 9\",\"Cluster 9\",\"Cluster 9\",\"Cluster 9\",\"Cluster 9\",\"Cluster 9\",\"Cluster 9\",\"Cluster 9\",\"Cluster 9\",\"Cluster 9\",\"Cluster 9\",\"Cluster 9\",\"Cluster 9\",\"Cluster 9\",\"Cluster 9\",\"Cluster 9\",\"Cluster 9\",\"Cluster 9\",\"Cluster 10\",\"Cluster 10\",\"Cluster 10\",\"Cluster 10\",\"Cluster 10\",\"Cluster 10\",\"Cluster 10\",\"Cluster 10\",\"Cluster 10\",\"Cluster 10\",\"Cluster 10\",\"Cluster 10\",\"Cluster 10\",\"Cluster 10\",\"Cluster 10\",\"Cluster 10\",\"Cluster 10\",\"Cluster 10\",\"Cluster 10\",\"Cluster 10\",\"Cluster 10\",\"Cluster 10\",\"Cluster 10\",\"Cluster 10\",\"Cluster 10\",\"Cluster 10\",\"Cluster 10\",\"Cluster 11\",\"Cluster 11\",\"Cluster 11\",\"Cluster 11\",\"Cluster 11\",\"Cluster 11\",\"Cluster 11\",\"Cluster 11\",\"Cluster 11\",\"Cluster 11\",\"Cluster 11\",\"Cluster 11\",\"Cluster 11\",\"Cluster 11\",\"Cluster 11\",\"Cluster 11\",\"Cluster 11\",\"Cluster 11\",\"Cluster 11\",\"Cluster 11\",\"Cluster 11\",\"Cluster 11\",\"Cluster 11\",\"Cluster 11\",\"Cluster 11\",\"Cluster 11\",\"Cluster 11\",\"Cluster 12\",\"Cluster 12\",\"Cluster 12\",\"Cluster 12\",\"Cluster 12\",\"Cluster 12\",\"Cluster 12\",\"Cluster 12\",\"Cluster 12\",\"Cluster 12\",\"Cluster 12\",\"Cluster 12\",\"Cluster 12\",\"Cluster 12\",\"Cluster 12\",\"Cluster 12\",\"Cluster 12\",\"Cluster 12\",\"Cluster 12\",\"Cluster 12\",\"Cluster 12\",\"Cluster 12\",\"Cluster 12\",\"Cluster 12\",\"Cluster 12\",\"Cluster 12\",\"Cluster 13\",\"Cluster 13\",\"Cluster 13\",\"Cluster 13\",\"Cluster 13\",\"Cluster 13\",\"Cluster 13\",\"Cluster 13\",\"Cluster 13\",\"Cluster 13\",\"Cluster 13\",\"Cluster 13\",\"Cluster 13\",\"Cluster 13\",\"Cluster 13\",\"Cluster 13\",\"Cluster 13\",\"Cluster 13\",\"Cluster 13\",\"Cluster 13\",\"Cluster 13\",\"Cluster 14\",\"Cluster 14\",\"Cluster 14\",\"Cluster 14\",\"Cluster 14\",\"Cluster 14\",\"Cluster 14\",\"Cluster 14\",\"Cluster 14\",\"Cluster 14\",\"Cluster 14\",\"Cluster 14\",\"Cluster 14\",\"Cluster 14\",\"Cluster 14\",\"Cluster 14\",\"Cluster 14\",\"Cluster 14\",\"Cluster 14\",\"Cluster 14\",\"Cluster 14\",\"Cluster 15\",\"Cluster 15\",\"Cluster 15\",\"Cluster 15\",\"Cluster 15\",\"Cluster 15\",\"Cluster 15\",\"Cluster 15\",\"Cluster 15\",\"Cluster 15\",\"Cluster 15\",\"Cluster 15\",\"Cluster 15\",\"Cluster 15\",\"Cluster 15\",\"Cluster 15\",\"Cluster 15\",\"Cluster 15\",\"Cluster 15\",\"Cluster 15\",\"Cluster 15\",\"Cluster 16\",\"Cluster 16\",\"Cluster 16\",\"Cluster 16\",\"Cluster 16\",\"Cluster 16\",\"Cluster 16\",\"Cluster 16\",\"Cluster 16\",\"Cluster 16\",\"Cluster 16\",\"Cluster 16\",\"Cluster 16\",\"Cluster 16\",\"Cluster 16\",\"Cluster 16\",\"Cluster 16\",\"Cluster 16\",\"Cluster 16\",\"Cluster 16\",\"Cluster 17\",\"Cluster 17\",\"Cluster 17\",\"Cluster 17\",\"Cluster 17\",\"Cluster 17\",\"Cluster 17\",\"Cluster 17\",\"Cluster 17\",\"Cluster 17\",\"Cluster 17\",\"Cluster 17\",\"Cluster 17\",\"Cluster 17\",\"Cluster 17\",\"Cluster 17\",\"Cluster 17\",\"Cluster 18\",\"Cluster 18\",\"Cluster 18\",\"Cluster 18\",\"Cluster 18\",\"Cluster 18\",\"Cluster 18\",\"Cluster 18\",\"Cluster 18\",\"Cluster 18\",\"Cluster 18\",\"Cluster 18\",\"Cluster 18\",\"Cluster 18\",\"Cluster 18\",\"Cluster 19\",\"Cluster 19\",\"Cluster 19\",\"Cluster 19\",\"Cluster 19\",\"Cluster 19\",\"Cluster 19\",\"Cluster 19\",\"Cluster 19\",\"Cluster 19\",\"Cluster 19\",\"Cluster 19\",\"Cluster 19\",\"Cluster 19\",\"Cluster 20\",\"Cluster 20\",\"Cluster 20\",\"Cluster 20\",\"Cluster 20\",\"Cluster 20\",\"Cluster 20\",\"Cluster 20\",\"Cluster 20\",\"Cluster 20\",\"Cluster 20\",\"Cluster 20\",\"Cluster 20\",\"Cluster 21\",\"Cluster 21\",\"Cluster 21\",\"Cluster 21\",\"Cluster 21\",\"Cluster 21\",\"Cluster 21\",\"Cluster 21\",\"Cluster 21\",\"Cluster 21\",\"Cluster 21\",\"Cluster 22\",\"Cluster 22\",\"Cluster 22\",\"Cluster 22\",\"Cluster 22\",\"Cluster 22\",\"Cluster 22\",\"Cluster 22\",\"Cluster 23\",\"Cluster 23\",\"Cluster 23\",\"Cluster 23\",\"Cluster 23\",\"Cluster 23\",\"Cluster 23\",\"Cluster 23\",\"Cluster 24\",\"Cluster 24\",\"Cluster 24\",\"Cluster 24\",\"Cluster 24\",\"Cluster 25\",\"Cluster 25\",\"Cluster 25\",\"Cluster 25\",\"Cluster 25\",\"Cluster 26\",\"Cluster 26\",\"Cluster 26\",\"Cluster 26\",\"Cluster 26\"],\"shape\":[700],\"dtype\":\"object\",\"order\":\"little\"}]]}}},\"view\":{\"type\":\"object\",\"name\":\"CDSView\",\"id\":\"p1037\",\"attributes\":{\"filter\":{\"type\":\"object\",\"name\":\"AllIndices\",\"id\":\"p1038\"}}},\"glyph\":{\"type\":\"object\",\"name\":\"Scatter\",\"id\":\"p1033\",\"attributes\":{\"x\":{\"type\":\"field\",\"field\":\"x\"},\"y\":{\"type\":\"field\",\"field\":\"y\"},\"size\":{\"type\":\"value\",\"value\":6},\"line_color\":{\"type\":\"field\",\"field\":\"colors\"},\"fill_color\":{\"type\":\"field\",\"field\":\"colors\"},\"hatch_color\":{\"type\":\"field\",\"field\":\"colors\"}}},\"nonselection_glyph\":{\"type\":\"object\",\"name\":\"Scatter\",\"id\":\"p1034\",\"attributes\":{\"x\":{\"type\":\"field\",\"field\":\"x\"},\"y\":{\"type\":\"field\",\"field\":\"y\"},\"size\":{\"type\":\"value\",\"value\":6},\"line_color\":{\"type\":\"field\",\"field\":\"colors\"},\"line_alpha\":{\"type\":\"value\",\"value\":0.1},\"fill_color\":{\"type\":\"field\",\"field\":\"colors\"},\"fill_alpha\":{\"type\":\"value\",\"value\":0.1},\"hatch_color\":{\"type\":\"field\",\"field\":\"colors\"},\"hatch_alpha\":{\"type\":\"value\",\"value\":0.1}}},\"muted_glyph\":{\"type\":\"object\",\"name\":\"Scatter\",\"id\":\"p1035\",\"attributes\":{\"x\":{\"type\":\"field\",\"field\":\"x\"},\"y\":{\"type\":\"field\",\"field\":\"y\"},\"size\":{\"type\":\"value\",\"value\":6},\"line_color\":{\"type\":\"field\",\"field\":\"colors\"},\"line_alpha\":{\"type\":\"value\",\"value\":0.2},\"fill_color\":{\"type\":\"field\",\"field\":\"colors\"},\"fill_alpha\":{\"type\":\"value\",\"value\":0.2},\"hatch_color\":{\"type\":\"field\",\"field\":\"colors\"},\"hatch_alpha\":{\"type\":\"value\",\"value\":0.2}}}}}],\"toolbar\":{\"type\":\"object\",\"name\":\"Toolbar\",\"id\":\"p1010\",\"attributes\":{\"tools\":[{\"type\":\"object\",\"name\":\"HoverTool\",\"id\":\"p1001\",\"attributes\":{\"renderers\":\"auto\",\"tooltips\":[[\"Gene Set\",\"@gene_set\"],[\"Cluster\",\"@label\"]]}},{\"type\":\"object\",\"name\":\"PanTool\",\"id\":\"p1023\"},{\"type\":\"object\",\"name\":\"WheelZoomTool\",\"id\":\"p1024\",\"attributes\":{\"renderers\":\"auto\"}},{\"type\":\"object\",\"name\":\"ResetTool\",\"id\":\"p1025\"},{\"type\":\"object\",\"name\":\"SaveTool\",\"id\":\"p1026\"}]}},\"left\":[{\"type\":\"object\",\"name\":\"LinearAxis\",\"id\":\"p1018\",\"attributes\":{\"ticker\":{\"type\":\"object\",\"name\":\"BasicTicker\",\"id\":\"p1019\",\"attributes\":{\"mantissas\":[1,2,5]}},\"formatter\":{\"type\":\"object\",\"name\":\"BasicTickFormatter\",\"id\":\"p1020\"},\"axis_label\":\"UMAP-2\",\"axis_label_text_font_size\":\"40pt\",\"axis_label_text_font_style\":\"normal\",\"major_label_policy\":{\"type\":\"object\",\"name\":\"AllLabels\",\"id\":\"p1021\"},\"major_label_text_font_size\":\"0pt\",\"major_tick_line_color\":null,\"minor_tick_line_color\":null}}],\"right\":[{\"type\":\"object\",\"name\":\"Legend\",\"id\":\"p1039\",\"attributes\":{\"label_text_font_size\":\"18pt\",\"items\":[{\"type\":\"object\",\"name\":\"LegendItem\",\"id\":\"p1040\",\"attributes\":{\"label\":{\"type\":\"value\",\"value\":\"Cluster 0\"},\"renderers\":[{\"id\":\"p1036\"}],\"index\":0}},{\"type\":\"object\",\"name\":\"LegendItem\",\"id\":\"p1041\",\"attributes\":{\"label\":{\"type\":\"value\",\"value\":\"Cluster 1\"},\"renderers\":[{\"id\":\"p1036\"}],\"index\":73}},{\"type\":\"object\",\"name\":\"LegendItem\",\"id\":\"p1042\",\"attributes\":{\"label\":{\"type\":\"value\",\"value\":\"Cluster 10\"},\"renderers\":[{\"id\":\"p1036\"}],\"index\":436}},{\"type\":\"object\",\"name\":\"LegendItem\",\"id\":\"p1043\",\"attributes\":{\"label\":{\"type\":\"value\",\"value\":\"Cluster 11\"},\"renderers\":[{\"id\":\"p1036\"}],\"index\":463}},{\"type\":\"object\",\"name\":\"LegendItem\",\"id\":\"p1044\",\"attributes\":{\"label\":{\"type\":\"value\",\"value\":\"Cluster 12\"},\"renderers\":[{\"id\":\"p1036\"}],\"index\":490}},{\"type\":\"object\",\"name\":\"LegendItem\",\"id\":\"p1045\",\"attributes\":{\"label\":{\"type\":\"value\",\"value\":\"Cluster 13\"},\"renderers\":[{\"id\":\"p1036\"}],\"index\":516}},{\"type\":\"object\",\"name\":\"LegendItem\",\"id\":\"p1046\",\"attributes\":{\"label\":{\"type\":\"value\",\"value\":\"Cluster 14\"},\"renderers\":[{\"id\":\"p1036\"}],\"index\":537}},{\"type\":\"object\",\"name\":\"LegendItem\",\"id\":\"p1047\",\"attributes\":{\"label\":{\"type\":\"value\",\"value\":\"Cluster 15\"},\"renderers\":[{\"id\":\"p1036\"}],\"index\":558}},{\"type\":\"object\",\"name\":\"LegendItem\",\"id\":\"p1048\",\"attributes\":{\"label\":{\"type\":\"value\",\"value\":\"Cluster 16\"},\"renderers\":[{\"id\":\"p1036\"}],\"index\":579}},{\"type\":\"object\",\"name\":\"LegendItem\",\"id\":\"p1049\",\"attributes\":{\"label\":{\"type\":\"value\",\"value\":\"Cluster 17\"},\"renderers\":[{\"id\":\"p1036\"}],\"index\":599}},{\"type\":\"object\",\"name\":\"LegendItem\",\"id\":\"p1050\",\"attributes\":{\"label\":{\"type\":\"value\",\"value\":\"Cluster 18\"},\"renderers\":[{\"id\":\"p1036\"}],\"index\":616}},{\"type\":\"object\",\"name\":\"LegendItem\",\"id\":\"p1051\",\"attributes\":{\"label\":{\"type\":\"value\",\"value\":\"Cluster 19\"},\"renderers\":[{\"id\":\"p1036\"}],\"index\":631}},{\"type\":\"object\",\"name\":\"LegendItem\",\"id\":\"p1052\",\"attributes\":{\"label\":{\"type\":\"value\",\"value\":\"Cluster 2\"},\"renderers\":[{\"id\":\"p1036\"}],\"index\":128}},{\"type\":\"object\",\"name\":\"LegendItem\",\"id\":\"p1053\",\"attributes\":{\"label\":{\"type\":\"value\",\"value\":\"Cluster 20\"},\"renderers\":[{\"id\":\"p1036\"}],\"index\":645}},{\"type\":\"object\",\"name\":\"LegendItem\",\"id\":\"p1054\",\"attributes\":{\"label\":{\"type\":\"value\",\"value\":\"Cluster 21\"},\"renderers\":[{\"id\":\"p1036\"}],\"index\":658}},{\"type\":\"object\",\"name\":\"LegendItem\",\"id\":\"p1055\",\"attributes\":{\"label\":{\"type\":\"value\",\"value\":\"Cluster 22\"},\"renderers\":[{\"id\":\"p1036\"}],\"index\":669}},{\"type\":\"object\",\"name\":\"LegendItem\",\"id\":\"p1056\",\"attributes\":{\"label\":{\"type\":\"value\",\"value\":\"Cluster 23\"},\"renderers\":[{\"id\":\"p1036\"}],\"index\":677}},{\"type\":\"object\",\"name\":\"LegendItem\",\"id\":\"p1057\",\"attributes\":{\"label\":{\"type\":\"value\",\"value\":\"Cluster 24\"},\"renderers\":[{\"id\":\"p1036\"}],\"index\":685}},{\"type\":\"object\",\"name\":\"LegendItem\",\"id\":\"p1058\",\"attributes\":{\"label\":{\"type\":\"value\",\"value\":\"Cluster 25\"},\"renderers\":[{\"id\":\"p1036\"}],\"index\":690}},{\"type\":\"object\",\"name\":\"LegendItem\",\"id\":\"p1059\",\"attributes\":{\"label\":{\"type\":\"value\",\"value\":\"Cluster 26\"},\"renderers\":[{\"id\":\"p1036\"}],\"index\":695}},{\"type\":\"object\",\"name\":\"LegendItem\",\"id\":\"p1060\",\"attributes\":{\"label\":{\"type\":\"value\",\"value\":\"Cluster 3\"},\"renderers\":[{\"id\":\"p1036\"}],\"index\":173}},{\"type\":\"object\",\"name\":\"LegendItem\",\"id\":\"p1061\",\"attributes\":{\"label\":{\"type\":\"value\",\"value\":\"Cluster 4\"},\"renderers\":[{\"id\":\"p1036\"}],\"index\":216}},{\"type\":\"object\",\"name\":\"LegendItem\",\"id\":\"p1062\",\"attributes\":{\"label\":{\"type\":\"value\",\"value\":\"Cluster 5\"},\"renderers\":[{\"id\":\"p1036\"}],\"index\":258}},{\"type\":\"object\",\"name\":\"LegendItem\",\"id\":\"p1063\",\"attributes\":{\"label\":{\"type\":\"value\",\"value\":\"Cluster 6\"},\"renderers\":[{\"id\":\"p1036\"}],\"index\":299}},{\"type\":\"object\",\"name\":\"LegendItem\",\"id\":\"p1064\",\"attributes\":{\"label\":{\"type\":\"value\",\"value\":\"Cluster 7\"},\"renderers\":[{\"id\":\"p1036\"}],\"index\":334}},{\"type\":\"object\",\"name\":\"LegendItem\",\"id\":\"p1065\",\"attributes\":{\"label\":{\"type\":\"value\",\"value\":\"Cluster 8\"},\"renderers\":[{\"id\":\"p1036\"}],\"index\":369}},{\"type\":\"object\",\"name\":\"LegendItem\",\"id\":\"p1066\",\"attributes\":{\"label\":{\"type\":\"value\",\"value\":\"Cluster 9\"},\"renderers\":[{\"id\":\"p1036\"}],\"index\":403}}]}}],\"below\":[{\"type\":\"object\",\"name\":\"LinearAxis\",\"id\":\"p1013\",\"attributes\":{\"ticker\":{\"type\":\"object\",\"name\":\"BasicTicker\",\"id\":\"p1014\",\"attributes\":{\"mantissas\":[1,2,5]}},\"formatter\":{\"type\":\"object\",\"name\":\"BasicTickFormatter\",\"id\":\"p1015\"},\"axis_label\":\"UMAP-1\",\"axis_label_text_font_size\":\"40pt\",\"axis_label_text_font_style\":\"normal\",\"major_label_policy\":{\"type\":\"object\",\"name\":\"AllLabels\",\"id\":\"p1016\"},\"major_label_text_font_size\":\"0pt\",\"major_tick_line_color\":null,\"minor_tick_line_color\":null}}],\"center\":[{\"type\":\"object\",\"name\":\"Grid\",\"id\":\"p1017\",\"attributes\":{\"axis\":{\"id\":\"p1013\"},\"grid_line_color\":null}},{\"type\":\"object\",\"name\":\"Grid\",\"id\":\"p1022\",\"attributes\":{\"dimension\":1,\"axis\":{\"id\":\"p1018\"},\"grid_line_color\":null}},{\"id\":\"p1039\"}],\"output_backend\":\"svg\"}}]}};\n  const render_items = [{\"docid\":\"25a30637-bd94-4233-9b39-48f41a1ce088\",\"roots\":{\"p1002\":\"a54c55f5-f68a-473e-9922-e7f5ea6089c2\"},\"root_ids\":[\"p1002\"]}];\n  void root.Bokeh.embed.embed_items_notebook(docs_json, render_items);\n  }\n  if (root.Bokeh !== undefined) {\n    embed_document(root);\n  } else {\n    let attempts = 0;\n    const timer = setInterval(function(root) {\n      if (root.Bokeh !== undefined) {\n        clearInterval(timer);\n        embed_document(root);\n      } else {\n        attempts++;\n        if (attempts > 100) {\n          clearInterval(timer);\n          console.log(\"Bokeh: ERROR: Unable to run BokehJS code because BokehJS library is missing\");\n        }\n      }\n    }, 10, root)\n  }\n})(window);",
      "application/vnd.bokehjs_exec.v0+json": ""
     },
     "metadata": {
      "application/vnd.bokehjs_exec.v0+json": {
       "id": "p1002"
      }
     },
     "output_type": "display_data"
    }
   ],
   "source": [
    "l_dict = get_scatter_library(libname, augmented=False, local=True)\n",
    "print(f\"Now processing {libname}\")\n",
    "## defaults: nneighbors=30, mindist=0.1, spread=1.0, maxdf=1.0, mindf=1\n",
    "scatter_df = process_scatterplot(\n",
    "    l_dict, \n",
    "    nneighbors=5,\n",
    "    mindist=.05,\n",
    ")\n",
    "print(f\"\\tDone!\")\n",
    "\n",
    "# Display Scatter Plots\n",
    "caption1 = f\"**Figure 1. Scatterplot of all terms in the {libname} gene set library.** Each point represents a term in the library. \\\n",
    "    Term frequency-inverse document frequency (TF-IDF) values were computed for the gene set corresponding to each term, and UMAP was  \\\n",
    "    applied to the resulting values. The terms are plotted based on the first two UMAP dimensions. Generally, terms with more similar \\\n",
    "    gene sets are positioned closer together. Terms are colored by automatically identified clusters computed with the Leiden algorithm \\\n",
    "    applied to the TF-IDF values. Hovering over points will display the term and the automatically assigned cluster.\"\n",
    "\n",
    "plot, src = get_scatterplot(scatter_df)\n",
    "print(plot)\n",
    "display(HTML(f\"<div style='font-size:1.5rem;'>Scatter plot visualization for {libname}.</div>\"))\n",
    "show(plot)"
   ]
  }
 ],
 "metadata": {
  "kernelspec": {
   "display_name": ".venv",
   "language": "python",
   "name": "python3"
  },
  "language_info": {
   "codemirror_mode": {
    "name": "ipython",
    "version": 3
   },
   "file_extension": ".py",
   "mimetype": "text/x-python",
   "name": "python",
   "nbconvert_exporter": "python",
   "pygments_lexer": "ipython3",
   "version": "3.12.4"
  }
 },
 "nbformat": 4,
 "nbformat_minor": 2
}
