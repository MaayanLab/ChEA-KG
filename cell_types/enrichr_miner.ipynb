{
 "cells": [
  {
   "cell_type": "code",
   "execution_count": 40,
   "metadata": {},
   "outputs": [],
   "source": [
    "import requests\n",
    "import json\n",
    "import time\n",
    "from tqdm import tqdm\n",
    "import pandas as pd"
   ]
  },
  {
   "cell_type": "code",
   "execution_count": 2,
   "metadata": {},
   "outputs": [
    {
     "data": {
      "text/plain": [
       "27"
      ]
     },
     "execution_count": 2,
     "metadata": {},
     "output_type": "execute_result"
    }
   ],
   "source": [
    "res = requests.get('https://maayanlab.cloud/speedrichr/api/datasetStatistics')\n",
    "data = res.json()\n",
    "cell_type_libraries = [i['libraryName'] for i in data[\"statistics\"] if i['categoryId'] == 5]\n",
    "len(cell_type_libraries)"
   ]
  },
  {
   "cell_type": "code",
   "execution_count": 46,
   "metadata": {},
   "outputs": [],
   "source": [
    "cell_type_libraries = [\n",
    " 'ESCAPE',\n",
    " 'Allen_Brain_Atlas_10x_scRNA_2021',\n",
    " 'Descartes_Cell_Types_and_Tissue_2021',\n",
    " 'HuBMAP_ASCT_plus_B_augmented_w_RNAseq_Coexpression',\n",
    " 'CellMarker_Augmented_2021',\n",
    " 'PanglaoDB_Augmented_2021',\n",
    " 'Azimuth_Cell_Types_2021',\n",
    " 'HuBMAP_ASCTplusB_augmented_2022',\n",
    " 'Tabula_Sapiens',\n",
    " 'MAGNET_2023',\n",
    " 'Azimuth_2023',\n",
    " 'CellMarker_2024',\n",
    " 'Jensen TISSUES'\n",
    " ]"
   ]
  },
  {
   "cell_type": "code",
   "execution_count": 22,
   "metadata": {},
   "outputs": [],
   "source": [
    "def term_search(term):\n",
    "\ttime.sleep(0.3)\n",
    "\tres = requests.get(f'https://maayanlab.cloud/Enrichr/termmap?meta={term}&json=true')\n",
    "\tif not res.ok:\n",
    "\t\traise Exception(res.text)\n",
    "\telse:\n",
    "\t\tresults = {}\n",
    "\t\tfor k,v in res.json()['terms'].items():\n",
    "\t\t\tif k in cell_type_libraries:\n",
    "\t\t\t\tresults[k] = v\n",
    "\t\treturn results"
   ]
  },
  {
   "cell_type": "code",
   "execution_count": 47,
   "metadata": {},
   "outputs": [
    {
     "name": "stderr",
     "output_type": "stream",
     "text": [
      "100%|██████████| 14/14 [01:03<00:00,  4.56s/it]\n"
     ]
    }
   ],
   "source": [
    "cell_type_dict = {}\n",
    "cell_type_dict_review = {}\n",
    "with open('data/list') as o:\n",
    "\torgan_groups = o.read().split(\"\\n\\n\")\n",
    "\tfor organ_group in tqdm(organ_groups):\n",
    "\t\torgans, *cell_types = organ_group.split(\"\\n\")\n",
    "\t\tcell_type_dict[organs] = {}\n",
    "\t\torgan_list = organs.split(\", \")\n",
    "\t\tfor organ in organ_list:\n",
    "\t\t\tresults = term_search(organ)\n",
    "\t\t\tfor k,v in results.items():\n",
    "\t\t\t\tif k not in cell_type_dict[organs]:\n",
    "\t\t\t\t\tcell_type_dict[organs][k] = []\n",
    "\t\t\t\tcell_type_dict[organs][k] = [*cell_type_dict[organs][k], *v]\n",
    "\t\tcell_type_dict_review[organs] = {}\n",
    "\t\tfor cell_type in cell_types:\n",
    "\t\t\tcell_type = cell_type.replace(\" cells\", \"\")\n",
    "\t\t\tresults = term_search(cell_type)\n",
    "\t\t\tfor k,v in results.items():\n",
    "\t\t\t\tnew_v = []\n",
    "\t\t\t\tfor sig in v:\n",
    "\t\t\t\t\tfor o in organ_list:\n",
    "\t\t\t\t\t\tif o.lower() in sig.lower():\n",
    "\t\t\t\t\t\t\tbreak\n",
    "\t\t\t\t\telse:\n",
    "\t\t\t\t\t\tnew_v.append(sig)\n",
    "\t\t\t\tif len(new_v):\n",
    "\t\t\t\t\tif k not in cell_type_dict_review[organs]:\n",
    "\t\t\t\t\t\tcell_type_dict_review[organs][k] = []\n",
    "\t\t\t\t\tcell_type_dict_review[organs][k] = [*cell_type_dict_review[organs][k], *new_v]\n",
    "\t\t\t\t\t\n"
   ]
  },
  {
   "cell_type": "code",
   "execution_count": 7,
   "metadata": {},
   "outputs": [],
   "source": [
    "for organs, libraries in cell_type_dict.items():\n",
    "\tfor library, cell_types in cell_type_dict[organs].items():\n",
    "\t\tcell_type_dict[organs][library] = list(set(cell_types))\n",
    "\n",
    "for organs, libraries in cell_type_dict_review.items():\n",
    "\tfor library, cell_types in cell_type_dict_review[organs].items():\n",
    "\t\tcell_type_dict_review[organs][library] = list(set(cell_types))"
   ]
  },
  {
   "cell_type": "code",
   "execution_count": 8,
   "metadata": {},
   "outputs": [],
   "source": [
    "with open(\"out/cell_types.json\", \"w\") as o:\n",
    "\to.write(json.dumps(cell_type_dict, indent=4))"
   ]
  },
  {
   "cell_type": "code",
   "execution_count": 9,
   "metadata": {},
   "outputs": [],
   "source": [
    "with open(\"out/cell_types_review.json\", \"w\") as o:\n",
    "\to.write(json.dumps(cell_type_dict_review, indent=4))"
   ]
  },
  {
   "cell_type": "code",
   "execution_count": 24,
   "metadata": {},
   "outputs": [],
   "source": [
    "with open(\"reviewed/cell_types.json\") as o:\n",
    "\tcell_types = json.loads(o.read())\n",
    "\n",
    "with open(\"reviewed/cell_types_review.json\") as o:\n",
    "\tcell_types_review = json.loads(o.read())"
   ]
  },
  {
   "cell_type": "code",
   "execution_count": 36,
   "metadata": {},
   "outputs": [],
   "source": [
    "merged = {}\n",
    "for organ in cell_types.keys():\n",
    "\tif organ in cell_types_review:\n",
    "\t\tmerged[organ] = {}\n",
    "\t\tfor library in cell_type_libraries:\n",
    "\t\t\tif library in cell_types[organ] and library in cell_types_review[organ]:\n",
    "\t\t\t\tmerged[organ][library] = list(set([*cell_types[organ][library], *cell_types_review[organ][library]]))\n",
    "\t\t\telif library in cell_types[organ]:\n",
    "\t\t\t\tmerged[organ][library] = cell_types[organ][library]\n",
    "\t\t\telif library in cell_types_review[organ]:\n",
    "\t\t\t\tmerged[organ][library] = cell_types_review[organ][library]\n",
    "\telse:\n",
    "\n",
    "\t\tmerged[organ] = {}\n",
    "\t\tfor library in cell_type_libraries:\n",
    "\t\t\tif library in cell_types[organ]:\n",
    "\t\t\t\tmerged[organ][library] = cell_types[organ][library]"
   ]
  },
  {
   "cell_type": "code",
   "execution_count": 37,
   "metadata": {},
   "outputs": [],
   "source": [
    "with open(\"out/combined.json\", \"w\") as o:\n",
    "\to.write(json.dumps(merged, indent=4))"
   ]
  },
  {
   "cell_type": "code",
   "execution_count": 38,
   "metadata": {},
   "outputs": [
    {
     "data": {
      "text/plain": [
       "dict_keys(['Liver', 'Heart', 'Kidney', 'Skin', 'Bone, cartilage', 'Pancreas', 'Blood', 'Brain, nervous system', 'Testes', 'Ovary', 'Bone marrow', 'Eye, Nose, Ear', 'Lung', 'Intestine'])"
      ]
     },
     "execution_count": 38,
     "metadata": {},
     "output_type": "execute_result"
    }
   ],
   "source": [
    "merged.keys()"
   ]
  },
  {
   "cell_type": "code",
   "execution_count": 45,
   "metadata": {},
   "outputs": [],
   "source": [
    "for k,v in merged.items():\n",
    "\tl = []\n",
    "\tfor key, val in v.items():\n",
    "\t\tif len(l):\n",
    "\t\t\tl = [*l, \"-----\", key,  *val]\n",
    "\t\telse:\n",
    "\t\t\tl = [key, *val]\n",
    "\tpd.DataFrame(l, columns=[k]).to_csv(\"out/tissues/%s.tsv\"%k, index=None)"
   ]
  },
  {
   "cell_type": "code",
   "execution_count": 48,
   "metadata": {},
   "outputs": [],
   "source": [
    "from glob import glob"
   ]
  },
  {
   "cell_type": "code",
   "execution_count": 49,
   "metadata": {},
   "outputs": [],
   "source": [
    "def fetch_geneset(label, library):\n",
    "\tres = requests.get(f'https://maayanlab.cloud/Enrichr/geneSetLibrary?libraryName={library}&mode=json&term={label}')\n",
    "\tif not res.ok:\n",
    "\t\traise Exception(res.text)\n",
    "\telse:\n",
    "\t\treturn res.json()"
   ]
  },
  {
   "cell_type": "code",
   "execution_count": 75,
   "metadata": {},
   "outputs": [
    {
     "name": "stderr",
     "output_type": "stream",
     "text": [
      "100%|██████████| 14/14 [00:46<00:00,  3.34s/it]\n"
     ]
    }
   ],
   "source": [
    "with open('out/cell_atlas.gmt', 'w') as o:\n",
    "\tfor filename in tqdm(glob('data/mapped/*.tsv')):\n",
    "\t\ttissue = filename.split(\"/\")[-1].replace(\".tsv\", \"\").title()\n",
    "\t\tdf = pd.read_csv(filename, sep=\"\\t\")\n",
    "\t\tfor i, row in df[~df['Mapped Term'].isna()].iterrows():\n",
    "\t\t\tcell_type = row['Cell Type']\n",
    "\t\t\tlabel = row['Mapped Term']\n",
    "\t\t\tlibrary = row['Library']\n",
    "\t\t\td = fetch_geneset(label, library)\n",
    "\t\t\tgeneset = d[label]\n",
    "\t\t\to.write(\"\\t\".join([\"%s:%s\"%(tissue, cell_type), \"%s:%s\"%(library, label), * geneset]) + \"\\n\")\n",
    "\t\t\ttime.sleep(0.3)\n"
   ]
  },
  {
   "cell_type": "code",
   "execution_count": 68,
   "metadata": {},
   "outputs": [
    {
     "data": {
      "text/plain": [
       "'Sinusoidal Endothelial Cell Liver Human Liver Human'"
      ]
     },
     "execution_count": 68,
     "metadata": {},
     "output_type": "execute_result"
    }
   ],
   "source": [
    "label"
   ]
  },
  {
   "cell_type": "code",
   "execution_count": 1,
   "metadata": {},
   "outputs": [],
   "source": [
    "libs = set()\n",
    "with open('out/cell_atlas_from_enrichr.gmt') as o:\n",
    "\tfor line in o:\n",
    "\t\tlabel, lib, *g = line.split(\"\\t\")\n",
    "\t\tl = lib.split(\":\")[0]\n",
    "\t\tlibs.add(l)"
   ]
  },
  {
   "cell_type": "code",
   "execution_count": 2,
   "metadata": {},
   "outputs": [
    {
     "data": {
      "text/plain": [
       "{'Azimuth_Cell_Types_2021',\n",
       " 'CellMarker_2024',\n",
       " 'CellMarker_Augmented_2021',\n",
       " 'Descartes_Cell_Types_and_Tissue_2021',\n",
       " 'HuBMAP_ASCT_plus_B_augmented_w_RNAseq_Coexpression',\n",
       " 'HuBMAP_ASCTplusB_augmented_2022',\n",
       " 'Jensen_TISSUES',\n",
       " 'PanglaoDB_Augmented_2021',\n",
       " 'Tabula_Sapiens'}"
      ]
     },
     "execution_count": 2,
     "metadata": {},
     "output_type": "execute_result"
    }
   ],
   "source": [
    "libs"
   ]
  },
  {
   "cell_type": "code",
   "execution_count": null,
   "metadata": {},
   "outputs": [],
   "source": []
  }
 ],
 "metadata": {
  "kernelspec": {
   "display_name": "venv",
   "language": "python",
   "name": "python3"
  },
  "language_info": {
   "codemirror_mode": {
    "name": "ipython",
    "version": 3
   },
   "file_extension": ".py",
   "mimetype": "text/x-python",
   "name": "python",
   "nbconvert_exporter": "python",
   "pygments_lexer": "ipython3",
   "version": "3.13.1"
  }
 },
 "nbformat": 4,
 "nbformat_minor": 2
}
