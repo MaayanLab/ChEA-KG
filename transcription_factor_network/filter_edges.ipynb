{
 "cells": [
  {
   "cell_type": "markdown",
   "metadata": {},
   "source": [
    "# Filter TF network edges by expected counts\n",
    "### Describes a regimen to filter human TF interactions in the edge list produced by `build_network.ipynb`"
   ]
  },
  {
   "cell_type": "code",
   "execution_count": 32,
   "metadata": {},
   "outputs": [],
   "source": [
    "import csv\n",
    "from collections import defaultdict\n",
    "import numpy as np\n",
    "import json\n",
    "import pandas as pd\n",
    "import random\n",
    "import statistics \n",
    "import scipy.stats as stats\n",
    "import tqdm\n",
    "from itertools import islice\n",
    "from matplotlib import pyplot as plt"
   ]
  },
  {
   "cell_type": "code",
   "execution_count": null,
   "metadata": {},
   "outputs": [],
   "source": [
    "transpose_dir = './build_network_out'\n",
    "edgedir = './filtered_edges'\n",
    "network_dir = './network_files'"
   ]
  },
  {
   "cell_type": "markdown",
   "metadata": {},
   "source": [
    "## Shuffle signature sets between source TFs"
   ]
  },
  {
   "cell_type": "markdown",
   "metadata": {},
   "source": [
    "Upload signature sets which are enriched by each TF. Produces a dictionary formatted as `tf:[signature1 ... signatureN]`"
   ]
  },
  {
   "cell_type": "code",
   "execution_count": null,
   "metadata": {},
   "outputs": [],
   "source": [
    "# read in tf_transpose.gmt and upload it into an edge list\n",
    "# upload humanedge.csv to a dictionary\n",
    "\n",
    "signature_file = f\"{transpose_dir}/tf_transpose.gmt\"\n",
    "signature_sets = defaultdict(set)\n",
    "\n",
    "\n",
    "with open(signature_file, \"r\") as file:\n",
    "    for line in tqdm.tqdm(file):\n",
    "        tf, *signature = line.strip().split()\n",
    "        signature_sets[tf] = set(signature)\n",
    "    \n",
    "\n",
    "# now shuffle sets between terms\n",
    "def shuffle_signatures(signature_sets):\n",
    "    tfs = list(signature_sets.keys())\n",
    "    sigs = list(signature_sets.values())\n",
    "\n",
    "    random.shuffle(sigs)\n",
    "\n",
    "    shuffled_sigsets = dict(zip(tfs, sigs))\n",
    "    \n",
    "    return shuffled_sigsets"
   ]
  },
  {
   "cell_type": "markdown",
   "metadata": {},
   "source": [
    "Upload RummaGEO gene sets to produce counts"
   ]
  },
  {
   "cell_type": "code",
   "execution_count": null,
   "metadata": {},
   "outputs": [],
   "source": [
    "def read_gmt2(path):\n",
    "  gmt = {}\n",
    "  print(\"Reading {}\".format(path))\n",
    "  with open(path, \"r\") as file:\n",
    "    for line in tqdm.tqdm(file):\n",
    "      # 'id' refers to up or down tag\n",
    "      signature, id, *tf = line.strip().split()\n",
    "      gmt[\" \".join([signature, id])] = set(tf)\n",
    "\n",
    "  return gmt\n",
    "\n",
    "geo_gmt = read_gmt2(\"raw_data/human-geo-auto.gmt\")"
   ]
  },
  {
   "cell_type": "markdown",
   "metadata": {},
   "source": [
    "## Recalculate counts"
   ]
  },
  {
   "cell_type": "markdown",
   "metadata": {},
   "source": [
    "Produce an edge list using the randomly shuffled signature sets. Repeat several times and store counts. \n",
    "\n",
    "Produces a dictionary formatted \n",
    "`\n",
    "{ source: { \n",
    "    target: { \n",
    "            '+': np.array(up_counts_all_trials)\n",
    "            '-': np.array(dn_counts_all_trials)\n",
    "        }\n",
    "    }\n",
    "}\n",
    "`"
   ]
  },
  {
   "cell_type": "code",
   "execution_count": null,
   "metadata": {},
   "outputs": [],
   "source": [
    "N_TRIALS = 50\n",
    "\n",
    "# Create dict\n",
    "all_high_tfs = list(signature_sets.keys())\n",
    "\n",
    "expected_counts = {source : {target : {\n",
    "    \"+\": np.zeros(N_TRIALS),\n",
    "    \"-\": np.zeros(N_TRIALS),\n",
    "  } for target in all_high_tfs} for source in all_high_tfs}\n",
    "\n",
    "for i in tqdm.tqdm(range(N_TRIALS)):\n",
    "  shuffled_sets = shuffle_signatures(signature_sets)\n",
    "\n",
    "  # Calculate counts\n",
    "  for source in all_high_tfs:\n",
    "    for signature in shuffled_sets[source]:\n",
    "\n",
    "      spl = signature.rsplit(\"-\", 1)\n",
    "      dir = \"+\" if spl[1] == \"up\" else \"-\" # \"dn\"\n",
    "      joined_sig = \" \".join(spl)\n",
    "\n",
    "      # if the gene set name is in the keys for the rummaGEO GMT\n",
    "      if joined_sig in geo_gmt.keys():\n",
    "        \n",
    "        # for each TF in the list of all TFs\n",
    "        for target in all_high_tfs:\n",
    "          \n",
    "          if target in geo_gmt[joined_sig]: # TF is in list of DEGs\n",
    "            expected_counts[source][target][dir][i] += 1\n",
    "    \n",
    "      else:\n",
    "        raise Exception(\"Signature {} not found\".format(joined_sig))\n"
   ]
  },
  {
   "cell_type": "markdown",
   "metadata": {},
   "source": [
    "## Calculate significance of observed counts"
   ]
  },
  {
   "cell_type": "markdown",
   "metadata": {},
   "source": [
    "Upload observed counts from initially filtered edge list into a dictionary "
   ]
  },
  {
   "cell_type": "code",
   "execution_count": null,
   "metadata": {},
   "outputs": [],
   "source": [
    "# upload humanedge.csv to a dictionary\n",
    "obs_file = f\"{edgedir}/edge_list.csv\"\n",
    "observed_counts = {source : {target : {\n",
    "    \"+\": 0,\n",
    "    \"-\": 0,\n",
    "  } for target in all_high_tfs} for source in all_high_tfs}\n",
    "\n",
    "with open(obs_file, 'r') as file:\n",
    "    reader = csv.reader(file)\n",
    "    next(reader) # skip header\n",
    "    for source,target,direction,count in reader:\n",
    "        if direction == \"+\" or direction == \"-\":\n",
    "            observed_counts[source][target][direction] = int(count)"
   ]
  },
  {
   "cell_type": "code",
   "execution_count": null,
   "metadata": {},
   "outputs": [],
   "source": [
    "# make a similar array to store stats \n",
    "hindex = pd.MultiIndex.from_product([all_high_tfs, all_high_tfs, ['+', '-']],\n",
    "  names = [\"source\", \"target\", \"direction\"])\n",
    "edge_statistics = pd.DataFrame(index = hindex, columns = [\"observed\", \"expected\", \"expected stdev\", \"z-score\", \"p-value\"])\n",
    "\n",
    "\n",
    "for source, targets in tqdm.tqdm(expected_counts.items()):\n",
    "  for target, data in targets.items():\n",
    "    for dir, counts in data.items():\n",
    "      # find expected and observed counts \n",
    "      obsv_counts = observed_counts[source][target][dir]\n",
    "\n",
    "      # calculate statistics \n",
    "      mean = statistics.mean(counts)\n",
    "      stdev = statistics.stdev(counts)\n",
    "      if stdev != 0:\n",
    "        z_score = (obsv_counts - mean) / (stdev)\n",
    "        p_value = 1 - stats.norm.cdf(z_score)\n",
    "      else:\n",
    "        z_score = float('inf')\n",
    "        p_value = 2\n",
    "\n",
    "\n",
    "      # store in dataframe \n",
    "      edge_statistics.loc[(source, target, dir)] = [obsv_counts, mean, stdev, z_score, p_value]\n",
    "\n"
   ]
  },
  {
   "cell_type": "code",
   "execution_count": null,
   "metadata": {},
   "outputs": [],
   "source": [
    "z_sorted = edge_statistics.sort_values(by='z-score')\n",
    "p_sorted = edge_statistics.sort_values(by='p-value')"
   ]
  },
  {
   "cell_type": "markdown",
   "metadata": {},
   "source": [
    "Save collected statistics to a file"
   ]
  },
  {
   "cell_type": "code",
   "execution_count": null,
   "metadata": {},
   "outputs": [],
   "source": [
    "z_sorted.to_csv(f\"{edgedir}/z_sorted_edge_statistics\", sep='\\t')\n",
    "p_sorted.to_csv(f\"{edgedir}/p_sorted_edge_statistics\", sep='\\t')"
   ]
  },
  {
   "cell_type": "markdown",
   "metadata": {},
   "source": [
    "Remove insignificant edges. For pairs that have significant edges in both directions, keep only the edge with the most significance."
   ]
  },
  {
   "cell_type": "code",
   "execution_count": 27,
   "metadata": {},
   "outputs": [],
   "source": [
    "Z_MIN = 13.0\n",
    "\n",
    "# work from a copy since we're removing entries directly\n",
    "significant_edges = edge_statistics.loc[((edge_statistics['z-score'] != float('Inf')) & (edge_statistics['z-score'] > Z_MIN))]\n",
    "final_edge_list = significant_edges.copy()\n",
    "edges_to_drop = []\n",
    "\n",
    "# search source-target pairs and retain only the edge with the highest significance \n",
    "for (source, target), group in final_edge_list.groupby(level=['source', 'target']):\n",
    "\n",
    "    directions = group.index.get_level_values('direction')\n",
    "    up_exists = '+' in directions\n",
    "    dn_exists = '-' in directions\n",
    "\n",
    "    if up_exists and dn_exists:\n",
    "        # Filter to get '+' and '-' entries\n",
    "        up_data = group.loc[(slice(None), slice(None), '+'), :]\n",
    "        dn_data = group.loc[(slice(None), slice(None), '-'), :]   \n",
    "\n",
    "        # remove lower z-score\n",
    "        if up_data['z-score'].values[0] < dn_data['z-score'].values[0]:\n",
    "          edges_to_drop.append((source, target, '+')) \n",
    "        else:\n",
    "          edges_to_drop.append((source, target, '-'))\n",
    "\n",
    "final_edge_list.drop(index=edges_to_drop, inplace=True)"
   ]
  },
  {
   "cell_type": "markdown",
   "metadata": {},
   "source": [
    "Save results"
   ]
  },
  {
   "cell_type": "code",
   "execution_count": 28,
   "metadata": {},
   "outputs": [],
   "source": [
    "#final_edge_list.to_csv(f\"{edgedir}/filtered_edges.csv\")\n",
    "# one_significant_edge.to_json(f\"{edgedir}/filtered_edges.json\")"
   ]
  },
  {
   "cell_type": "markdown",
   "metadata": {},
   "source": [
    "## Format data for UI ingestion\n",
    "### Format edges: [source, direction, target]"
   ]
  },
  {
   "cell_type": "code",
   "execution_count": null,
   "metadata": {},
   "outputs": [],
   "source": [
    "new_index = ['source','direction','target']\n",
    "\n",
    "final_edge_list.reindex(index=new_index)\n",
    "\n",
    "index = final_edge_list.index.to_frame()\n",
    "\n",
    "print(index)\n",
    "\n",
    "final_edge_list.to_csv(f\"{network_dir}/Transcription_Factor.Direction.Transcription_Factor.edges.csv\", index = False)"
   ]
  },
  {
   "cell_type": "markdown",
   "metadata": {},
   "source": [
    "### Format nodes: [tf_name]"
   ]
  },
  {
   "cell_type": "code",
   "execution_count": null,
   "metadata": {},
   "outputs": [],
   "source": [
    "nodes = set()\n",
    "\n",
    "# collect all source and target nodes, without duplicates \n",
    "for (source, target), group in final_edge_list.groupby(level=['source', 'target']):\n",
    "    nodes.add(source)\n",
    "    nodes.add(target)\n",
    "\n",
    "\n",
    "# convert to df for easy csv formatting\n",
    "node_df = pd.DataFrame(list(nodes), columns=['Index'])\n",
    "node_df.to_csv(f'{network_dir}/Transcription_factor.csv', index = False)"
   ]
  },
  {
   "cell_type": "markdown",
   "metadata": {},
   "source": [
    "## Optional - plot histograms"
   ]
  },
  {
   "cell_type": "code",
   "execution_count": 34,
   "metadata": {},
   "outputs": [
    {
     "data": {
      "image/png": "[encoded data removed]",
      "text/plain": [
       "<Figure size 1000x600 with 1 Axes>"
      ]
     },
     "metadata": {},
     "output_type": "display_data"
    },
    {
     "data": {
      "image/png": "[encoded data removed]",
      "text/plain": [
       "<Figure size 1000x600 with 1 Axes>"
      ]
     },
     "metadata": {},
     "output_type": "display_data"
    },
    {
     "data": {
      "image/png": "[encoded data removed]",
      "text/plain": [
       "<Figure size 1000x600 with 1 Axes>"
      ]
     },
     "metadata": {},
     "output_type": "display_data"
    }
   ],
   "source": [
    "# Plot log-scaled histogram of counts\n",
    "\n",
    "def tf_histogram(name, counts, num_bins=300, fig_size=(10,6)):\n",
    "    plt.figure(figsize=fig_size)\n",
    "    plt.hist(counts, bins = num_bins, edgecolor ='none')\n",
    "    plt.yscale('log')\n",
    "    plt.xlabel('Interaction count', fontsize=14)\n",
    "    plt.ylabel('Frequency', fontsize=14)\n",
    "    if name == \"all\":\n",
    "        plt.title('All TF-TF interaction counts', fontsize=16)\n",
    "    elif name == \"pos\":\n",
    "        plt.title('Positive interaction counts', fontsize=16)\n",
    "    elif name == \"neg\": \n",
    "        plt.title('Negative interaction counts', fontsize=16)\n",
    "\n",
    "\n",
    "# get count values\n",
    "all_counts = one_significant_edge['observed']\n",
    "# Filter the DataFrame for rows where the direction is \"+\"\n",
    "positive_counts = one_significant_edge.loc[(slice(None), slice(None), \"+\"), :]['observed']\n",
    "# Filter the DataFrame for rows where the direction is \"+\"\n",
    "negative_counts = one_significant_edge.loc[(slice(None), slice(None), \"-\"), :]['observed']\n",
    "\n",
    "tf_histogram(\"all\", all_counts)\n",
    "plt.savefig(f\"{edgedir}/img/all_histo_filtered.png\")\n",
    "plt.show()\n",
    "\n",
    "tf_histogram(\"pos\", positive_counts)\n",
    "plt.savefig(f\"{edgedir}/img/pos_histo_filtered.png\")\n",
    "plt.show()\n",
    "\n",
    "tf_histogram(\"neg\", negative_counts)\n",
    "plt.savefig(f\"{edgedir}/img/neg_histo_filtered.png\")\n",
    "plt.show()"
   ]
  },
  {
   "cell_type": "markdown",
   "metadata": {},
   "source": [
    "Format list for ingestion to the KG UI and save "
   ]
  },
  {
   "cell_type": "code",
   "execution_count": null,
   "metadata": {},
   "outputs": [],
   "source": [
    "out_edges = one_significant_edge.loc[['observed','z-score']]\n",
    "\n",
    "out_edges.to_csv(f\"network_files/edges.csv\")"
   ]
  }
 ],
 "metadata": {
  "kernelspec": {
   "display_name": ".venv",
   "language": "python",
   "name": "python3"
  },
  "language_info": {
   "codemirror_mode": {
    "name": "ipython",
    "version": 3
   },
   "file_extension": ".py",
   "mimetype": "text/x-python",
   "name": "python",
   "nbconvert_exporter": "python",
   "pygments_lexer": "ipython3",
   "version": "3.12.4"
  }
 },
 "nbformat": 4,
 "nbformat_minor": 2
}
