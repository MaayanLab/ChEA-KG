{
 "cells": [
  {
   "attachments": {},
   "cell_type": "markdown",
   "metadata": {},
   "source": [
    "# Serializing GMT Files to CSV\n",
    "\n",
    "In this notebook we'll convert GMT files from [Enrichr](https://maayanlab.cloud/Enrichr) to CSV files that can be ingested in the graph database. This includes several steps:\n",
    "1. Mapping/ generating ids to the terms\n",
    "2. Mapping genes to their Entrez ID\n",
    "3. Creating the CSV file\n",
    "\n",
    "## CSV Serialization\n",
    "Nodes and edges are serialized differently for our knowledge graph. \n",
    "\n",
    "### Node Serialization\n",
    "Serialized nodes requires two columns: id (which can be any unique identifier like UUID, ontology id, or other persistent identifiers) and label. Optionally, you can add more columns for additional metadata. CSV file should be formatted this way: `<node_type>.node.csv` for it to be compatible with the provided ingestion script. This means for our GMT files, we need two node files: (1) label type, and (2) genes\n",
    "\n",
    "|      |   id          |   label                                                                    |   ontology_label                                              |   uri                                                  |\n",
    "|------|---------------|----------------------------------------------------------------------------|---------------------------------------------------------------|--------------------------------------------------------|\n",
    "|   0  |   GO:0051084  |   'de novo' posttranslational protein folding (GO:0051084)                 |   'de novo' posttranslational protein folding                 |   http://amigo.geneontology.org/amigo/term/GO:0051084  |\n",
    "|   1  |   GO:0006103  |   2-oxoglutarate metabolic process (GO:0006103)                            |   2-oxoglutarate metabolic process                            |   http://amigo.geneontology.org/amigo/term/GO:0006103  |\n",
    "|   2  |   GO:0050428  |   3'-phosphoadenosine 5'-phosphosulfate biosynthetic process (GO:0050428)  |   3'-phosphoadenosine 5'-phosphosulfate biosynthetic process  |   http://amigo.geneontology.org/amigo/term/GO:0050428  |\n",
    "|   3  |   GO:0050427  |   3'-phosphoadenosine 5'-phosphosulfate metabolic process (GO:0050427)     |   3'-phosphoadenosine 5'-phosphosulfate metabolic process     |   http://amigo.geneontology.org/amigo/term/GO:0050427  |\n",
    "|   4  |   GO:0061158  |   3'-UTR-mediated mRNA destabilization (GO:0061158)                        |   3'-UTR-mediated mRNA destabilization                        |   http://amigo.geneontology.org/amigo/term/GO:0061158  |\n",
    "|   5  |   GO:0070935  |   3'-UTR-mediated mRNA stabilization (GO:0070935)                          |   3'-UTR-mediated mRNA stabilization                          |   http://amigo.geneontology.org/amigo/term/GO:0070935  |\n",
    "\n",
    "### Edge Serialization\n",
    "\n",
    "Meanwhile, edges require (1) source id, (2) the relation, and (3) target id columns. The rest are optional metadata. CSV file should be formatted as follows: `<source_node_type>.<relation>.<target_node_type>.edges.csv`.\n",
    "\n",
    "|      |   source  |   relation  |   target      |   source_label  |   target_label                                              |   resource       |   link_to_resource          |\n",
    "|------|-----------|-------------|---------------|-----------------|-------------------------------------------------------------|------------------|-----------------------------|\n",
    "|   0  |   23753   |   GO BP     |   GO:0051084  |   SDF2L1        |   'de novo' posttranslational protein folding (GO:0051084)  |   Gene Ontology  |   http://geneontology.org/  |\n",
    "|   1  |   3313    |   GO BP     |   GO:0051084  |   HSPA9         |   'de novo' posttranslational protein folding (GO:0051084)  |   Gene Ontology  |   http://geneontology.org/  |\n",
    "|   2  |   10576   |   GO BP     |   GO:0051084  |   CCT2          |   'de novo' posttranslational protein folding (GO:0051084)  |   Gene Ontology  |   http://geneontology.org/  |\n",
    "|   3  |   6767    |   GO BP     |   GO:0051084  |   ST13          |   'de novo' posttranslational protein folding (GO:0051084)  |   Gene Ontology  |   http://geneontology.org/  |\n",
    "|   4  |   3310    |   GO BP     |   GO:0051084  |   HSPA6         |   'de novo' posttranslational protein folding (GO:0051084)  |   Gene Ontology  |   http://geneontology.org/  |\n",
    "|   5  |   957     |   GO BP     |   GO:0051084  |   ENTPD5        |   'de novo' posttranslational protein folding (GO:0051084)  |   Gene Ontology  |   http://geneontology.org/  |"
   ]
  },
  {
   "cell_type": "code",
   "execution_count": null,
   "metadata": {},
   "outputs": [],
   "source": [
    "import requests\n",
    "import json\n",
    "import re\n",
    "from tqdm import tqdm\n",
    "import os\n",
    "import pandas as pd\n",
    "import time\n",
    "import uuid"
   ]
  },
  {
   "cell_type": "code",
   "execution_count": null,
   "metadata": {},
   "outputs": [],
   "source": [
    "def fetch_save_read(url, file, reader=pd.read_csv, sep='\\t', **kwargs):\n",
    "  ''' Download file from {url}, save it to {file}, and subsequently read it with {reader} using pandas options on {**kwargs}.\n",
    "  '''\n",
    "  if not os.path.exists(file):\n",
    "    if os.path.dirname(file):\n",
    "      os.makedirs(os.path.dirname(file), exist_ok=True)\n",
    "    df = reader(url, sep=sep, index_col=None)\n",
    "    df.to_csv(file, sep=sep, index=False)\n",
    "  return pd.read_csv(file, sep=sep, **kwargs)"
   ]
  },
  {
   "cell_type": "code",
   "execution_count": null,
   "metadata": {},
   "outputs": [],
   "source": [
    "organism = \"Mammalia/Homo_sapiens\"\n",
    "url = 'ftp://ftp.ncbi.nih.gov/gene/DATA/GENE_INFO/{}.gene_info.gz'.format(organism)\n",
    "file = '{}.gene_info.tsv'.format(organism)\n",
    "\n",
    "ncbi_gene = fetch_save_read(url, file)\n"
   ]
  },
  {
   "cell_type": "code",
   "execution_count": null,
   "metadata": {},
   "outputs": [],
   "source": [
    "def maybe_split(record):\n",
    "    ''' NCBI Stores Nulls as '-' and lists '|' delimited\n",
    "    '''\n",
    "    if record in {'', '-'}:\n",
    "        return set()\n",
    "    return set(record.split('|'))\n",
    "\n",
    "def supplement_dbXref_prefix_omitted(ids):\n",
    "    ''' NCBI Stores external IDS with Foreign:ID while most datasets just use the ID\n",
    "    '''\n",
    "    for id in ids:\n",
    "        # add original id\n",
    "        yield id\n",
    "        # also add id *without* prefix\n",
    "        if ':' in id:\n",
    "            yield id.split(':', maxsplit=1)[1]"
   ]
  },
  {
   "cell_type": "code",
   "execution_count": null,
   "metadata": {},
   "outputs": [],
   "source": [
    "ncbi_gene['All_synonyms'] = [\n",
    "    set.union(\n",
    "      maybe_split(gene_info['Symbol']),\n",
    "      maybe_split(gene_info['Symbol_from_nomenclature_authority']),\n",
    "      maybe_split(str(gene_info['GeneID'])),\n",
    "      maybe_split(gene_info['Synonyms']),\n",
    "      maybe_split(gene_info['Other_designations']),\n",
    "      maybe_split(gene_info['LocusTag']),\n",
    "      set(supplement_dbXref_prefix_omitted(maybe_split(gene_info['dbXrefs']))),\n",
    "    )\n",
    "    for _, gene_info in ncbi_gene.iterrows()\n",
    "  ]\n",
    "\n",
    "synonyms, gene_id = zip(*{\n",
    "    (synonym, gene_info['GeneID'])\n",
    "    for _, gene_info in ncbi_gene.iterrows()\n",
    "    for synonym in gene_info['All_synonyms']\n",
    "  })\n",
    "ncbi_lookup_syn = pd.Series(gene_id, index=synonyms)\n",
    "symbols, cap, gene_id = zip(*{\n",
    "    (gene_info['Symbol'], gene_info['Symbol'].upper(), gene_info['GeneID'])\n",
    "    for _, gene_info in ncbi_gene.iterrows()\n",
    "  })\n",
    "ncbi_lookup_sym = pd.Series(gene_id, index=symbols)\n",
    "ncbi_lookup_sym_cap = pd.Series(gene_id, index=cap)"
   ]
  },
  {
   "cell_type": "code",
   "execution_count": null,
   "metadata": {},
   "outputs": [],
   "source": [
    "index_values = ncbi_lookup_syn.index.value_counts()\n",
    "ambiguous = index_values[index_values > 1].index\n",
    "ncbi_lookup_syn_disambiguated = ncbi_lookup_syn[(\n",
    "(ncbi_lookup_syn.index == ncbi_lookup_syn) | (~ncbi_lookup_syn.index.isin(ambiguous))\n",
    ")]\n",
    "sym_dict = ncbi_lookup_sym.to_dict()\n",
    "syn_dict_cap = ncbi_lookup_sym_cap.to_dict()\n",
    "syn_dict = ncbi_lookup_syn_disambiguated.to_dict()\n",
    "def gene_lookup(gene):\n",
    "    gene_id = sym_dict.get(gene)\n",
    "    if gene_id: return str(gene_id)\n",
    "    gene_id = syn_dict_cap.get(gene)\n",
    "    if gene_id: return str(gene_id)\n",
    "    return str(syn_dict.get(gene))"
   ]
  },
  {
   "cell_type": "code",
   "execution_count": null,
   "metadata": {},
   "outputs": [],
   "source": [
    "gene_lookup(\"H4-16\")"
   ]
  },
  {
   "cell_type": "code",
   "execution_count": null,
   "metadata": {},
   "outputs": [],
   "source": [
    "gene_lookup(\"STAT3\")"
   ]
  },
  {
   "cell_type": "code",
   "execution_count": null,
   "metadata": {},
   "outputs": [],
   "source": [
    "all_genes = {}\n",
    "gene_ids = set()\n",
    "def get_gene_meta(gene):\n",
    "    if gene in all_genes:\n",
    "        return all_genes[gene]\n",
    "    else:\n",
    "        gene_id = gene_lookup(gene)\n",
    "        if gene_id in gene_ids:\n",
    "            return None\n",
    "        elif gene_id == 'None':\n",
    "            return None\n",
    "        elif gene_id == None:\n",
    "            return None\n",
    "        else:\n",
    "            gene_ids.add(gene_id)\n",
    "            all_genes[gene] = {\n",
    "                \"id\": gene_id,\n",
    "                \"label\": gene,\n",
    "                \"uri\": \"https://www.ncbi.nlm.nih.gov/gene/%s\"%gene_id\n",
    "            }\n",
    "            return all_genes[gene]\n",
    "\n",
    "get_gene_meta(\"COPB2\")"
   ]
  },
  {
   "cell_type": "code",
   "execution_count": null,
   "metadata": {},
   "outputs": [],
   "source": [
    "get_gene_meta('STAT3')"
   ]
  },
  {
   "attachments": {},
   "cell_type": "markdown",
   "metadata": {},
   "source": [
    "### Downloading the GMT files from Enrichr\n",
    "The following code downloads the GMT file from Enrichr. This function checks the existence of the file locally before downloading it."
   ]
  },
  {
   "cell_type": "code",
   "execution_count": null,
   "metadata": {},
   "outputs": [],
   "source": [
    "def fetch_and_save_library(library, file):\n",
    "  ''' Download file from {url}, save it to {file}, and subsequently read it with {reader} using pandas options on {**kwargs}.\n",
    "  '''\n",
    "  if not os.path.exists(file):\n",
    "    if os.path.dirname(file):\n",
    "      os.makedirs(os.path.dirname(file), exist_ok=True)\n",
    "    gmt_url = \"https://maayanlab.cloud/Enrichr/geneSetLibrary?mode=text&libraryName=%s\"%library\n",
    "    res = requests.get(gmt_url)\n",
    "    gmt = res.text\n",
    "    with open(file, 'w') as o:\n",
    "        o.write(gmt)\n",
    "  \n",
    "  with open(file) as o:\n",
    "    return o.read().strip().split(\"\\n\")"
   ]
  },
  {
   "attachments": {},
   "cell_type": "markdown",
   "metadata": {},
   "source": [
    "### Serializing GMT Files\n",
    "Now that we have everything we need, let's try converting some Enrichr libraries to CSV files. Before we start let's define first a dictionary to store all the gene metadata. We'll use this to generate a combined gene node csv file later."
   ]
  },
  {
   "attachments": {},
   "cell_type": "markdown",
   "metadata": {},
   "source": [
    "####  GO_Biological_Process_2021\n",
    "The following code block downloads the gmt file if it does not exist"
   ]
  },
  {
   "cell_type": "code",
   "execution_count": null,
   "metadata": {},
   "outputs": [],
   "source": [
    "library = \"GO_Biological_Process_2021\"\n",
    "filename = \"gmt/%s.gmt\"%library\n",
    "gmt = fetch_and_save_library(library, filename)\n",
    "print(gmt[0])"
   ]
  },
  {
   "attachments": {},
   "cell_type": "markdown",
   "metadata": {},
   "source": [
    "![GO](./img/graph.png)"
   ]
  },
  {
   "attachments": {},
   "cell_type": "markdown",
   "metadata": {},
   "source": [
    "##### Serializing the nodes"
   ]
  },
  {
   "cell_type": "code",
   "execution_count": null,
   "metadata": {},
   "outputs": [],
   "source": [
    "def gene_set_name_resolver(label):\n",
    "    return {\n",
    "        \"id\": str(uuid.uuid5(uuid.NAMESPACE_URL, label)),\n",
    "        \"label\": label\n",
    "    }"
   ]
  },
  {
   "cell_type": "code",
   "execution_count": null,
   "metadata": {},
   "outputs": [],
   "source": [
    "term = gmt[0].split(\"\\t\\t\")[0]\n",
    "term"
   ]
  },
  {
   "cell_type": "code",
   "execution_count": null,
   "metadata": {},
   "outputs": [],
   "source": [
    "gene_set_name_resolver(term)"
   ]
  },
  {
   "attachments": {},
   "cell_type": "markdown",
   "metadata": {},
   "source": [
    "##### Serializing the edges\n",
    "\n",
    "Now that we have a way to get process the term and gene nodes, let's now get to serializing edges. For a GMT file, we say that an edge exists between a gene and a term if the gene is part of that term's gene set, that is if we have the following:\n",
    "```\n",
    "Term 1      Gene 1  Gene 2  Gene 3\n",
    "Term 2      Gene 2  Gene 4  Gene 5\n",
    "```\n",
    "Then we say that there is an edge between Term 1 and Gene 1, Gene 2, and Gene 3, and Term 2 and Gene 2, Gene 4, and Gene 5."
   ]
  },
  {
   "cell_type": "code",
   "execution_count": null,
   "metadata": {},
   "outputs": [],
   "source": [
    "def iterate_gmt(gmt, term_node, relation, gene_set_name_resolver, resource=None, edge_properties={}):\n",
    "    terms = []\n",
    "    edges = []\n",
    "    for line in tqdm(gmt):\n",
    "        term, *genes = line.strip().split(\"\\t\")\n",
    "        genes = genes[1:]\n",
    "        term_meta = gene_set_name_resolver(term)\n",
    "        if term_meta:\n",
    "            term_id = term_meta[\"id\"]\n",
    "            terms.append(term_meta)\n",
    "            for gene in genes:\n",
    "                gene_meta = get_gene_meta(gene)\n",
    "                if gene_meta:\n",
    "                    if type(gene_meta) == str:\n",
    "                        print(gene, gene_meta)\n",
    "                    gene_id = gene_meta[\"id\"]\n",
    "                    edge = {\n",
    "                        \"source\": term_id,\n",
    "                        \"relation\": relation,\n",
    "                        \"target\": gene_id,\n",
    "                        \"source_label\": term,\n",
    "                        \"target_label\": gene,\n",
    "                        **edge_properties.get((term, gene), {})\n",
    "                    }\n",
    "                    if resource:\n",
    "                        edge[\"resource\"] = resource\n",
    "                    edges.append(edge)\n",
    "    term_df = pd.DataFrame.from_records(terms)\n",
    "    cols = [\"id\", \"label\"] + [i for i in term_df.columns if not i in [\"id\", \"label\"]]\n",
    "    term_df = term_df[cols]\n",
    "    term_df.to_csv(\"csv/%s.nodes.csv\"%term_node, index=False)\n",
    "    edge_df = pd.DataFrame.from_records(edges)\n",
    "    edge_df.to_csv(\"csv/%s.%s.Gene.edges.csv\"%(term_node, relation), index=False)"
   ]
  },
  {
   "cell_type": "code",
   "execution_count": null,
   "metadata": {},
   "outputs": [],
   "source": [
    "term_node = \"GO Biological Process Term\"\n",
    "relation = \"GO BP\"\n",
    "resource = \"http://geneontology.org/\"\n",
    "iterate_gmt(gmt, term_node, relation, gene_set_name_resolver, resource)"
   ]
  },
  {
   "cell_type": "code",
   "execution_count": null,
   "metadata": {},
   "outputs": [],
   "source": [
    "node_df = pd.read_csv('./csv/GO Biological Process Term.nodes.csv')\n",
    "node_df.head()"
   ]
  },
  {
   "cell_type": "code",
   "execution_count": null,
   "metadata": {},
   "outputs": [],
   "source": [
    "edge_df = pd.read_csv('./csv/GO Biological Process Term.GO BP.Gene.edges.csv')\n",
    "edge_df.head()"
   ]
  },
  {
   "attachments": {},
   "cell_type": "markdown",
   "metadata": {},
   "source": [
    "#### Exercise: MGI_Mammalian_Phenotype_Level_4_2021\n",
    "Create a `gene_set_name_resolver` function for MGI_Mammalian_Phenotype_Level_4_2021"
   ]
  },
  {
   "cell_type": "code",
   "execution_count": null,
   "metadata": {},
   "outputs": [],
   "source": [
    "library = 'MGI_Mammalian_Phenotype_Level_4_2021'\n",
    "filename = \"gmt/%s.gmt\"%library\n",
    "gmt = fetch_and_save_library(library, filename)\n",
    "print(gmt[0])"
   ]
  },
  {
   "cell_type": "code",
   "execution_count": null,
   "metadata": {},
   "outputs": [],
   "source": [
    "def gene_set_name_resolver(name):\n",
    "    pass"
   ]
  },
  {
   "cell_type": "code",
   "execution_count": null,
   "metadata": {},
   "outputs": [],
   "source": [
    "term_node = \"Mouse Phenotype\"\n",
    "relation = \"MP\"\n",
    "resource = \"http://www.informatics.jax.org\"\n",
    "iterate_gmt(gmt, term_node, relation, gene_set_name_resolver, resource)"
   ]
  },
  {
   "cell_type": "markdown",
   "metadata": {},
   "source": [
    "## Finding Up and Drug regulated genes from drug perturbation"
   ]
  },
  {
   "cell_type": "code",
   "execution_count": null,
   "metadata": {},
   "outputs": [],
   "source": [
    "df = pd.read_csv(\"https://minio.dev.maayanlab.cloud/kg-demo/lincs_consensus_drugs_5000.csv\", index_col=0)\n",
    "df.shape"
   ]
  },
  {
   "cell_type": "code",
   "execution_count": null,
   "metadata": {},
   "outputs": [],
   "source": [
    "df.iloc[0:5, 0:5]"
   ]
  },
  {
   "cell_type": "markdown",
   "metadata": {},
   "source": [
    "## Getting the top 100 up-regulated genes:\n",
    "1. For each drug, we sort the genes in descending order,\n",
    "2. Take the top 100 positive scoring genes"
   ]
  },
  {
   "cell_type": "code",
   "execution_count": null,
   "metadata": {},
   "outputs": [],
   "source": [
    "drug = \"afatinib\"\n",
    "sorted = df[drug].sort_values(ascending=False)\n",
    "sorted"
   ]
  },
  {
   "cell_type": "code",
   "execution_count": null,
   "metadata": {},
   "outputs": [],
   "source": [
    "## Top 100 up regulated genes for afatinib\n",
    "sorted.head(100)"
   ]
  },
  {
   "cell_type": "markdown",
   "metadata": {},
   "source": [
    "## Putting it all together"
   ]
  },
  {
   "cell_type": "code",
   "execution_count": null,
   "metadata": {},
   "outputs": [],
   "source": [
    "for k,v in sorted.head(100).items():\n",
    "    print(k,v)"
   ]
  },
  {
   "cell_type": "code",
   "execution_count": null,
   "metadata": {},
   "outputs": [],
   "source": [
    "drugs = []\n",
    "edges = []\n",
    "for drug in df.columns:\n",
    "    ## generate ids for drugs\n",
    "    drug_id = uuid.uuid5(uuid.NAMESPACE_URL, drug)\n",
    "    drugs.append({\n",
    "        \"id\": drug_id,\n",
    "        \"label\": drug\n",
    "    })\n",
    "    sorted = df[drug].sort_values(ascending=False)\n",
    "    up_regulated = sorted.head(100)\n",
    "    for gene, score in up_regulated.items():\n",
    "        gene_meta = get_gene_meta(gene)\n",
    "        if gene_meta:\n",
    "            if type(gene_meta) == str:\n",
    "                print(gene, gene_meta)\n",
    "            gene_id = gene_meta[\"id\"]\n",
    "            edge = {\n",
    "                \"source\": drug_id,\n",
    "                \"relation\": \"LINCS Up Regulated\",\n",
    "                \"target\": gene_id,\n",
    "                \"source_label\": drug,\n",
    "                \"target_label\": gene,\n",
    "                \"score\": score\n",
    "            }\n",
    "            edges.append(edge)\n"
   ]
  },
  {
   "cell_type": "code",
   "execution_count": null,
   "metadata": {},
   "outputs": [],
   "source": [
    "drug_df = pd.DataFrame.from_records(drugs)\n",
    "cols = [\"id\", \"label\"] + [i for i in drug_df.columns if not i in [\"id\", \"label\"]]\n",
    "drug_df = drug_df[cols]\n",
    "drug_df.to_csv(\"csv/Drug.nodes.csv\", index=False)\n",
    "edge_df = pd.DataFrame.from_records(edges)\n",
    "edge_df.to_csv(\"csv/Drug.LINCS Up Regulated.Gene.edges.csv\", index=False)"
   ]
  },
  {
   "cell_type": "code",
   "execution_count": null,
   "metadata": {},
   "outputs": [],
   "source": [
    "# Exercise: Write a code for the down regulated genes"
   ]
  },
  {
   "attachments": {},
   "cell_type": "markdown",
   "metadata": {},
   "source": [
    "## Gene.csv\n",
    "Using the `all_genes` dictionary, create a `Genes.nodes.csv` file"
   ]
  },
  {
   "cell_type": "code",
   "execution_count": null,
   "metadata": {},
   "outputs": [],
   "source": [
    "# write your code here\n",
    "genes = pd.DataFrame.from_records([i for i in all_genes.values() if not i == None])\n",
    "genes.to_csv(\"csv/Gene.nodes.csv\", index=False)"
   ]
  },
  {
   "cell_type": "code",
   "execution_count": null,
   "metadata": {},
   "outputs": [],
   "source": [
    "gene_df = pd.read_csv('csv/Gene.nodes.csv')\n",
    "gene_df.head()"
   ]
  },
  {
   "attachments": {},
   "cell_type": "markdown",
   "metadata": {},
   "source": [
    "#### Ingestion\n",
    "Ingestion is relatively simple if we followed followed the naming convention. `src/import_csv.py` is provided to do the heavy lifting. To run it just type the following on the command line:\n",
    "```\n",
    "python import_csv.py /path/to/csv/directory\n",
    "```\n",
    "This will run a bulk import of your csv files\n",
    "e.g.\n",
    "```\n",
    "python import_csv.py ../notebooks/csv\n",
    "```"
   ]
  },
  {
   "attachments": {},
   "cell_type": "markdown",
   "metadata": {},
   "source": []
  },
  {
   "attachments": {},
   "cell_type": "markdown",
   "metadata": {},
   "source": []
  },
  {
   "attachments": {},
   "cell_type": "markdown",
   "metadata": {},
   "source": []
  }
 ],
 "metadata": {
  "kernelspec": {
   "display_name": "venv",
   "language": "python",
   "name": "python3"
  },
  "language_info": {
   "codemirror_mode": {
    "name": "ipython",
    "version": 3
   },
   "file_extension": ".py",
   "mimetype": "text/x-python",
   "name": "python",
   "nbconvert_exporter": "python",
   "pygments_lexer": "ipython3",
   "version": "3.10.9"
  },
  "orig_nbformat": 4,
  "vscode": {
   "interpreter": {
    "hash": "798122c9e4f43102ac6a3a7c51d7fe95ee01edcdc77ff31e968bccde04a8b5dc"
   }
  }
 },
 "nbformat": 4,
 "nbformat_minor": 2
}
