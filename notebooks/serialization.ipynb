{
 "cells": [
  {
   "attachments": {},
   "cell_type": "markdown",
   "metadata": {},
   "source": [
    "# Serializing GMT Files to CSV\n",
    "In this notebook we'll convert GMT files from [Enrichr](https://maayanlab.cloud/Enrichr) to CSV files that can be ingested in the graph database. This includes several steps:\n",
    "1. Mapping/ generating ids to the terms\n",
    "2. Mapping genes to their Entrez ID\n",
    "3. Creating the CSV file\n",
    "\n",
    "## CSV Serialization\n",
    "Nodes and edges are serialized differently for our knowledge graph. \n",
    "\n",
    "### Node Serialization\n",
    "Serialized nodes requires two columns: id and label. Optionally, you can add more columns for additional metadata. CSV file should be formatted this way: `<node_type>.node.csv` for it to be compatible with the provided ingestion script. This means for our GMT files, we need two node files: (1) label type, and (2) genes\n",
    "\n",
    "|      |   id          |   label                                                                    |   ontology_label                                              |   uri                                                  |\n",
    "|------|---------------|----------------------------------------------------------------------------|---------------------------------------------------------------|--------------------------------------------------------|\n",
    "|   0  |   GO:0051084  |   'de novo' posttranslational protein folding (GO:0051084)                 |   'de novo' posttranslational protein folding                 |   http://amigo.geneontology.org/amigo/term/GO:0051084  |\n",
    "|   1  |   GO:0006103  |   2-oxoglutarate metabolic process (GO:0006103)                            |   2-oxoglutarate metabolic process                            |   http://amigo.geneontology.org/amigo/term/GO:0006103  |\n",
    "|   2  |   GO:0050428  |   3'-phosphoadenosine 5'-phosphosulfate biosynthetic process (GO:0050428)  |   3'-phosphoadenosine 5'-phosphosulfate biosynthetic process  |   http://amigo.geneontology.org/amigo/term/GO:0050428  |\n",
    "|   3  |   GO:0050427  |   3'-phosphoadenosine 5'-phosphosulfate metabolic process (GO:0050427)     |   3'-phosphoadenosine 5'-phosphosulfate metabolic process     |   http://amigo.geneontology.org/amigo/term/GO:0050427  |\n",
    "|   4  |   GO:0061158  |   3'-UTR-mediated mRNA destabilization (GO:0061158)                        |   3'-UTR-mediated mRNA destabilization                        |   http://amigo.geneontology.org/amigo/term/GO:0061158  |\n",
    "|   5  |   GO:0070935  |   3'-UTR-mediated mRNA stabilization (GO:0070935)                          |   3'-UTR-mediated mRNA stabilization                          |   http://amigo.geneontology.org/amigo/term/GO:0070935  |\n",
    "\n",
    "### Edge Serialization\n",
    "\n",
    "Meanwhile, edges require (1) source id, (2) the relation, and (3) target id columns. The rest are optional metadata. CSV file should be formatted as follows: `<source_node_type>.<relation>.<target_node_type>.edges.csv`.\n",
    "\n",
    "|      |   source  |   relation  |   target      |   source_label  |   target_label                                              |   resource       |   link_to_resource          |\n",
    "|------|-----------|-------------|---------------|-----------------|-------------------------------------------------------------|------------------|-----------------------------|\n",
    "|   0  |   23753   |   GO BP     |   GO:0051084  |   SDF2L1        |   'de novo' posttranslational protein folding (GO:0051084)  |   Gene Ontology  |   http://geneontology.org/  |\n",
    "|   1  |   3313    |   GO BP     |   GO:0051084  |   HSPA9         |   'de novo' posttranslational protein folding (GO:0051084)  |   Gene Ontology  |   http://geneontology.org/  |\n",
    "|   2  |   10576   |   GO BP     |   GO:0051084  |   CCT2          |   'de novo' posttranslational protein folding (GO:0051084)  |   Gene Ontology  |   http://geneontology.org/  |\n",
    "|   3  |   6767    |   GO BP     |   GO:0051084  |   ST13          |   'de novo' posttranslational protein folding (GO:0051084)  |   Gene Ontology  |   http://geneontology.org/  |\n",
    "|   4  |   3310    |   GO BP     |   GO:0051084  |   HSPA6         |   'de novo' posttranslational protein folding (GO:0051084)  |   Gene Ontology  |   http://geneontology.org/  |\n",
    "|   5  |   957     |   GO BP     |   GO:0051084  |   ENTPD5        |   'de novo' posttranslational protein folding (GO:0051084)  |   Gene Ontology  |   http://geneontology.org/  |"
   ]
  },
  {
   "cell_type": "code",
   "execution_count": 4,
   "metadata": {},
   "outputs": [],
   "source": [
    "import requests\n",
    "import json\n",
    "import re\n",
    "from tqdm import tqdm\n",
    "import os\n",
    "import pandas as pd\n",
    "import time\n",
    "import uuid"
   ]
  },
  {
   "attachments": {},
   "cell_type": "markdown",
   "metadata": {},
   "source": [
    "### Gene Mapper\n",
    "To start our conversion, we need a way to map the gene names to their respective gene ids. The following code downloads the metadata for Homo sapiens genes from NCBI gene and creates a mapper that returns the gene id. It does this by (1) mapping gene labels to ID, (2) mapping synonyms to ID, (3) mapping upper case gene labels and synonyms to ids. (3) is done to address the fact that Enrichr gene names are all upper case. Ambiguous labels (i.e. names with multiple ids) are removed from the map. The function `get_gene_meta` extends this and returns a dictionary containing the gene id, label, and uri which can be used for our serialization."
   ]
  },
  {
   "cell_type": "code",
   "execution_count": 5,
   "metadata": {},
   "outputs": [],
   "source": [
    "def fetch_save_read(url, file, reader=pd.read_csv, sep='\\t', **kwargs):\n",
    "  ''' Download file from {url}, save it to {file}, and subsequently read it with {reader} using pandas options on {**kwargs}.\n",
    "  '''\n",
    "  if not os.path.exists(file):\n",
    "    if os.path.dirname(file):\n",
    "      os.makedirs(os.path.dirname(file), exist_ok=True)\n",
    "    df = reader(url, sep=sep, index_col=None)\n",
    "    df.to_csv(file, sep=sep, index=False)\n",
    "  return pd.read_csv(file, sep=sep, **kwargs)"
   ]
  },
  {
   "cell_type": "code",
   "execution_count": 6,
   "metadata": {},
   "outputs": [],
   "source": [
    "organism = \"Mammalia/Homo_sapiens\"\n",
    "url = 'ftp://ftp.ncbi.nih.gov/gene/DATA/GENE_INFO/{}.gene_info.gz'.format(organism)\n",
    "file = '{}.gene_info.tsv'.format(organism)\n",
    "\n",
    "ncbi_gene = fetch_save_read(url, file)\n"
   ]
  },
  {
   "cell_type": "code",
   "execution_count": 7,
   "metadata": {},
   "outputs": [],
   "source": [
    "def maybe_split(record):\n",
    "    ''' NCBI Stores Nulls as '-' and lists '|' delimited\n",
    "    '''\n",
    "    if record in {'', '-'}:\n",
    "        return set()\n",
    "    return set(record.split('|'))\n",
    "\n",
    "def supplement_dbXref_prefix_omitted(ids):\n",
    "    ''' NCBI Stores external IDS with Foreign:ID while most datasets just use the ID\n",
    "    '''\n",
    "    for id in ids:\n",
    "        # add original id\n",
    "        yield id\n",
    "        # also add id *without* prefix\n",
    "        if ':' in id:\n",
    "            yield id.split(':', maxsplit=1)[1]"
   ]
  },
  {
   "cell_type": "code",
   "execution_count": 8,
   "metadata": {},
   "outputs": [],
   "source": [
    "ncbi_gene['All_synonyms'] = [\n",
    "    set.union(\n",
    "      maybe_split(gene_info['Symbol']),\n",
    "      maybe_split(gene_info['Symbol_from_nomenclature_authority']),\n",
    "      maybe_split(str(gene_info['GeneID'])),\n",
    "      maybe_split(gene_info['Synonyms']),\n",
    "      maybe_split(gene_info['Other_designations']),\n",
    "      maybe_split(gene_info['LocusTag']),\n",
    "      set(supplement_dbXref_prefix_omitted(maybe_split(gene_info['dbXrefs']))),\n",
    "    )\n",
    "    for _, gene_info in ncbi_gene.iterrows()\n",
    "  ]\n",
    "\n",
    "synonyms, gene_id = zip(*{\n",
    "    (synonym, gene_info['GeneID'])\n",
    "    for _, gene_info in ncbi_gene.iterrows()\n",
    "    for synonym in gene_info['All_synonyms']\n",
    "  })\n",
    "ncbi_lookup_syn = pd.Series(gene_id, index=synonyms)\n",
    "symbols, cap, gene_id = zip(*{\n",
    "    (gene_info['Symbol'], gene_info['Symbol'].upper(), gene_info['GeneID'])\n",
    "    for _, gene_info in ncbi_gene.iterrows()\n",
    "  })\n",
    "ncbi_lookup_sym = pd.Series(gene_id, index=symbols)\n",
    "ncbi_lookup_sym_cap = pd.Series(gene_id, index=cap)"
   ]
  },
  {
   "cell_type": "code",
   "execution_count": 9,
   "metadata": {},
   "outputs": [],
   "source": [
    "index_values = ncbi_lookup_syn.index.value_counts()\n",
    "ambiguous = index_values[index_values > 1].index\n",
    "ncbi_lookup_syn_disambiguated = ncbi_lookup_syn[(\n",
    "(ncbi_lookup_syn.index == ncbi_lookup_syn) | (~ncbi_lookup_syn.index.isin(ambiguous))\n",
    ")]\n",
    "def gene_lookup(gene):\n",
    "    gene_id = ncbi_lookup_sym.to_dict().get(gene)\n",
    "    if gene_id: return str(gene_id)\n",
    "    gene_id = ncbi_lookup_sym_cap.to_dict().get(gene)\n",
    "    if gene_id: return str(gene_id)\n",
    "    return str(ncbi_lookup_syn_disambiguated.to_dict().get(gene))"
   ]
  },
  {
   "cell_type": "code",
   "execution_count": 10,
   "metadata": {},
   "outputs": [
    {
     "data": {
      "text/plain": [
       "'None'"
      ]
     },
     "execution_count": 10,
     "metadata": {},
     "output_type": "execute_result"
    }
   ],
   "source": [
    "gene_lookup(\"H4-16\")"
   ]
  },
  {
   "cell_type": "code",
   "execution_count": 11,
   "metadata": {},
   "outputs": [
    {
     "data": {
      "text/plain": [
       "'6774'"
      ]
     },
     "execution_count": 11,
     "metadata": {},
     "output_type": "execute_result"
    }
   ],
   "source": [
    "gene_lookup(\"STAT3\")"
   ]
  },
  {
   "cell_type": "code",
   "execution_count": 12,
   "metadata": {},
   "outputs": [
    {
     "data": {
      "text/plain": [
       "{'id': '9276',\n",
       " 'label': 'COPB2',\n",
       " 'uri': 'https://www.ncbi.nlm.nih.gov/gene/9276'}"
      ]
     },
     "execution_count": 12,
     "metadata": {},
     "output_type": "execute_result"
    }
   ],
   "source": [
    "all_genes = {}\n",
    "gene_ids = set()\n",
    "def get_gene_meta(gene):\n",
    "    if gene in all_genes:\n",
    "        return all_genes[gene]\n",
    "    else:\n",
    "        gene_id = gene_lookup(gene)\n",
    "        if gene_id in gene_ids:\n",
    "            return None\n",
    "        elif gene_id == 'None':\n",
    "            return None\n",
    "        elif gene_id == None:\n",
    "            return None\n",
    "        else:\n",
    "            gene_ids.add(gene_id)\n",
    "            all_genes[gene] = {\n",
    "                \"id\": gene_id,\n",
    "                \"label\": gene,\n",
    "                \"uri\": \"https://www.ncbi.nlm.nih.gov/gene/%s\"%gene_id\n",
    "            }\n",
    "            return all_genes[gene]\n",
    "\n",
    "get_gene_meta(\"COPB2\")"
   ]
  },
  {
   "cell_type": "code",
   "execution_count": 13,
   "metadata": {},
   "outputs": [
    {
     "data": {
      "text/plain": [
       "{'id': '6774',\n",
       " 'label': 'STAT3',\n",
       " 'uri': 'https://www.ncbi.nlm.nih.gov/gene/6774'}"
      ]
     },
     "execution_count": 13,
     "metadata": {},
     "output_type": "execute_result"
    }
   ],
   "source": [
    "get_gene_meta('STAT3')"
   ]
  },
  {
   "attachments": {},
   "cell_type": "markdown",
   "metadata": {},
   "source": [
    "### Downloading the GMT files from Enrichr\n",
    "The following code downloads the GMT file from Enrichr. This function checks the existence of the file locally before downloading it."
   ]
  },
  {
   "cell_type": "code",
   "execution_count": 15,
   "metadata": {},
   "outputs": [],
   "source": [
    "def fetch_and_save_library(library, file):\n",
    "  ''' Download file from {url}, save it to {file}, and subsequently read it with {reader} using pandas options on {**kwargs}.\n",
    "  '''\n",
    "  if not os.path.exists(file):\n",
    "    if os.path.dirname(file):\n",
    "      os.makedirs(os.path.dirname(file), exist_ok=True)\n",
    "    gmt_url = \"https://maayanlab.cloud/Enrichr/geneSetLibrary?mode=text&libraryName=%s\"%library\n",
    "    res = requests.get(gmt_url)\n",
    "    gmt = res.text\n",
    "    with open(file, 'w') as o:\n",
    "        o.write(gmt)\n",
    "  \n",
    "  with open(file) as o:\n",
    "    return o.read().strip().split(\"\\n\")"
   ]
  },
  {
   "attachments": {},
   "cell_type": "markdown",
   "metadata": {},
   "source": [
    "### Serializing GMT Files\n",
    "Now that we have everything we need, let's try converting some Enrichr libraries to CSV files. Before we start let's define first a dictionary to store all the gene metadata. We'll use this to generate a combined gene node csv file later."
   ]
  },
  {
   "attachments": {},
   "cell_type": "markdown",
   "metadata": {},
   "source": [
    "#### Using regular expression to get the term id: GO_Biological_Process_2021\n",
    "The following code block downloads the gmt file if it does not exist"
   ]
  },
  {
   "cell_type": "code",
   "execution_count": 16,
   "metadata": {},
   "outputs": [
    {
     "name": "stdout",
     "output_type": "stream",
     "text": [
      "'de novo' posttranslational protein folding (GO:0051084)\t\tSDF2L1\tHSPA9\tCCT2\tST13\tHSPA6\tENTPD5\tHSPA5\tPTGES3\tHSPA1L\tHSPA8\tDNAJB13\tHSPA2\tDNAJB14\tHSPE1\tDNAJC18\tGAK\tDNAJC7\tDNAJB12\tHSPA1A\tHSPA1B\tERO1A\tSELENOF\tHSPA14\tHSPA13\tDNAJB1\tCHCHD4\tBAG1\tDNAJB5\tDNAJB4\tSDF2\tUGGT1\t\n"
     ]
    }
   ],
   "source": [
    "library = \"GO_Biological_Process_2021\"\n",
    "filename = \"gmt/%s.gmt\"%library\n",
    "gmt = fetch_and_save_library(library, filename)\n",
    "print(gmt[0])"
   ]
  },
  {
   "attachments": {},
   "cell_type": "markdown",
   "metadata": {},
   "source": [
    "![GO](./img/graph.png)"
   ]
  },
  {
   "attachments": {},
   "cell_type": "markdown",
   "metadata": {},
   "source": [
    "##### Serializing the nodes\n",
    "For this GMT file, notice that the label already contains a persistent id that we can use as a node id. We can extract it by utilizing regular expressions."
   ]
  },
  {
   "cell_type": "code",
   "execution_count": 17,
   "metadata": {},
   "outputs": [
    {
     "name": "stdout",
     "output_type": "stream",
     "text": [
      "{\n",
      "    \"label\": \"'de novo' posttranslational protein folding (GO:0051084)\",\n",
      "    \"ontology_label\": \"'de novo' posttranslational protein folding\",\n",
      "    \"id\": \"GO:0051084\"\n",
      "}\n"
     ]
    }
   ],
   "source": [
    "name = \"'de novo' posttranslational protein folding (GO:0051084)\"\n",
    "regex=\"(?P<label>(?P<ontology_label>.+) \\((?P<id>GO\\:.+)\\))\"\n",
    "props = re.search(regex, name).groupdict()\n",
    "print(json.dumps(props, indent=4))"
   ]
  },
  {
   "cell_type": "code",
   "execution_count": 18,
   "metadata": {},
   "outputs": [],
   "source": [
    "def gene_set_name_resolver(name):\n",
    "    regex=\"(?P<label>(?P<ontology_label>.+) \\((?P<id>GO\\:.+)\\))\"\n",
    "    props = re.search(regex, name).groupdict()\n",
    "    props[\"uri\"] = \"http://amigo.geneontology.org/amigo/term/%s\"%props[\"id\"]\n",
    "    return props"
   ]
  },
  {
   "cell_type": "code",
   "execution_count": 19,
   "metadata": {},
   "outputs": [],
   "source": [
    "term = gmt[0].split(\"\\t\\t\")[0]"
   ]
  },
  {
   "cell_type": "code",
   "execution_count": 20,
   "metadata": {},
   "outputs": [
    {
     "data": {
      "text/plain": [
       "{'label': \"'de novo' posttranslational protein folding (GO:0051084)\",\n",
       " 'ontology_label': \"'de novo' posttranslational protein folding\",\n",
       " 'id': 'GO:0051084',\n",
       " 'uri': 'http://amigo.geneontology.org/amigo/term/GO:0051084'}"
      ]
     },
     "execution_count": 20,
     "metadata": {},
     "output_type": "execute_result"
    }
   ],
   "source": [
    "gene_set_name_resolver(term)"
   ]
  },
  {
   "attachments": {},
   "cell_type": "markdown",
   "metadata": {},
   "source": [
    "##### Serializing the edges\n",
    "\n",
    "Now that we have a way to get process the term and gene nodes, let's now get to serializing edges. For a GMT file, we say that an edge exists between a gene and a term if the gene is part of that term's gene set, that is if we have the following:\n",
    "```\n",
    "Term 1      Gene 1  Gene 2  Gene 3\n",
    "Term 2      Gene 2  Gene 4  Gene 5\n",
    "```\n",
    "Then we say that there is an edge between Term 1 and Gene 1, Gene 2, and Gene 3, and Term 2 and Gene 2, Gene 4, and Gene 5."
   ]
  },
  {
   "cell_type": "code",
   "execution_count": null,
   "metadata": {},
   "outputs": [],
   "source": [
    "def iterate_gmt(gmt, term_node, relation, gene_set_name_resolver, resource=None, edge_properties={}):\n",
    "    terms = []\n",
    "    edges = []\n",
    "    for line in tqdm(gmt):\n",
    "        term, *genes = line.strip().split(\"\\t\")\n",
    "        genes = genes[1:]\n",
    "        term_meta = gene_set_name_resolver(term)\n",
    "        if term_meta:\n",
    "            term_id = term_meta[\"id\"]\n",
    "            terms.append(term_meta)\n",
    "            for gene in genes:\n",
    "                gene_meta = get_gene_meta(gene)\n",
    "                if gene_meta:\n",
    "                    if type(gene_meta) == str:\n",
    "                        print(gene, gene_meta)\n",
    "                    gene_id = gene_meta[\"id\"]\n",
    "                    edge = {\n",
    "                        \"source\": term_id,\n",
    "                        \"relation\": relation,\n",
    "                        \"target\": gene_id,\n",
    "                        \"source_label\": term,\n",
    "                        \"target_label\": gene,\n",
    "                        **edge_properties.get((term, gene), {})\n",
    "                    }\n",
    "                    if resource:\n",
    "                        edge[\"resource\"] = resource\n",
    "                    edges.append(edge)\n",
    "    term_df = pd.DataFrame.from_records(terms)\n",
    "    cols = [\"id\", \"label\"] + [i for i in term_df.columns if not i in [\"id\", \"label\"]]\n",
    "    term_df = term_df[cols]\n",
    "    term_df.to_csv(\"csv/%s.nodes.csv\"%term_node, index=False)\n",
    "    edge_df = pd.DataFrame.from_records(edges)\n",
    "    edge_df.to_csv(\"csv/%s.%s.Gene.edges.csv\"%(term_node, relation), index=False)"
   ]
  },
  {
   "cell_type": "code",
   "execution_count": null,
   "metadata": {},
   "outputs": [
    {
     "name": "stderr",
     "output_type": "stream",
     "text": [
      "100%|██████████| 6036/6036 [10:22<00:00,  9.69it/s]  \n"
     ]
    }
   ],
   "source": [
    "term_node = \"GO Biological Process Term\"\n",
    "relation = \"GO BP\"\n",
    "resource = \"http://geneontology.org/\"\n",
    "iterate_gmt(gmt, term_node, relation, gene_set_name_resolver, resource)"
   ]
  },
  {
   "cell_type": "code",
   "execution_count": 21,
   "metadata": {},
   "outputs": [
    {
     "data": {
      "text/html": [
       "<div>\n",
       "<style scoped>\n",
       "    .dataframe tbody tr th:only-of-type {\n",
       "        vertical-align: middle;\n",
       "    }\n",
       "\n",
       "    .dataframe tbody tr th {\n",
       "        vertical-align: top;\n",
       "    }\n",
       "\n",
       "    .dataframe thead th {\n",
       "        text-align: right;\n",
       "    }\n",
       "</style>\n",
       "<table border=\"1\" class=\"dataframe\">\n",
       "  <thead>\n",
       "    <tr style=\"text-align: right;\">\n",
       "      <th></th>\n",
       "      <th>id</th>\n",
       "      <th>label</th>\n",
       "      <th>ontology_label</th>\n",
       "      <th>uri</th>\n",
       "    </tr>\n",
       "  </thead>\n",
       "  <tbody>\n",
       "    <tr>\n",
       "      <th>0</th>\n",
       "      <td>GO:0051084</td>\n",
       "      <td>'de novo' posttranslational protein folding (G...</td>\n",
       "      <td>'de novo' posttranslational protein folding</td>\n",
       "      <td>http://amigo.geneontology.org/amigo/term/GO:00...</td>\n",
       "    </tr>\n",
       "    <tr>\n",
       "      <th>1</th>\n",
       "      <td>GO:0006103</td>\n",
       "      <td>2-oxoglutarate metabolic process (GO:0006103)</td>\n",
       "      <td>2-oxoglutarate metabolic process</td>\n",
       "      <td>http://amigo.geneontology.org/amigo/term/GO:00...</td>\n",
       "    </tr>\n",
       "    <tr>\n",
       "      <th>2</th>\n",
       "      <td>GO:0050428</td>\n",
       "      <td>3'-phosphoadenosine 5'-phosphosulfate biosynth...</td>\n",
       "      <td>3'-phosphoadenosine 5'-phosphosulfate biosynth...</td>\n",
       "      <td>http://amigo.geneontology.org/amigo/term/GO:00...</td>\n",
       "    </tr>\n",
       "    <tr>\n",
       "      <th>3</th>\n",
       "      <td>GO:0050427</td>\n",
       "      <td>3'-phosphoadenosine 5'-phosphosulfate metaboli...</td>\n",
       "      <td>3'-phosphoadenosine 5'-phosphosulfate metaboli...</td>\n",
       "      <td>http://amigo.geneontology.org/amigo/term/GO:00...</td>\n",
       "    </tr>\n",
       "    <tr>\n",
       "      <th>4</th>\n",
       "      <td>GO:0061158</td>\n",
       "      <td>3'-UTR-mediated mRNA destabilization (GO:0061158)</td>\n",
       "      <td>3'-UTR-mediated mRNA destabilization</td>\n",
       "      <td>http://amigo.geneontology.org/amigo/term/GO:00...</td>\n",
       "    </tr>\n",
       "  </tbody>\n",
       "</table>\n",
       "</div>"
      ],
      "text/plain": [
       "           id                                              label  \\\n",
       "0  GO:0051084  'de novo' posttranslational protein folding (G...   \n",
       "1  GO:0006103      2-oxoglutarate metabolic process (GO:0006103)   \n",
       "2  GO:0050428  3'-phosphoadenosine 5'-phosphosulfate biosynth...   \n",
       "3  GO:0050427  3'-phosphoadenosine 5'-phosphosulfate metaboli...   \n",
       "4  GO:0061158  3'-UTR-mediated mRNA destabilization (GO:0061158)   \n",
       "\n",
       "                                      ontology_label  \\\n",
       "0        'de novo' posttranslational protein folding   \n",
       "1                   2-oxoglutarate metabolic process   \n",
       "2  3'-phosphoadenosine 5'-phosphosulfate biosynth...   \n",
       "3  3'-phosphoadenosine 5'-phosphosulfate metaboli...   \n",
       "4               3'-UTR-mediated mRNA destabilization   \n",
       "\n",
       "                                                 uri  \n",
       "0  http://amigo.geneontology.org/amigo/term/GO:00...  \n",
       "1  http://amigo.geneontology.org/amigo/term/GO:00...  \n",
       "2  http://amigo.geneontology.org/amigo/term/GO:00...  \n",
       "3  http://amigo.geneontology.org/amigo/term/GO:00...  \n",
       "4  http://amigo.geneontology.org/amigo/term/GO:00...  "
      ]
     },
     "execution_count": 21,
     "metadata": {},
     "output_type": "execute_result"
    }
   ],
   "source": [
    "node_df = pd.read_csv('./csv/GO Biological Process Term.nodes.csv')\n",
    "node_df.head()"
   ]
  },
  {
   "cell_type": "code",
   "execution_count": 22,
   "metadata": {},
   "outputs": [
    {
     "data": {
      "text/html": [
       "<div>\n",
       "<style scoped>\n",
       "    .dataframe tbody tr th:only-of-type {\n",
       "        vertical-align: middle;\n",
       "    }\n",
       "\n",
       "    .dataframe tbody tr th {\n",
       "        vertical-align: top;\n",
       "    }\n",
       "\n",
       "    .dataframe thead th {\n",
       "        text-align: right;\n",
       "    }\n",
       "</style>\n",
       "<table border=\"1\" class=\"dataframe\">\n",
       "  <thead>\n",
       "    <tr style=\"text-align: right;\">\n",
       "      <th></th>\n",
       "      <th>source</th>\n",
       "      <th>relation</th>\n",
       "      <th>target</th>\n",
       "      <th>source_label</th>\n",
       "      <th>target_label</th>\n",
       "      <th>resource</th>\n",
       "    </tr>\n",
       "  </thead>\n",
       "  <tbody>\n",
       "    <tr>\n",
       "      <th>0</th>\n",
       "      <td>GO:0051084</td>\n",
       "      <td>GO BP</td>\n",
       "      <td>23753</td>\n",
       "      <td>'de novo' posttranslational protein folding (G...</td>\n",
       "      <td>SDF2L1</td>\n",
       "      <td>http://geneontology.org/</td>\n",
       "    </tr>\n",
       "    <tr>\n",
       "      <th>1</th>\n",
       "      <td>GO:0051084</td>\n",
       "      <td>GO BP</td>\n",
       "      <td>3313</td>\n",
       "      <td>'de novo' posttranslational protein folding (G...</td>\n",
       "      <td>HSPA9</td>\n",
       "      <td>http://geneontology.org/</td>\n",
       "    </tr>\n",
       "    <tr>\n",
       "      <th>2</th>\n",
       "      <td>GO:0051084</td>\n",
       "      <td>GO BP</td>\n",
       "      <td>10576</td>\n",
       "      <td>'de novo' posttranslational protein folding (G...</td>\n",
       "      <td>CCT2</td>\n",
       "      <td>http://geneontology.org/</td>\n",
       "    </tr>\n",
       "    <tr>\n",
       "      <th>3</th>\n",
       "      <td>GO:0051084</td>\n",
       "      <td>GO BP</td>\n",
       "      <td>6767</td>\n",
       "      <td>'de novo' posttranslational protein folding (G...</td>\n",
       "      <td>ST13</td>\n",
       "      <td>http://geneontology.org/</td>\n",
       "    </tr>\n",
       "    <tr>\n",
       "      <th>4</th>\n",
       "      <td>GO:0051084</td>\n",
       "      <td>GO BP</td>\n",
       "      <td>3310</td>\n",
       "      <td>'de novo' posttranslational protein folding (G...</td>\n",
       "      <td>HSPA6</td>\n",
       "      <td>http://geneontology.org/</td>\n",
       "    </tr>\n",
       "  </tbody>\n",
       "</table>\n",
       "</div>"
      ],
      "text/plain": [
       "       source relation  target  \\\n",
       "0  GO:0051084    GO BP   23753   \n",
       "1  GO:0051084    GO BP    3313   \n",
       "2  GO:0051084    GO BP   10576   \n",
       "3  GO:0051084    GO BP    6767   \n",
       "4  GO:0051084    GO BP    3310   \n",
       "\n",
       "                                        source_label target_label  \\\n",
       "0  'de novo' posttranslational protein folding (G...       SDF2L1   \n",
       "1  'de novo' posttranslational protein folding (G...        HSPA9   \n",
       "2  'de novo' posttranslational protein folding (G...         CCT2   \n",
       "3  'de novo' posttranslational protein folding (G...         ST13   \n",
       "4  'de novo' posttranslational protein folding (G...        HSPA6   \n",
       "\n",
       "                   resource  \n",
       "0  http://geneontology.org/  \n",
       "1  http://geneontology.org/  \n",
       "2  http://geneontology.org/  \n",
       "3  http://geneontology.org/  \n",
       "4  http://geneontology.org/  "
      ]
     },
     "execution_count": 22,
     "metadata": {},
     "output_type": "execute_result"
    }
   ],
   "source": [
    "edge_df = pd.read_csv('./csv/GO Biological Process Term.GO BP.Gene.edges.csv')\n",
    "edge_df.head()"
   ]
  },
  {
   "attachments": {},
   "cell_type": "markdown",
   "metadata": {},
   "source": [
    "#### Exercise: MGI_Mammalian_Phenotype_Level_4_2021\n",
    "Create a `gene_set_name_resolver` function for MGI_Mammalian_Phenotype_Level_4_2021"
   ]
  },
  {
   "cell_type": "code",
   "execution_count": 23,
   "metadata": {},
   "outputs": [
    {
     "name": "stdout",
     "output_type": "stream",
     "text": [
      "abdominal situs ambiguus MP:0011250\t\tCCDC39\tDNAH5\tINVS\tDNAH11\tDNAAF3\tFOXH1\tRPGRIP1L\tDRC1\tDNAI1\tIFT27\t\n"
     ]
    }
   ],
   "source": [
    "library = 'MGI_Mammalian_Phenotype_Level_4_2021'\n",
    "filename = \"gmt/%s.gmt\"%library\n",
    "gmt = fetch_and_save_library(library, filename)\n",
    "print(gmt[0])"
   ]
  },
  {
   "cell_type": "code",
   "execution_count": null,
   "metadata": {},
   "outputs": [],
   "source": [
    "def gene_set_name_resolver(name):\n",
    "    pass"
   ]
  },
  {
   "cell_type": "code",
   "execution_count": null,
   "metadata": {},
   "outputs": [],
   "source": [
    "term_node = \"Mouse Phenotype\"\n",
    "relation = \"MP\"\n",
    "resource = \"http://www.informatics.jax.org\"\n",
    "iterate_gmt(gmt, term_node, relation, gene_set_name_resolver, resource)"
   ]
  },
  {
   "attachments": {},
   "cell_type": "markdown",
   "metadata": {},
   "source": [
    "#### Using APIs to get the node id: KEGG_2021_Human\n",
    "If the ID is not in the term, we can use an API to create a mapping between a term and the id. This example uses the KEGG's rest API to download the pathways and their respective IDs"
   ]
  },
  {
   "cell_type": "code",
   "execution_count": 24,
   "metadata": {},
   "outputs": [
    {
     "name": "stdout",
     "output_type": "stream",
     "text": [
      "ABC transporters\t\tABCA2\tABCC4\tABCG8\tABCC5\tABCA3\tABCC2\tABCA1\tABCC3\tABCC8\tABCA6\tABCA7\tABCC9\tABCA4\tABCC6\tABCA5\tTAP2\tTAP1\tABCA8\tABCA9\tABCA10\tABCB10\tABCA12\tABCB11\tABCC10\tABCG1\tABCG4\tABCC1\tABCG5\tABCG2\tCFTR\tABCB4\tABCD3\tABCB1\tABCD4\tABCB7\tABCB8\tABCB5\tABCB6\tABCB9\tABCA13\tABCC11\tDEFB1\tABCC12\tABCD1\tABCD2\t\n"
     ]
    }
   ],
   "source": [
    "library = \"KEGG_2021_Human\"\n",
    "gmt = fetch_and_save_library(library, \"gmt/%s\"%library)\n",
    "print(gmt[0])"
   ]
  },
  {
   "cell_type": "code",
   "execution_count": 25,
   "metadata": {},
   "outputs": [],
   "source": [
    "kegg_pathways = {}\n",
    "res = requests.get(\"https://rest.kegg.jp/list/pathway\")\n",
    "count = 0\n",
    "for i in res.text.strip().split(\"\\n\"):\n",
    "    kid, label = i.strip().split(\"\\t\")\n",
    "    count += 1\n",
    "    kegg_pathways[label] = kid"
   ]
  },
  {
   "cell_type": "code",
   "execution_count": 26,
   "metadata": {},
   "outputs": [
    {
     "data": {
      "text/plain": [
       "'path:map02010'"
      ]
     },
     "execution_count": 26,
     "metadata": {},
     "output_type": "execute_result"
    }
   ],
   "source": [
    "kegg_pathways[\"ABC transporters\"]"
   ]
  },
  {
   "cell_type": "code",
   "execution_count": 27,
   "metadata": {},
   "outputs": [],
   "source": [
    "def gene_set_name_resolver(name):\n",
    "    kegg_id = kegg_pathways[name] if name in kegg_pathways else name\n",
    "    props = {\n",
    "        \"id\": kegg_id,\n",
    "        \"label\": name\n",
    "    }\n",
    "    if name in kegg_pathways:\n",
    "        props[\"uri\"] = \"https://www.genome.jp/entry/%s\"%props[\"id\"]\n",
    "    return props "
   ]
  },
  {
   "cell_type": "code",
   "execution_count": null,
   "metadata": {},
   "outputs": [
    {
     "name": "stderr",
     "output_type": "stream",
     "text": [
      "100%|██████████| 320/320 [00:39<00:00,  8.17it/s]\n"
     ]
    }
   ],
   "source": [
    "term_node = \"KEGG Pathway\"\n",
    "relation = \"KEGG\"\n",
    "resource = \"https://www.genome.jp/kegg/\"\n",
    "iterate_gmt(gmt, term_node, relation, gene_set_name_resolver, resource)"
   ]
  },
  {
   "cell_type": "code",
   "execution_count": 28,
   "metadata": {},
   "outputs": [
    {
     "data": {
      "text/html": [
       "<div>\n",
       "<style scoped>\n",
       "    .dataframe tbody tr th:only-of-type {\n",
       "        vertical-align: middle;\n",
       "    }\n",
       "\n",
       "    .dataframe tbody tr th {\n",
       "        vertical-align: top;\n",
       "    }\n",
       "\n",
       "    .dataframe thead th {\n",
       "        text-align: right;\n",
       "    }\n",
       "</style>\n",
       "<table border=\"1\" class=\"dataframe\">\n",
       "  <thead>\n",
       "    <tr style=\"text-align: right;\">\n",
       "      <th></th>\n",
       "      <th>id</th>\n",
       "      <th>label</th>\n",
       "      <th>uri</th>\n",
       "    </tr>\n",
       "  </thead>\n",
       "  <tbody>\n",
       "    <tr>\n",
       "      <th>0</th>\n",
       "      <td>path:map02010</td>\n",
       "      <td>ABC transporters</td>\n",
       "      <td>https://www.genome.jp/entry/path:map02010</td>\n",
       "    </tr>\n",
       "    <tr>\n",
       "      <th>1</th>\n",
       "      <td>path:map04933</td>\n",
       "      <td>AGE-RAGE signaling pathway in diabetic complic...</td>\n",
       "      <td>https://www.genome.jp/entry/path:map04933</td>\n",
       "    </tr>\n",
       "    <tr>\n",
       "      <th>2</th>\n",
       "      <td>path:map04152</td>\n",
       "      <td>AMPK signaling pathway</td>\n",
       "      <td>https://www.genome.jp/entry/path:map04152</td>\n",
       "    </tr>\n",
       "    <tr>\n",
       "      <th>3</th>\n",
       "      <td>path:map05221</td>\n",
       "      <td>Acute myeloid leukemia</td>\n",
       "      <td>https://www.genome.jp/entry/path:map05221</td>\n",
       "    </tr>\n",
       "    <tr>\n",
       "      <th>4</th>\n",
       "      <td>path:map04520</td>\n",
       "      <td>Adherens junction</td>\n",
       "      <td>https://www.genome.jp/entry/path:map04520</td>\n",
       "    </tr>\n",
       "  </tbody>\n",
       "</table>\n",
       "</div>"
      ],
      "text/plain": [
       "              id                                              label  \\\n",
       "0  path:map02010                                   ABC transporters   \n",
       "1  path:map04933  AGE-RAGE signaling pathway in diabetic complic...   \n",
       "2  path:map04152                             AMPK signaling pathway   \n",
       "3  path:map05221                             Acute myeloid leukemia   \n",
       "4  path:map04520                                  Adherens junction   \n",
       "\n",
       "                                         uri  \n",
       "0  https://www.genome.jp/entry/path:map02010  \n",
       "1  https://www.genome.jp/entry/path:map04933  \n",
       "2  https://www.genome.jp/entry/path:map04152  \n",
       "3  https://www.genome.jp/entry/path:map05221  \n",
       "4  https://www.genome.jp/entry/path:map04520  "
      ]
     },
     "execution_count": 28,
     "metadata": {},
     "output_type": "execute_result"
    }
   ],
   "source": [
    "node_df = pd.read_csv('./csv/KEGG Pathway.nodes.csv')\n",
    "node_df.head()"
   ]
  },
  {
   "cell_type": "code",
   "execution_count": 29,
   "metadata": {},
   "outputs": [
    {
     "data": {
      "text/html": [
       "<div>\n",
       "<style scoped>\n",
       "    .dataframe tbody tr th:only-of-type {\n",
       "        vertical-align: middle;\n",
       "    }\n",
       "\n",
       "    .dataframe tbody tr th {\n",
       "        vertical-align: top;\n",
       "    }\n",
       "\n",
       "    .dataframe thead th {\n",
       "        text-align: right;\n",
       "    }\n",
       "</style>\n",
       "<table border=\"1\" class=\"dataframe\">\n",
       "  <thead>\n",
       "    <tr style=\"text-align: right;\">\n",
       "      <th></th>\n",
       "      <th>source</th>\n",
       "      <th>relation</th>\n",
       "      <th>target</th>\n",
       "      <th>source_label</th>\n",
       "      <th>target_label</th>\n",
       "      <th>resource</th>\n",
       "    </tr>\n",
       "  </thead>\n",
       "  <tbody>\n",
       "    <tr>\n",
       "      <th>0</th>\n",
       "      <td>path:map02010</td>\n",
       "      <td>KEGG</td>\n",
       "      <td>20</td>\n",
       "      <td>ABC transporters</td>\n",
       "      <td>ABCA2</td>\n",
       "      <td>https://www.genome.jp/kegg/</td>\n",
       "    </tr>\n",
       "    <tr>\n",
       "      <th>1</th>\n",
       "      <td>path:map02010</td>\n",
       "      <td>KEGG</td>\n",
       "      <td>10257</td>\n",
       "      <td>ABC transporters</td>\n",
       "      <td>ABCC4</td>\n",
       "      <td>https://www.genome.jp/kegg/</td>\n",
       "    </tr>\n",
       "    <tr>\n",
       "      <th>2</th>\n",
       "      <td>path:map02010</td>\n",
       "      <td>KEGG</td>\n",
       "      <td>64241</td>\n",
       "      <td>ABC transporters</td>\n",
       "      <td>ABCG8</td>\n",
       "      <td>https://www.genome.jp/kegg/</td>\n",
       "    </tr>\n",
       "    <tr>\n",
       "      <th>3</th>\n",
       "      <td>path:map02010</td>\n",
       "      <td>KEGG</td>\n",
       "      <td>10057</td>\n",
       "      <td>ABC transporters</td>\n",
       "      <td>ABCC5</td>\n",
       "      <td>https://www.genome.jp/kegg/</td>\n",
       "    </tr>\n",
       "    <tr>\n",
       "      <th>4</th>\n",
       "      <td>path:map02010</td>\n",
       "      <td>KEGG</td>\n",
       "      <td>21</td>\n",
       "      <td>ABC transporters</td>\n",
       "      <td>ABCA3</td>\n",
       "      <td>https://www.genome.jp/kegg/</td>\n",
       "    </tr>\n",
       "  </tbody>\n",
       "</table>\n",
       "</div>"
      ],
      "text/plain": [
       "          source relation  target      source_label target_label  \\\n",
       "0  path:map02010     KEGG      20  ABC transporters        ABCA2   \n",
       "1  path:map02010     KEGG   10257  ABC transporters        ABCC4   \n",
       "2  path:map02010     KEGG   64241  ABC transporters        ABCG8   \n",
       "3  path:map02010     KEGG   10057  ABC transporters        ABCC5   \n",
       "4  path:map02010     KEGG      21  ABC transporters        ABCA3   \n",
       "\n",
       "                      resource  \n",
       "0  https://www.genome.jp/kegg/  \n",
       "1  https://www.genome.jp/kegg/  \n",
       "2  https://www.genome.jp/kegg/  \n",
       "3  https://www.genome.jp/kegg/  \n",
       "4  https://www.genome.jp/kegg/  "
      ]
     },
     "execution_count": 29,
     "metadata": {},
     "output_type": "execute_result"
    }
   ],
   "source": [
    "edge_df = pd.read_csv('./csv/KEGG Pathway.KEGG.Gene.edges.csv')\n",
    "edge_df.head()"
   ]
  },
  {
   "attachments": {},
   "cell_type": "markdown",
   "metadata": {},
   "source": [
    "#### Exercise: Cancer_Cell_Line_Encyclopedia\n",
    "Use the [Cellosaurus API](https://api.cellosaurus.org/) to create a `gene_set_name_resolver` for Cancer_Cell_Line_Encyclopedia. You may have to redundant ids. One way to do this is to generate a uuid based on the label's name instead:\n",
    "```\n",
    "id = str(uuid.uuid5(uuid.NAMESPACE_URL, gene_set_name))\n",
    "```\n",
    "\n",
    "### Cellosaurus example"
   ]
  },
  {
   "cell_type": "code",
   "execution_count": 31,
   "metadata": {},
   "outputs": [
    {
     "data": {
      "text/plain": [
       "{'Cellosaurus': {'cell-line-list': [{'accession-list': [{'type': 'primary',\n",
       "      'value': 'CVCL_0598'}],\n",
       "    'name-list': [{'type': 'identifier', 'value': 'MCF-10A'}]},\n",
       "   {'accession-list': [{'type': 'primary', 'value': 'CVCL_JM26'}],\n",
       "    'name-list': [{'type': 'identifier', 'value': 'MCF-10A PTEN(-/-)'}]},\n",
       "   {'accession-list': [{'type': 'primary', 'value': 'CVCL_RA88'}],\n",
       "    'name-list': [{'type': 'identifier', 'value': 'MCF-10A shPARG'}]},\n",
       "   {'accession-list': [{'type': 'primary', 'value': 'CVCL_JM25'}],\n",
       "    'name-list': [{'type': 'identifier', 'value': 'MCF-10A TP53(-/-)'}]},\n",
       "   {'accession-list': [{'type': 'primary', 'value': 'CVCL_6C54'}],\n",
       "    'name-list': [{'type': 'identifier', 'value': 'MCF-10A-neo'}]},\n",
       "   {'accession-list': [{'type': 'primary', 'value': 'CVCL_6C55'}],\n",
       "    'name-list': [{'type': 'identifier', 'value': 'MCF-10A-neoN'}]},\n",
       "   {'accession-list': [{'type': 'primary', 'value': 'CVCL_5554'}],\n",
       "    'name-list': [{'type': 'identifier', 'value': 'MCF-10A-neoT'}]},\n",
       "   {'accession-list': [{'type': 'primary', 'value': 'CVCL_DS00'}],\n",
       "    'name-list': [{'type': 'identifier', 'value': 'MCF-10A/Twist'}]},\n",
       "   {'accession-list': [{'type': 'primary', 'value': 'CVCL_A4BW'}],\n",
       "    'name-list': [{'type': 'identifier', 'value': 'MCF 10A Ecadherin EmGFP'}]},\n",
       "   {'accession-list': [{'type': 'primary', 'value': 'CVCL_IV14'}],\n",
       "    'name-list': [{'type': 'identifier', 'value': 'MCF 10A-H2B-mCherry'}]}]}}"
      ]
     },
     "execution_count": 31,
     "metadata": {},
     "output_type": "execute_result"
    }
   ],
   "source": [
    "res = requests.get(\"https://api.cellosaurus.org/search/cell-line?q=id:MCF-10A&start=0&rows=10&format=json&fields=id,ac\")\n",
    "res.json()"
   ]
  },
  {
   "cell_type": "code",
   "execution_count": 30,
   "metadata": {},
   "outputs": [
    {
     "name": "stdout",
     "output_type": "stream",
     "text": [
      "NCIH810 LUNG\t\tCHGA\tRBFOX1\tC22ORF42\tCACNA2D1\tFLJ33996\tTM4SF5\tTAAR1\tVWA5B2\tFBXW4P1\tMAPK8IP2\tGRIN3A\tSPATA17\tLOC100505760\tRFX6\tCD2BP2\tPCDHB6\tLOC100506851\tPCDHB9\tLOC100506974\tATF3\tHCN4\tC1ORF194\tLOC285548\tADARB2\tDLL1\tDLL3\tMTMR7\tDLL4\tASCL1\tLOC100507495\tLOC100128840\tLOC100506046\tKIAA1324\tC10ORF108\tNKX2-2\tBSN\tHES6\tCHST9\tST18\tGADD45G\tC9ORF66\tLOC285556\tNR0B2\tKIAA1486\tLOC100506082\tTMEM198\tCBFA2T2\tRIIAD1\tRIPPLY2\tC7ORF41\tFAM123C\tKIAA1239\tUBAC2-AS1\tFAM135B\tPRKAR1B\tLOC100652825\tARHGAP19-SLIT1\tPRR18\tSCN2A\tWFDC10A\tDOC2A\tARX\tGBA2\tTMEM186\tHTATSF1\tPPP3R2\tPPP4C\tPKHD1\tPCDHA2\tSI\tKCNMB2\tPDK4\tLOC147670\tZBED1\tKAT8\tFFAR2\tPCDHA3\tTRPM6\tSOX5\tRIMKLA\tGABRA2\tLRRC27\tLOC100379224\tACE\tCCDC110\tLOC284648\tKCNB2\tPABPC5\tGPBAR1\tPAX4\tIGLV7-43\tA1CF\tRHOB\tPOU6F2\tCLDN11\tMRAS\tCALY\tPAH\tLOC100506777\tFAM181B\tCLDN18\tRGS7BP\tANKS4B\tRAPGEF4\tHOXD9\tPCSK2\tGUCY2C\tPCSK1\tGABRB1\tC2CD4A\tPTPRN\tHNF4G\tHEPACAM2\tLOC100129617\tZNF48\tLRRC31\tFAM149A\tDHRSX\tKIF1A\tSNTG2\tQSOX2\tC16ORF59\tSLC18A1\tLIN52\tC16ORF53\tTMED6\tNEUROD1\tLOC100652951\tTMOD2\tTMEM176A\tTMEM176B\tSTXBP5L\tMIAT\tZFY\tLOC100507520\tCCNE1\tSARM1\tSMOC1\tESYT3\tLOC100506433\tSLC29A4\tNEUROG3\tLPPR1\tLOC441025\tCDK5R2\tSMTNL2\tFOXA2\tXGPY2\tCRB1\tMRPS34\tMIA2\tC7ORF16\tCRYBA2\tKCNA6\tHOXD13\tDEFB123\tHOXD11\tHOXD10\tMIR7-3HG\tGPR133\tUCN3\tPPP2R3B-AS1\tNDST4\tNEFM\tZNF689\tZNF688\tTBC1D10B\tHFM1\tTUFM\tPLCL1\tCHRNB2\tRUNDC3A\tUBE2I\tC3ORF80\tSEPX1\tRASL10B\tCKM\tRPGRIP1L\tDCDC5\tRNF40\tPOU4F2\tENKUR\tFOXP2\tGPRIN3\tTBC1D24\tRIMBP2\tRNF186\tSCG3\tGALNT13\tACSS3\tCHRM5\tNDUFB10\tRGS16\tCTNND2\tIHH\tC1ORF110\tZNF3\tNOL4\tKLHL32\tABLIM2\tDACH2\tSH2B1\tSLIT1\tC16ORF13\tMICALCL\tRPRM\tZNF785\tSLC25A47\tCCDC135\tIGFBP1\tSYT4\tKIF22\tRAP1GAP2\tPOU3F2\tCACNB2\tRCAN3\tMLXIPL\tSLCO1A2\tPGP\tCDH17\tFGF14\tFGF12\tC8ORF12\tVIL1\tDPP10\tBRSK2\tZNF771\tCPLX1\tCALCB\tINO80E\tCHODL\tARL6\tCACNA1A\tLINC00261\tCACNA1C\tC1ORF210\tHMP19\tCSNK1A1P1\tCACNA1B\tSLC38A11\tBHLHE22\tCPLX2\tCACNA1H\tCDC14C\tSCGN\tMMP26\tAKR7A3\tZNF768\tZNF764\tKCNJ6\tKSR2\tSVOP\tCADPS\tSSTR1\tLOC145837\tUBE2QL1\tSEZ6L\tPEX5L\tC17ORF110\tLOC572558\tSNAP25\tCELF3\tCELF4\tELAVL3\tFGGY\tUNC80\tRHOT2\tRASGEF1B\tMCF2L\tTHPO\tZNF629\tCA5A\tE4F1\tLOC100507218\tSCN3A\tLONRF2\tGRASP\tMGC16703\tLOC100506126\tFAM71A\tC2ORF54\tOR51E1\tKCNH6\tNLGN4Y\tKCNH7\tRALGAPA2\tPDE4DIP\tANXA13\tOPRK1\tPPP2R3B\tSBK1\tS100Z\tTCERG1L\tINSM1\tVPS45\tKCTD13\tTNP1\tHCN3\tLTK\tDDC\tCAMK2B\tTCP10L\tSLC5A12\tCXXC4\tLOC728052\tACVR1C\tC1ORF95\tLOC100507110\tLOC100507353\tPHKG2\tSCRN3\tLOC389023\tCDIPT\tPGM5\tKCNJ3\t\n"
     ]
    }
   ],
   "source": [
    "library = \"Cancer_Cell_Line_Encyclopedia\"\n",
    "gmt = fetch_and_save_library(library, \"gmt/%s\"%library)\n",
    "print(gmt[0])"
   ]
  },
  {
   "cell_type": "code",
   "execution_count": 25,
   "metadata": {},
   "outputs": [],
   "source": [
    "cell_lines = {}\n",
    "def gene_set_name_resolver(name):\n",
    "    pass"
   ]
  },
  {
   "cell_type": "code",
   "execution_count": 26,
   "metadata": {},
   "outputs": [],
   "source": [
    "term_node = \"CCLE Cell Line\"\n",
    "relation = \"CCLE\"\n",
    "resource = \"https://sites.broadinstitute.org/ccle\"\n",
    "iterate_gmt(gmt, term_node, relation, gene_set_name_resolver, resource)"
   ]
  },
  {
   "attachments": {},
   "cell_type": "markdown",
   "metadata": {},
   "source": [
    "## Gene.csv\n",
    "Using the `all_genes` dictionary, create a `Genes.nodes.csv` file"
   ]
  },
  {
   "cell_type": "code",
   "execution_count": 30,
   "metadata": {},
   "outputs": [],
   "source": [
    "# write your code here\n",
    "genes = pd.DataFrame.from_records([i for i in all_genes.values() if not i == None])\n",
    "genes.to_csv(\"csv/Gene.nodes.csv\", index=False)"
   ]
  },
  {
   "cell_type": "code",
   "execution_count": 32,
   "metadata": {},
   "outputs": [
    {
     "data": {
      "text/html": [
       "<div>\n",
       "<style scoped>\n",
       "    .dataframe tbody tr th:only-of-type {\n",
       "        vertical-align: middle;\n",
       "    }\n",
       "\n",
       "    .dataframe tbody tr th {\n",
       "        vertical-align: top;\n",
       "    }\n",
       "\n",
       "    .dataframe thead th {\n",
       "        text-align: right;\n",
       "    }\n",
       "</style>\n",
       "<table border=\"1\" class=\"dataframe\">\n",
       "  <thead>\n",
       "    <tr style=\"text-align: right;\">\n",
       "      <th></th>\n",
       "      <th>id</th>\n",
       "      <th>label</th>\n",
       "      <th>uri</th>\n",
       "    </tr>\n",
       "  </thead>\n",
       "  <tbody>\n",
       "    <tr>\n",
       "      <th>0</th>\n",
       "      <td>9276</td>\n",
       "      <td>COPB2</td>\n",
       "      <td>https://www.ncbi.nlm.nih.gov/gene/9276</td>\n",
       "    </tr>\n",
       "    <tr>\n",
       "      <th>1</th>\n",
       "      <td>23753</td>\n",
       "      <td>SDF2L1</td>\n",
       "      <td>https://www.ncbi.nlm.nih.gov/gene/23753</td>\n",
       "    </tr>\n",
       "    <tr>\n",
       "      <th>2</th>\n",
       "      <td>3313</td>\n",
       "      <td>HSPA9</td>\n",
       "      <td>https://www.ncbi.nlm.nih.gov/gene/3313</td>\n",
       "    </tr>\n",
       "    <tr>\n",
       "      <th>3</th>\n",
       "      <td>10576</td>\n",
       "      <td>CCT2</td>\n",
       "      <td>https://www.ncbi.nlm.nih.gov/gene/10576</td>\n",
       "    </tr>\n",
       "    <tr>\n",
       "      <th>4</th>\n",
       "      <td>6767</td>\n",
       "      <td>ST13</td>\n",
       "      <td>https://www.ncbi.nlm.nih.gov/gene/6767</td>\n",
       "    </tr>\n",
       "  </tbody>\n",
       "</table>\n",
       "</div>"
      ],
      "text/plain": [
       "      id   label                                      uri\n",
       "0   9276   COPB2   https://www.ncbi.nlm.nih.gov/gene/9276\n",
       "1  23753  SDF2L1  https://www.ncbi.nlm.nih.gov/gene/23753\n",
       "2   3313   HSPA9   https://www.ncbi.nlm.nih.gov/gene/3313\n",
       "3  10576    CCT2  https://www.ncbi.nlm.nih.gov/gene/10576\n",
       "4   6767    ST13   https://www.ncbi.nlm.nih.gov/gene/6767"
      ]
     },
     "execution_count": 32,
     "metadata": {},
     "output_type": "execute_result"
    }
   ],
   "source": [
    "gene_df = pd.read_csv('csv/Gene.nodes.csv')\n",
    "gene_df.head()"
   ]
  },
  {
   "attachments": {},
   "cell_type": "markdown",
   "metadata": {},
   "source": [
    "#### Ingestion\n",
    "Ingestion is relatively simple if we followed followed the naming convention. `src/import_csv.py` is provided to do the heavy lifting. To run it just type the following on the command line:\n",
    "```\n",
    "python import_csv.py /path/to/csv/directory\n",
    "```\n",
    "This will run a bulk import of your csv files\n",
    "e.g.\n",
    "```\n",
    "python import_csv.py ../notebooks/csv\n",
    "```"
   ]
  },
  {
   "cell_type": "markdown",
   "metadata": {},
   "source": []
  },
  {
   "cell_type": "markdown",
   "metadata": {},
   "source": []
  },
  {
   "cell_type": "markdown",
   "metadata": {},
   "source": []
  }
 ],
 "metadata": {
  "kernelspec": {
   "display_name": "venv",
   "language": "python",
   "name": "python3"
  },
  "language_info": {
   "codemirror_mode": {
    "name": "ipython",
    "version": 3
   },
   "file_extension": ".py",
   "mimetype": "text/x-python",
   "name": "python",
   "nbconvert_exporter": "python",
   "pygments_lexer": "ipython3",
   "version": "3.10.9"
  },
  "orig_nbformat": 4,
  "vscode": {
   "interpreter": {
    "hash": "798122c9e4f43102ac6a3a7c51d7fe95ee01edcdc77ff31e968bccde04a8b5dc"
   }
  }
 },
 "nbformat": 4,
 "nbformat_minor": 2
}
