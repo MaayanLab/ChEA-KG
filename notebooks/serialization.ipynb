{
 "cells": [
  {
   "attachments": {},
   "cell_type": "markdown",
   "metadata": {},
   "source": [
    "# Serializing GMT Files to CSV\n",
    "\n",
    "In this notebook we'll convert GMT files from [Enrichr](https://maayanlab.cloud/Enrichr) to CSV files that can be ingested in the graph database. This includes several steps:\n",
    "1. Mapping/ generating ids to the terms\n",
    "2. Mapping genes to their Entrez ID\n",
    "3. Creating the CSV file\n",
    "\n",
    "## CSV Serialization\n",
    "Nodes and edges are serialized differently for our knowledge graph. \n",
    "\n",
    "### Node Serialization\n",
    "Serialized nodes requires two columns: id (which can be any unique identifier like UUID, ontology id, or other persistent identifiers) and label. Optionally, you can add more columns for additional metadata. CSV file should be formatted this way: `<node_type>.node.csv` for it to be compatible with the provided ingestion script. This means for our GMT files, we need two node files: (1) label type, and (2) genes\n",
    "\n",
    "|      |   id          |   label                                                                    |   ontology_label                                              |   uri                                                  |\n",
    "|------|---------------|----------------------------------------------------------------------------|---------------------------------------------------------------|--------------------------------------------------------|\n",
    "|   0  |   GO:0051084  |   'de novo' posttranslational protein folding (GO:0051084)                 |   'de novo' posttranslational protein folding                 |   http://amigo.geneontology.org/amigo/term/GO:0051084  |\n",
    "|   1  |   GO:0006103  |   2-oxoglutarate metabolic process (GO:0006103)                            |   2-oxoglutarate metabolic process                            |   http://amigo.geneontology.org/amigo/term/GO:0006103  |\n",
    "|   2  |   GO:0050428  |   3'-phosphoadenosine 5'-phosphosulfate biosynthetic process (GO:0050428)  |   3'-phosphoadenosine 5'-phosphosulfate biosynthetic process  |   http://amigo.geneontology.org/amigo/term/GO:0050428  |\n",
    "|   3  |   GO:0050427  |   3'-phosphoadenosine 5'-phosphosulfate metabolic process (GO:0050427)     |   3'-phosphoadenosine 5'-phosphosulfate metabolic process     |   http://amigo.geneontology.org/amigo/term/GO:0050427  |\n",
    "|   4  |   GO:0061158  |   3'-UTR-mediated mRNA destabilization (GO:0061158)                        |   3'-UTR-mediated mRNA destabilization                        |   http://amigo.geneontology.org/amigo/term/GO:0061158  |\n",
    "|   5  |   GO:0070935  |   3'-UTR-mediated mRNA stabilization (GO:0070935)                          |   3'-UTR-mediated mRNA stabilization                          |   http://amigo.geneontology.org/amigo/term/GO:0070935  |\n",
    "\n",
    "### Edge Serialization\n",
    "\n",
    "Meanwhile, edges require (1) source id, (2) the relation, and (3) target id columns. The rest are optional metadata. CSV file should be formatted as follows: `<source_node_type>.<relation>.<target_node_type>.edges.csv`.\n",
    "\n",
    "|      |   source  |   relation  |   target      |   source_label  |   target_label                                              |   resource       |   link_to_resource          |\n",
    "|------|-----------|-------------|---------------|-----------------|-------------------------------------------------------------|------------------|-----------------------------|\n",
    "|   0  |   23753   |   GO BP     |   GO:0051084  |   SDF2L1        |   'de novo' posttranslational protein folding (GO:0051084)  |   Gene Ontology  |   http://geneontology.org/  |\n",
    "|   1  |   3313    |   GO BP     |   GO:0051084  |   HSPA9         |   'de novo' posttranslational protein folding (GO:0051084)  |   Gene Ontology  |   http://geneontology.org/  |\n",
    "|   2  |   10576   |   GO BP     |   GO:0051084  |   CCT2          |   'de novo' posttranslational protein folding (GO:0051084)  |   Gene Ontology  |   http://geneontology.org/  |\n",
    "|   3  |   6767    |   GO BP     |   GO:0051084  |   ST13          |   'de novo' posttranslational protein folding (GO:0051084)  |   Gene Ontology  |   http://geneontology.org/  |\n",
    "|   4  |   3310    |   GO BP     |   GO:0051084  |   HSPA6         |   'de novo' posttranslational protein folding (GO:0051084)  |   Gene Ontology  |   http://geneontology.org/  |\n",
    "|   5  |   957     |   GO BP     |   GO:0051084  |   ENTPD5        |   'de novo' posttranslational protein folding (GO:0051084)  |   Gene Ontology  |   http://geneontology.org/  |"
   ]
  },
  {
   "cell_type": "code",
   "execution_count": 54,
   "metadata": {},
   "outputs": [],
   "source": [
    "import requests\n",
    "import json\n",
    "import re\n",
    "from tqdm import tqdm\n",
    "import os\n",
    "import pandas as pd\n",
    "import time\n",
    "import uuid"
   ]
  },
  {
   "attachments": {},
   "cell_type": "markdown",
   "metadata": {},
   "source": [
    "### Gene Mapper\n",
    "To start our conversion, we need a way to map the gene names to their respective gene ids. The following code downloads the metadata for Homo sapiens genes from NCBI gene and creates a mapper that returns the gene id. It does this by (1) mapping gene labels to ID, (2) mapping synonyms to ID, (3) mapping upper case gene labels and synonyms to ids. (3) is done to address the fact that Enrichr gene names are all upper case. Ambiguous labels (i.e. names with multiple ids) are removed from the map. The function `get_gene_meta` extends this and returns a dictionary containing the gene id, label, and uri which can be used for our serialization."
   ]
  },
  {
   "cell_type": "code",
   "execution_count": 55,
   "metadata": {},
   "outputs": [],
   "source": [
    "def fetch_save_read(url, file, reader=pd.read_csv, sep='\\t', **kwargs):\n",
    "  ''' Download file from {url}, save it to {file}, and subsequently read it with {reader} using pandas options on {**kwargs}.\n",
    "  '''\n",
    "  if not os.path.exists(file):\n",
    "    if os.path.dirname(file):\n",
    "      os.makedirs(os.path.dirname(file), exist_ok=True)\n",
    "    df = reader(url, sep=sep, index_col=None)\n",
    "    df.to_csv(file, sep=sep, index=False)\n",
    "  return pd.read_csv(file, sep=sep, **kwargs)"
   ]
  },
  {
   "cell_type": "code",
   "execution_count": 56,
   "metadata": {},
   "outputs": [],
   "source": [
    "organism = \"Mammalia/Homo_sapiens\"\n",
    "url = 'ftp://ftp.ncbi.nih.gov/gene/DATA/GENE_INFO/{}.gene_info.gz'.format(organism)\n",
    "file = '{}.gene_info.tsv'.format(organism)\n",
    "\n",
    "ncbi_gene = fetch_save_read(url, file)\n"
   ]
  },
  {
   "cell_type": "code",
   "execution_count": 57,
   "metadata": {},
   "outputs": [],
   "source": [
    "def maybe_split(record):\n",
    "    ''' NCBI Stores Nulls as '-' and lists '|' delimited\n",
    "    '''\n",
    "    if record in {'', '-'}:\n",
    "        return set()\n",
    "    return set(record.split('|'))\n",
    "\n",
    "def supplement_dbXref_prefix_omitted(ids):\n",
    "    ''' NCBI Stores external IDS with Foreign:ID while most datasets just use the ID\n",
    "    '''\n",
    "    for id in ids:\n",
    "        # add original id\n",
    "        yield id\n",
    "        # also add id *without* prefix\n",
    "        if ':' in id:\n",
    "            yield id.split(':', maxsplit=1)[1]"
   ]
  },
  {
   "cell_type": "code",
   "execution_count": 58,
   "metadata": {},
   "outputs": [],
   "source": [
    "ncbi_gene['All_synonyms'] = [\n",
    "    set.union(\n",
    "      maybe_split(gene_info['Symbol']),\n",
    "      maybe_split(gene_info['Symbol_from_nomenclature_authority']),\n",
    "      maybe_split(str(gene_info['GeneID'])),\n",
    "      maybe_split(gene_info['Synonyms']),\n",
    "      maybe_split(gene_info['Other_designations']),\n",
    "      maybe_split(gene_info['LocusTag']),\n",
    "      set(supplement_dbXref_prefix_omitted(maybe_split(gene_info['dbXrefs']))),\n",
    "    )\n",
    "    for _, gene_info in ncbi_gene.iterrows()\n",
    "  ]\n",
    "\n",
    "synonyms, gene_id = zip(*{\n",
    "    (synonym, gene_info['GeneID'])\n",
    "    for _, gene_info in ncbi_gene.iterrows()\n",
    "    for synonym in gene_info['All_synonyms']\n",
    "  })\n",
    "ncbi_lookup_syn = pd.Series(gene_id, index=synonyms)\n",
    "symbols, cap, gene_id = zip(*{\n",
    "    (gene_info['Symbol'], gene_info['Symbol'].upper(), gene_info['GeneID'])\n",
    "    for _, gene_info in ncbi_gene.iterrows()\n",
    "  })\n",
    "ncbi_lookup_sym = pd.Series(gene_id, index=symbols)\n",
    "ncbi_lookup_sym_cap = pd.Series(gene_id, index=cap)"
   ]
  },
  {
   "cell_type": "code",
   "execution_count": 59,
   "metadata": {},
   "outputs": [],
   "source": [
    "index_values = ncbi_lookup_syn.index.value_counts()\n",
    "ambiguous = index_values[index_values > 1].index\n",
    "ncbi_lookup_syn_disambiguated = ncbi_lookup_syn[(\n",
    "(ncbi_lookup_syn.index == ncbi_lookup_syn) | (~ncbi_lookup_syn.index.isin(ambiguous))\n",
    ")]\n",
    "sym_dict = ncbi_lookup_sym.to_dict()\n",
    "syn_dict_cap = ncbi_lookup_sym_cap.to_dict()\n",
    "syn_dict = ncbi_lookup_syn_disambiguated.to_dict()\n",
    "def gene_lookup(gene):\n",
    "    gene_id = sym_dict.get(gene)\n",
    "    if gene_id: return str(gene_id)\n",
    "    gene_id = syn_dict_cap.get(gene)\n",
    "    if gene_id: return str(gene_id)\n",
    "    return str(syn_dict.get(gene))"
   ]
  },
  {
   "cell_type": "code",
   "execution_count": 60,
   "metadata": {},
   "outputs": [
    {
     "data": {
      "text/plain": [
       "'None'"
      ]
     },
     "execution_count": 60,
     "metadata": {},
     "output_type": "execute_result"
    }
   ],
   "source": [
    "gene_lookup(\"H4-16\")"
   ]
  },
  {
   "cell_type": "code",
   "execution_count": 61,
   "metadata": {},
   "outputs": [
    {
     "data": {
      "text/plain": [
       "'6774'"
      ]
     },
     "execution_count": 61,
     "metadata": {},
     "output_type": "execute_result"
    }
   ],
   "source": [
    "gene_lookup(\"STAT3\")"
   ]
  },
  {
   "cell_type": "code",
   "execution_count": 62,
   "metadata": {},
   "outputs": [
    {
     "data": {
      "text/plain": [
       "{'id': '9276',\n",
       " 'label': 'COPB2',\n",
       " 'uri': 'https://www.ncbi.nlm.nih.gov/gene/9276'}"
      ]
     },
     "execution_count": 62,
     "metadata": {},
     "output_type": "execute_result"
    }
   ],
   "source": [
    "all_genes = {}\n",
    "gene_ids = set()\n",
    "def get_gene_meta(gene):\n",
    "    if gene in all_genes:\n",
    "        return all_genes[gene]\n",
    "    else:\n",
    "        gene_id = gene_lookup(gene)\n",
    "        if gene_id in gene_ids:\n",
    "            return None\n",
    "        elif gene_id == 'None':\n",
    "            return None\n",
    "        elif gene_id == None:\n",
    "            return None\n",
    "        else:\n",
    "            gene_ids.add(gene_id)\n",
    "            all_genes[gene] = {\n",
    "                \"id\": gene_id,\n",
    "                \"label\": gene,\n",
    "                \"uri\": \"https://www.ncbi.nlm.nih.gov/gene/%s\"%gene_id\n",
    "            }\n",
    "            return all_genes[gene]\n",
    "\n",
    "get_gene_meta(\"COPB2\")"
   ]
  },
  {
   "cell_type": "code",
   "execution_count": 63,
   "metadata": {},
   "outputs": [
    {
     "data": {
      "text/plain": [
       "{'id': '6774',\n",
       " 'label': 'STAT3',\n",
       " 'uri': 'https://www.ncbi.nlm.nih.gov/gene/6774'}"
      ]
     },
     "execution_count": 63,
     "metadata": {},
     "output_type": "execute_result"
    }
   ],
   "source": [
    "get_gene_meta('STAT3')"
   ]
  },
  {
   "attachments": {},
   "cell_type": "markdown",
   "metadata": {},
   "source": [
    "### Downloading the GMT files from Enrichr\n",
    "The following code downloads the GMT file from Enrichr. This function checks the existence of the file locally before downloading it."
   ]
  },
  {
   "cell_type": "code",
   "execution_count": 64,
   "metadata": {},
   "outputs": [],
   "source": [
    "def fetch_and_save_library(library, file):\n",
    "  ''' Download file from {url}, save it to {file}, and subsequently read it with {reader} using pandas options on {**kwargs}.\n",
    "  '''\n",
    "  if not os.path.exists(file):\n",
    "    if os.path.dirname(file):\n",
    "      os.makedirs(os.path.dirname(file), exist_ok=True)\n",
    "    gmt_url = \"https://maayanlab.cloud/Enrichr/geneSetLibrary?mode=text&libraryName=%s\"%library\n",
    "    res = requests.get(gmt_url)\n",
    "    gmt = res.text\n",
    "    with open(file, 'w') as o:\n",
    "        o.write(gmt)\n",
    "  \n",
    "  with open(file) as o:\n",
    "    return o.read().strip().split(\"\\n\")"
   ]
  },
  {
   "attachments": {},
   "cell_type": "markdown",
   "metadata": {},
   "source": [
    "### Serializing GMT Files\n",
    "Now that we have everything we need, let's try converting some Enrichr libraries to CSV files. Before we start let's define first a dictionary to store all the gene metadata. We'll use this to generate a combined gene node csv file later."
   ]
  },
  {
   "attachments": {},
   "cell_type": "markdown",
   "metadata": {},
   "source": [
    "####  GO_Biological_Process_2021\n",
    "The following code block downloads the gmt file if it does not exist"
   ]
  },
  {
   "cell_type": "code",
   "execution_count": 12,
   "metadata": {},
   "outputs": [
    {
     "name": "stdout",
     "output_type": "stream",
     "text": [
      "'de novo' posttranslational protein folding (GO:0051084)\t\tSDF2L1\tHSPA9\tCCT2\tST13\tHSPA6\tENTPD5\tHSPA5\tPTGES3\tHSPA1L\tHSPA8\tDNAJB13\tHSPA2\tDNAJB14\tHSPE1\tDNAJC18\tGAK\tDNAJC7\tDNAJB12\tHSPA1A\tHSPA1B\tERO1A\tSELENOF\tHSPA14\tHSPA13\tDNAJB1\tCHCHD4\tBAG1\tDNAJB5\tDNAJB4\tSDF2\tUGGT1\t\n"
     ]
    }
   ],
   "source": [
    "library = \"GO_Biological_Process_2021\"\n",
    "filename = \"gmt/%s.gmt\"%library\n",
    "gmt = fetch_and_save_library(library, filename)\n",
    "print(gmt[0])"
   ]
  },
  {
   "attachments": {},
   "cell_type": "markdown",
   "metadata": {},
   "source": [
    "![GO](./img/graph.png)"
   ]
  },
  {
   "attachments": {},
   "cell_type": "markdown",
   "metadata": {},
   "source": [
    "##### Serializing the nodes"
   ]
  },
  {
   "cell_type": "code",
   "execution_count": 16,
   "metadata": {},
   "outputs": [],
   "source": [
    "def gene_set_name_resolver(label):\n",
    "    return {\n",
    "        \"id\": str(uuid.uuid5(uuid.NAMESPACE_URL, label)),\n",
    "        \"label\": label\n",
    "    }"
   ]
  },
  {
   "cell_type": "code",
   "execution_count": 17,
   "metadata": {},
   "outputs": [],
   "source": [
    "term = gmt[0].split(\"\\t\\t\")[0]"
   ]
  },
  {
   "cell_type": "code",
   "execution_count": 18,
   "metadata": {},
   "outputs": [
    {
     "data": {
      "text/plain": [
       "{'id': 'b48eba74-e207-575a-8219-f56e3da7c656',\n",
       " 'label': \"'de novo' posttranslational protein folding (GO:0051084)\"}"
      ]
     },
     "execution_count": 18,
     "metadata": {},
     "output_type": "execute_result"
    }
   ],
   "source": [
    "gene_set_name_resolver(term)"
   ]
  },
  {
   "attachments": {},
   "cell_type": "markdown",
   "metadata": {},
   "source": [
    "##### Serializing the edges\n",
    "\n",
    "Now that we have a way to get process the term and gene nodes, let's now get to serializing edges. For a GMT file, we say that an edge exists between a gene and a term if the gene is part of that term's gene set, that is if we have the following:\n",
    "```\n",
    "Term 1      Gene 1  Gene 2  Gene 3\n",
    "Term 2      Gene 2  Gene 4  Gene 5\n",
    "```\n",
    "Then we say that there is an edge between Term 1 and Gene 1, Gene 2, and Gene 3, and Term 2 and Gene 2, Gene 4, and Gene 5."
   ]
  },
  {
   "cell_type": "code",
   "execution_count": 19,
   "metadata": {},
   "outputs": [],
   "source": [
    "def iterate_gmt(gmt, term_node, relation, gene_set_name_resolver, resource=None, edge_properties={}):\n",
    "    terms = []\n",
    "    edges = []\n",
    "    for line in tqdm(gmt):\n",
    "        term, *genes = line.strip().split(\"\\t\")\n",
    "        genes = genes[1:]\n",
    "        term_meta = gene_set_name_resolver(term)\n",
    "        if term_meta:\n",
    "            term_id = term_meta[\"id\"]\n",
    "            terms.append(term_meta)\n",
    "            for gene in genes:\n",
    "                gene_meta = get_gene_meta(gene)\n",
    "                if gene_meta:\n",
    "                    if type(gene_meta) == str:\n",
    "                        print(gene, gene_meta)\n",
    "                    gene_id = gene_meta[\"id\"]\n",
    "                    edge = {\n",
    "                        \"source\": term_id,\n",
    "                        \"relation\": relation,\n",
    "                        \"target\": gene_id,\n",
    "                        \"source_label\": term,\n",
    "                        \"target_label\": gene,\n",
    "                        **edge_properties.get((term, gene), {})\n",
    "                    }\n",
    "                    if resource:\n",
    "                        edge[\"resource\"] = resource\n",
    "                    edges.append(edge)\n",
    "    term_df = pd.DataFrame.from_records(terms)\n",
    "    cols = [\"id\", \"label\"] + [i for i in term_df.columns if not i in [\"id\", \"label\"]]\n",
    "    term_df = term_df[cols]\n",
    "    term_df.to_csv(\"csv/%s.nodes.csv\"%term_node, index=False)\n",
    "    edge_df = pd.DataFrame.from_records(edges)\n",
    "    edge_df.to_csv(\"csv/%s.%s.Gene.edges.csv\"%(term_node, relation), index=False)"
   ]
  },
  {
   "cell_type": "code",
   "execution_count": 20,
   "metadata": {},
   "outputs": [
    {
     "name": "stderr",
     "output_type": "stream",
     "text": [
      "100%|██████████| 6036/6036 [00:00<00:00, 21582.65it/s]\n"
     ]
    }
   ],
   "source": [
    "term_node = \"GO Biological Process Term\"\n",
    "relation = \"GO BP\"\n",
    "resource = \"http://geneontology.org/\"\n",
    "iterate_gmt(gmt, term_node, relation, gene_set_name_resolver, resource)"
   ]
  },
  {
   "cell_type": "code",
   "execution_count": 21,
   "metadata": {},
   "outputs": [
    {
     "data": {
      "text/html": [
       "<div>\n",
       "<style scoped>\n",
       "    .dataframe tbody tr th:only-of-type {\n",
       "        vertical-align: middle;\n",
       "    }\n",
       "\n",
       "    .dataframe tbody tr th {\n",
       "        vertical-align: top;\n",
       "    }\n",
       "\n",
       "    .dataframe thead th {\n",
       "        text-align: right;\n",
       "    }\n",
       "</style>\n",
       "<table border=\"1\" class=\"dataframe\">\n",
       "  <thead>\n",
       "    <tr style=\"text-align: right;\">\n",
       "      <th></th>\n",
       "      <th>id</th>\n",
       "      <th>label</th>\n",
       "    </tr>\n",
       "  </thead>\n",
       "  <tbody>\n",
       "    <tr>\n",
       "      <th>0</th>\n",
       "      <td>b48eba74-e207-575a-8219-f56e3da7c656</td>\n",
       "      <td>'de novo' posttranslational protein folding (G...</td>\n",
       "    </tr>\n",
       "    <tr>\n",
       "      <th>1</th>\n",
       "      <td>35835311-021b-5ecc-8b54-dbcd8d4d066c</td>\n",
       "      <td>2-oxoglutarate metabolic process (GO:0006103)</td>\n",
       "    </tr>\n",
       "    <tr>\n",
       "      <th>2</th>\n",
       "      <td>0570084d-22cc-5858-8760-1fedb82f9634</td>\n",
       "      <td>3'-phosphoadenosine 5'-phosphosulfate biosynth...</td>\n",
       "    </tr>\n",
       "    <tr>\n",
       "      <th>3</th>\n",
       "      <td>8f7163ac-8ad3-54c9-96f1-447be2932a3d</td>\n",
       "      <td>3'-phosphoadenosine 5'-phosphosulfate metaboli...</td>\n",
       "    </tr>\n",
       "    <tr>\n",
       "      <th>4</th>\n",
       "      <td>92d119a4-5bf3-5c78-b4ba-7190ccef24ad</td>\n",
       "      <td>3'-UTR-mediated mRNA destabilization (GO:0061158)</td>\n",
       "    </tr>\n",
       "  </tbody>\n",
       "</table>\n",
       "</div>"
      ],
      "text/plain": [
       "                                     id  \\\n",
       "0  b48eba74-e207-575a-8219-f56e3da7c656   \n",
       "1  35835311-021b-5ecc-8b54-dbcd8d4d066c   \n",
       "2  0570084d-22cc-5858-8760-1fedb82f9634   \n",
       "3  8f7163ac-8ad3-54c9-96f1-447be2932a3d   \n",
       "4  92d119a4-5bf3-5c78-b4ba-7190ccef24ad   \n",
       "\n",
       "                                               label  \n",
       "0  'de novo' posttranslational protein folding (G...  \n",
       "1      2-oxoglutarate metabolic process (GO:0006103)  \n",
       "2  3'-phosphoadenosine 5'-phosphosulfate biosynth...  \n",
       "3  3'-phosphoadenosine 5'-phosphosulfate metaboli...  \n",
       "4  3'-UTR-mediated mRNA destabilization (GO:0061158)  "
      ]
     },
     "execution_count": 21,
     "metadata": {},
     "output_type": "execute_result"
    }
   ],
   "source": [
    "node_df = pd.read_csv('./csv/GO Biological Process Term.nodes.csv')\n",
    "node_df.head()"
   ]
  },
  {
   "cell_type": "code",
   "execution_count": 22,
   "metadata": {},
   "outputs": [
    {
     "data": {
      "text/html": [
       "<div>\n",
       "<style scoped>\n",
       "    .dataframe tbody tr th:only-of-type {\n",
       "        vertical-align: middle;\n",
       "    }\n",
       "\n",
       "    .dataframe tbody tr th {\n",
       "        vertical-align: top;\n",
       "    }\n",
       "\n",
       "    .dataframe thead th {\n",
       "        text-align: right;\n",
       "    }\n",
       "</style>\n",
       "<table border=\"1\" class=\"dataframe\">\n",
       "  <thead>\n",
       "    <tr style=\"text-align: right;\">\n",
       "      <th></th>\n",
       "      <th>source</th>\n",
       "      <th>relation</th>\n",
       "      <th>target</th>\n",
       "      <th>source_label</th>\n",
       "      <th>target_label</th>\n",
       "      <th>resource</th>\n",
       "    </tr>\n",
       "  </thead>\n",
       "  <tbody>\n",
       "    <tr>\n",
       "      <th>0</th>\n",
       "      <td>b48eba74-e207-575a-8219-f56e3da7c656</td>\n",
       "      <td>GO BP</td>\n",
       "      <td>23753</td>\n",
       "      <td>'de novo' posttranslational protein folding (G...</td>\n",
       "      <td>SDF2L1</td>\n",
       "      <td>http://geneontology.org/</td>\n",
       "    </tr>\n",
       "    <tr>\n",
       "      <th>1</th>\n",
       "      <td>b48eba74-e207-575a-8219-f56e3da7c656</td>\n",
       "      <td>GO BP</td>\n",
       "      <td>3313</td>\n",
       "      <td>'de novo' posttranslational protein folding (G...</td>\n",
       "      <td>HSPA9</td>\n",
       "      <td>http://geneontology.org/</td>\n",
       "    </tr>\n",
       "    <tr>\n",
       "      <th>2</th>\n",
       "      <td>b48eba74-e207-575a-8219-f56e3da7c656</td>\n",
       "      <td>GO BP</td>\n",
       "      <td>10576</td>\n",
       "      <td>'de novo' posttranslational protein folding (G...</td>\n",
       "      <td>CCT2</td>\n",
       "      <td>http://geneontology.org/</td>\n",
       "    </tr>\n",
       "    <tr>\n",
       "      <th>3</th>\n",
       "      <td>b48eba74-e207-575a-8219-f56e3da7c656</td>\n",
       "      <td>GO BP</td>\n",
       "      <td>6767</td>\n",
       "      <td>'de novo' posttranslational protein folding (G...</td>\n",
       "      <td>ST13</td>\n",
       "      <td>http://geneontology.org/</td>\n",
       "    </tr>\n",
       "    <tr>\n",
       "      <th>4</th>\n",
       "      <td>b48eba74-e207-575a-8219-f56e3da7c656</td>\n",
       "      <td>GO BP</td>\n",
       "      <td>3310</td>\n",
       "      <td>'de novo' posttranslational protein folding (G...</td>\n",
       "      <td>HSPA6</td>\n",
       "      <td>http://geneontology.org/</td>\n",
       "    </tr>\n",
       "  </tbody>\n",
       "</table>\n",
       "</div>"
      ],
      "text/plain": [
       "                                 source relation  target  \\\n",
       "0  b48eba74-e207-575a-8219-f56e3da7c656    GO BP   23753   \n",
       "1  b48eba74-e207-575a-8219-f56e3da7c656    GO BP    3313   \n",
       "2  b48eba74-e207-575a-8219-f56e3da7c656    GO BP   10576   \n",
       "3  b48eba74-e207-575a-8219-f56e3da7c656    GO BP    6767   \n",
       "4  b48eba74-e207-575a-8219-f56e3da7c656    GO BP    3310   \n",
       "\n",
       "                                        source_label target_label  \\\n",
       "0  'de novo' posttranslational protein folding (G...       SDF2L1   \n",
       "1  'de novo' posttranslational protein folding (G...        HSPA9   \n",
       "2  'de novo' posttranslational protein folding (G...         CCT2   \n",
       "3  'de novo' posttranslational protein folding (G...         ST13   \n",
       "4  'de novo' posttranslational protein folding (G...        HSPA6   \n",
       "\n",
       "                   resource  \n",
       "0  http://geneontology.org/  \n",
       "1  http://geneontology.org/  \n",
       "2  http://geneontology.org/  \n",
       "3  http://geneontology.org/  \n",
       "4  http://geneontology.org/  "
      ]
     },
     "execution_count": 22,
     "metadata": {},
     "output_type": "execute_result"
    }
   ],
   "source": [
    "edge_df = pd.read_csv('./csv/GO Biological Process Term.GO BP.Gene.edges.csv')\n",
    "edge_df.head()"
   ]
  },
  {
   "attachments": {},
   "cell_type": "markdown",
   "metadata": {},
   "source": [
    "#### Exercise: MGI_Mammalian_Phenotype_Level_4_2021\n",
    "Create a `gene_set_name_resolver` function for MGI_Mammalian_Phenotype_Level_4_2021"
   ]
  },
  {
   "cell_type": "code",
   "execution_count": 23,
   "metadata": {},
   "outputs": [
    {
     "name": "stdout",
     "output_type": "stream",
     "text": [
      "abdominal situs ambiguus MP:0011250\t\tCCDC39\tDNAH5\tINVS\tDNAH11\tDNAAF3\tFOXH1\tRPGRIP1L\tDRC1\tDNAI1\tIFT27\t\n"
     ]
    }
   ],
   "source": [
    "library = 'MGI_Mammalian_Phenotype_Level_4_2021'\n",
    "filename = \"gmt/%s.gmt\"%library\n",
    "gmt = fetch_and_save_library(library, filename)\n",
    "print(gmt[0])"
   ]
  },
  {
   "cell_type": "code",
   "execution_count": null,
   "metadata": {},
   "outputs": [],
   "source": [
    "def gene_set_name_resolver(name):\n",
    "    pass"
   ]
  },
  {
   "cell_type": "code",
   "execution_count": 24,
   "metadata": {},
   "outputs": [
    {
     "name": "stderr",
     "output_type": "stream",
     "text": [
      "100%|██████████| 4601/4601 [00:00<00:00, 15360.47it/s]\n"
     ]
    }
   ],
   "source": [
    "term_node = \"Mouse Phenotype\"\n",
    "relation = \"MP\"\n",
    "resource = \"http://www.informatics.jax.org\"\n",
    "iterate_gmt(gmt, term_node, relation, gene_set_name_resolver, resource)"
   ]
  },
  {
   "cell_type": "markdown",
   "metadata": {},
   "source": [
    "## Finding Up and Drug regulated genes from drug perturbation"
   ]
  },
  {
   "cell_type": "code",
   "execution_count": 31,
   "metadata": {},
   "outputs": [
    {
     "data": {
      "text/plain": [
       "(12327, 5000)"
      ]
     },
     "execution_count": 31,
     "metadata": {},
     "output_type": "execute_result"
    }
   ],
   "source": [
    "df = pd.read_csv(\"https://minio.dev.maayanlab.cloud/kg-demo/lincs_consensus_drugs_5000.csv\", index_col=0)\n",
    "df.shape"
   ]
  },
  {
   "cell_type": "code",
   "execution_count": 33,
   "metadata": {},
   "outputs": [
    {
     "data": {
      "text/html": [
       "<div>\n",
       "<style scoped>\n",
       "    .dataframe tbody tr th:only-of-type {\n",
       "        vertical-align: middle;\n",
       "    }\n",
       "\n",
       "    .dataframe tbody tr th {\n",
       "        vertical-align: top;\n",
       "    }\n",
       "\n",
       "    .dataframe thead th {\n",
       "        text-align: right;\n",
       "    }\n",
       "</style>\n",
       "<table border=\"1\" class=\"dataframe\">\n",
       "  <thead>\n",
       "    <tr style=\"text-align: right;\">\n",
       "      <th></th>\n",
       "      <th>afatinib</th>\n",
       "      <th>erlotinib</th>\n",
       "      <th>neratinib</th>\n",
       "      <th>lapatinib</th>\n",
       "      <th>pazopanib</th>\n",
       "    </tr>\n",
       "  </thead>\n",
       "  <tbody>\n",
       "    <tr>\n",
       "      <th>A1CF</th>\n",
       "      <td>0.001353</td>\n",
       "      <td>0.000755</td>\n",
       "      <td>0.000463</td>\n",
       "      <td>-0.000138</td>\n",
       "      <td>-0.000276</td>\n",
       "    </tr>\n",
       "    <tr>\n",
       "      <th>A2M</th>\n",
       "      <td>-0.002113</td>\n",
       "      <td>-0.000268</td>\n",
       "      <td>-0.003915</td>\n",
       "      <td>0.000255</td>\n",
       "      <td>0.000854</td>\n",
       "    </tr>\n",
       "    <tr>\n",
       "      <th>A4GALT</th>\n",
       "      <td>-0.000360</td>\n",
       "      <td>-0.000690</td>\n",
       "      <td>-0.000118</td>\n",
       "      <td>0.000192</td>\n",
       "      <td>-0.000363</td>\n",
       "    </tr>\n",
       "    <tr>\n",
       "      <th>A4GNT</th>\n",
       "      <td>0.000507</td>\n",
       "      <td>0.000107</td>\n",
       "      <td>0.000174</td>\n",
       "      <td>-0.000241</td>\n",
       "      <td>-0.000167</td>\n",
       "    </tr>\n",
       "    <tr>\n",
       "      <th>AAAS</th>\n",
       "      <td>-0.000123</td>\n",
       "      <td>0.000050</td>\n",
       "      <td>-0.000900</td>\n",
       "      <td>0.000348</td>\n",
       "      <td>-0.000008</td>\n",
       "    </tr>\n",
       "  </tbody>\n",
       "</table>\n",
       "</div>"
      ],
      "text/plain": [
       "        afatinib  erlotinib  neratinib  lapatinib  pazopanib\n",
       "A1CF    0.001353   0.000755   0.000463  -0.000138  -0.000276\n",
       "A2M    -0.002113  -0.000268  -0.003915   0.000255   0.000854\n",
       "A4GALT -0.000360  -0.000690  -0.000118   0.000192  -0.000363\n",
       "A4GNT   0.000507   0.000107   0.000174  -0.000241  -0.000167\n",
       "AAAS   -0.000123   0.000050  -0.000900   0.000348  -0.000008"
      ]
     },
     "execution_count": 33,
     "metadata": {},
     "output_type": "execute_result"
    }
   ],
   "source": [
    "df.iloc[0:5, 0:5]"
   ]
  },
  {
   "cell_type": "markdown",
   "metadata": {},
   "source": [
    "## Getting the top 100 up-regulated genes:\n",
    "1. For each drug, we sort the genes in descending order,\n",
    "2. Take the top 100 positive scoring genes"
   ]
  },
  {
   "cell_type": "code",
   "execution_count": 53,
   "metadata": {},
   "outputs": [
    {
     "data": {
      "text/plain": [
       "HMOX1       0.013901\n",
       "PHGDH       0.009433\n",
       "NUPR1       0.009212\n",
       "CHAC1       0.008992\n",
       "DDIT4       0.008389\n",
       "              ...   \n",
       "THBS1      -0.006529\n",
       "ARHGAP29   -0.006552\n",
       "CCN2       -0.006792\n",
       "AREG       -0.007930\n",
       "TACSTD2    -0.009251\n",
       "Name: afatinib, Length: 12327, dtype: float64"
      ]
     },
     "execution_count": 53,
     "metadata": {},
     "output_type": "execute_result"
    }
   ],
   "source": [
    "drug = \"afatinib\"\n",
    "sorted = df[drug].sort_values(ascending=False)\n",
    "sorted"
   ]
  },
  {
   "cell_type": "code",
   "execution_count": 37,
   "metadata": {},
   "outputs": [
    {
     "data": {
      "text/plain": [
       "HMOX1        0.013901\n",
       "PHGDH        0.009433\n",
       "NUPR1        0.009212\n",
       "CHAC1        0.008992\n",
       "DDIT4        0.008389\n",
       "               ...   \n",
       "XBP1         0.003288\n",
       "C14orf132    0.003267\n",
       "PFN2         0.003262\n",
       "SLC7A5       0.003246\n",
       "SLC1A4       0.003242\n",
       "Name: afatinib, Length: 100, dtype: float64"
      ]
     },
     "execution_count": 37,
     "metadata": {},
     "output_type": "execute_result"
    }
   ],
   "source": [
    "## Top 100 up regulated genes for afatinib\n",
    "sorted.head(100)"
   ]
  },
  {
   "cell_type": "markdown",
   "metadata": {},
   "source": [
    "## Putting it all together"
   ]
  },
  {
   "cell_type": "code",
   "execution_count": 40,
   "metadata": {},
   "outputs": [
    {
     "name": "stdout",
     "output_type": "stream",
     "text": [
      "HMOX1 0.013901103\n",
      "PHGDH 0.009433473\n",
      "NUPR1 0.00921154\n",
      "CHAC1 0.008991934\n",
      "DDIT4 0.00838907\n",
      "ASNS 0.00814286\n",
      "ASS1 0.0070086727\n",
      "CBS 0.006973538\n",
      "GPNMB 0.0068709115\n",
      "PCK2 0.0068163862\n",
      "TSC22D3 0.006695175\n",
      "PSAT1 0.006614989\n",
      "SLC3A2 0.0065062684\n",
      "TRIB3 0.00612757\n",
      "ABHD4 0.0060702595\n",
      "XPOT 0.006007641\n",
      "SCD 0.0059088995\n",
      "METTL7A 0.0058731255\n",
      "DDIT3 0.0057463204\n",
      "SLC7A11 0.0055631665\n",
      "AARS 0.0055097663\n",
      "INSIG1 0.005366992\n",
      "SLC7A1 0.005351075\n",
      "PIR 0.0052302293\n",
      "GNPDA1 0.0051882947\n",
      "GARS 0.005157598\n",
      "RRAGD 0.005115755\n",
      "FAM129A 0.0051055225\n",
      "ATF4 0.005074978\n",
      "CHI3L1 0.0049606557\n",
      "EPHX1 0.0049292045\n",
      "SQSTM1 0.0049190386\n",
      "FTH1 0.0048750304\n",
      "CEBPG 0.0047666086\n",
      "AKR1C3 0.004728251\n",
      "MTHFD2 0.004725242\n",
      "SHMT2 0.0046566958\n",
      "SLC7A8 0.00455205\n",
      "RAB29 0.004511242\n",
      "BLVRB 0.0044702897\n",
      "PHYH 0.004343569\n",
      "SLC7A7 0.004319546\n",
      "YARS 0.0042936914\n",
      "PSPH 0.0042814375\n",
      "FAM102A 0.004236382\n",
      "NQO1 0.004228466\n",
      "AKR1B10 0.004225984\n",
      "IMPA2 0.0042155804\n",
      "HTATIP2 0.0041666324\n",
      "INHBE 0.004164592\n",
      "LY96 0.0041365405\n",
      "EIF4EBP1 0.0041180495\n",
      "SPINK1 0.004090231\n",
      "HSPA1A 0.0040218164\n",
      "SEL1L3 0.003988253\n",
      "PRUNE2 0.003966503\n",
      "KRCC1 0.003964999\n",
      "EVI2A 0.003956118\n",
      "NQO2 0.0039206394\n",
      "HEXB 0.0039060623\n",
      "BEX3 0.003851501\n",
      "NUCKS1 0.003821618\n",
      "C1R 0.0037865061\n",
      "TPP1 0.0037597343\n",
      "NRCAM 0.0037535438\n",
      "TGIF1 0.0037299818\n",
      "AKR1C1 0.0036914055\n",
      "PYCR1 0.0036748515\n",
      "ASAH1 0.0036667408\n",
      "DENND1B 0.0036613531\n",
      "KEAP1 0.003651459\n",
      "GULP1 0.0036292227\n",
      "SPP1 0.0036177952\n",
      "CYP1B1 0.003617591\n",
      "PEPD 0.0035855207\n",
      "FADS1 0.0035799975\n",
      "AKR1C2 0.003572003\n",
      "RNF187 0.0035648078\n",
      "MXI1 0.003545665\n",
      "WARS 0.0035436214\n",
      "NEU1 0.0035285333\n",
      "AMDHD2 0.0035237125\n",
      "SRD5A1 0.0035002634\n",
      "ERP29 0.0034956888\n",
      "CTH 0.0034642634\n",
      "SLC6A8 0.0034441575\n",
      "CXCL12 0.0034300545\n",
      "TPD52L1 0.003414399\n",
      "NPC2 0.0033811568\n",
      "PPM1H 0.0033765316\n",
      "PLK1 0.003371761\n",
      "BSCL2 0.0033652089\n",
      "GALNT12 0.0033507613\n",
      "MCTP1 0.0033181168\n",
      "TCEA1 0.0033107272\n",
      "XBP1 0.0032875403\n",
      "C14orf132 0.003266751\n",
      "PFN2 0.0032615054\n",
      "SLC7A5 0.0032461968\n",
      "SLC1A4 0.0032418955\n"
     ]
    }
   ],
   "source": [
    "for k,v in sorted.head(100).items():\n",
    "    print(k,v)"
   ]
  },
  {
   "cell_type": "code",
   "execution_count": 41,
   "metadata": {},
   "outputs": [],
   "source": [
    "drugs = []\n",
    "edges = []\n",
    "for drug in df.columns:\n",
    "    ## generate ids for drugs\n",
    "    drug_id = uuid.uuid5(uuid.NAMESPACE_URL, drug)\n",
    "    drugs.append({\n",
    "        \"id\": drug_id,\n",
    "        \"label\": drug\n",
    "    })\n",
    "    sorted = df[drug].sort_values(ascending=False)\n",
    "    up_regulated = sorted.head(100)\n",
    "    for gene, score in up_regulated.items():\n",
    "        gene_meta = get_gene_meta(gene)\n",
    "        if gene_meta:\n",
    "            if type(gene_meta) == str:\n",
    "                print(gene, gene_meta)\n",
    "            gene_id = gene_meta[\"id\"]\n",
    "            edge = {\n",
    "                \"source\": drug_id,\n",
    "                \"relation\": \"LINCS Up Regulated\",\n",
    "                \"target\": gene_id,\n",
    "                \"source_label\": drug,\n",
    "                \"target_label\": gene,\n",
    "                \"score\": score\n",
    "            }\n",
    "            edges.append(edge)\n"
   ]
  },
  {
   "cell_type": "code",
   "execution_count": 42,
   "metadata": {},
   "outputs": [],
   "source": [
    "drug_df = pd.DataFrame.from_records(drugs)\n",
    "cols = [\"id\", \"label\"] + [i for i in drug_df.columns if not i in [\"id\", \"label\"]]\n",
    "drug_df = drug_df[cols]\n",
    "drug_df.to_csv(\"csv/Drug.nodes.csv\", index=False)\n",
    "edge_df = pd.DataFrame.from_records(edges)\n",
    "edge_df.to_csv(\"csv/Drug.LINCS Up Regulated.Gene.edges.csv\", index=False)"
   ]
  },
  {
   "cell_type": "code",
   "execution_count": 44,
   "metadata": {},
   "outputs": [],
   "source": [
    "# Exercise: Write a code for the down regulated genes"
   ]
  },
  {
   "attachments": {},
   "cell_type": "markdown",
   "metadata": {},
   "source": [
    "## Gene.csv\n",
    "Using the `all_genes` dictionary, create a `Genes.nodes.csv` file"
   ]
  },
  {
   "cell_type": "code",
   "execution_count": 45,
   "metadata": {},
   "outputs": [],
   "source": [
    "# write your code here\n",
    "genes = pd.DataFrame.from_records([i for i in all_genes.values() if not i == None])\n",
    "genes.to_csv(\"csv/Gene.nodes.csv\", index=False)"
   ]
  },
  {
   "cell_type": "code",
   "execution_count": 46,
   "metadata": {},
   "outputs": [
    {
     "data": {
      "text/html": [
       "<div>\n",
       "<style scoped>\n",
       "    .dataframe tbody tr th:only-of-type {\n",
       "        vertical-align: middle;\n",
       "    }\n",
       "\n",
       "    .dataframe tbody tr th {\n",
       "        vertical-align: top;\n",
       "    }\n",
       "\n",
       "    .dataframe thead th {\n",
       "        text-align: right;\n",
       "    }\n",
       "</style>\n",
       "<table border=\"1\" class=\"dataframe\">\n",
       "  <thead>\n",
       "    <tr style=\"text-align: right;\">\n",
       "      <th></th>\n",
       "      <th>id</th>\n",
       "      <th>label</th>\n",
       "      <th>uri</th>\n",
       "    </tr>\n",
       "  </thead>\n",
       "  <tbody>\n",
       "    <tr>\n",
       "      <th>0</th>\n",
       "      <td>9276</td>\n",
       "      <td>COPB2</td>\n",
       "      <td>https://www.ncbi.nlm.nih.gov/gene/9276</td>\n",
       "    </tr>\n",
       "    <tr>\n",
       "      <th>1</th>\n",
       "      <td>6774</td>\n",
       "      <td>STAT3</td>\n",
       "      <td>https://www.ncbi.nlm.nih.gov/gene/6774</td>\n",
       "    </tr>\n",
       "    <tr>\n",
       "      <th>2</th>\n",
       "      <td>23753</td>\n",
       "      <td>SDF2L1</td>\n",
       "      <td>https://www.ncbi.nlm.nih.gov/gene/23753</td>\n",
       "    </tr>\n",
       "    <tr>\n",
       "      <th>3</th>\n",
       "      <td>3313</td>\n",
       "      <td>HSPA9</td>\n",
       "      <td>https://www.ncbi.nlm.nih.gov/gene/3313</td>\n",
       "    </tr>\n",
       "    <tr>\n",
       "      <th>4</th>\n",
       "      <td>10576</td>\n",
       "      <td>CCT2</td>\n",
       "      <td>https://www.ncbi.nlm.nih.gov/gene/10576</td>\n",
       "    </tr>\n",
       "  </tbody>\n",
       "</table>\n",
       "</div>"
      ],
      "text/plain": [
       "      id   label                                      uri\n",
       "0   9276   COPB2   https://www.ncbi.nlm.nih.gov/gene/9276\n",
       "1   6774   STAT3   https://www.ncbi.nlm.nih.gov/gene/6774\n",
       "2  23753  SDF2L1  https://www.ncbi.nlm.nih.gov/gene/23753\n",
       "3   3313   HSPA9   https://www.ncbi.nlm.nih.gov/gene/3313\n",
       "4  10576    CCT2  https://www.ncbi.nlm.nih.gov/gene/10576"
      ]
     },
     "execution_count": 46,
     "metadata": {},
     "output_type": "execute_result"
    }
   ],
   "source": [
    "gene_df = pd.read_csv('csv/Gene.nodes.csv')\n",
    "gene_df.head()"
   ]
  },
  {
   "attachments": {},
   "cell_type": "markdown",
   "metadata": {},
   "source": [
    "#### Ingestion\n",
    "Ingestion is relatively simple if we followed followed the naming convention. `src/import_csv.py` is provided to do the heavy lifting. To run it just type the following on the command line:\n",
    "```\n",
    "python import_csv.py /path/to/csv/directory\n",
    "```\n",
    "This will run a bulk import of your csv files\n",
    "e.g.\n",
    "```\n",
    "python import_csv.py ../notebooks/csv\n",
    "```"
   ]
  },
  {
   "attachments": {},
   "cell_type": "markdown",
   "metadata": {},
   "source": []
  },
  {
   "attachments": {},
   "cell_type": "markdown",
   "metadata": {},
   "source": []
  },
  {
   "attachments": {},
   "cell_type": "markdown",
   "metadata": {},
   "source": []
  }
 ],
 "metadata": {
  "kernelspec": {
   "display_name": "venv",
   "language": "python",
   "name": "python3"
  },
  "language_info": {
   "codemirror_mode": {
    "name": "ipython",
    "version": 3
   },
   "file_extension": ".py",
   "mimetype": "text/x-python",
   "name": "python",
   "nbconvert_exporter": "python",
   "pygments_lexer": "ipython3",
   "version": "3.10.9"
  },
  "orig_nbformat": 4,
  "vscode": {
   "interpreter": {
    "hash": "798122c9e4f43102ac6a3a7c51d7fe95ee01edcdc77ff31e968bccde04a8b5dc"
   }
  }
 },
 "nbformat": 4,
 "nbformat_minor": 2
}
