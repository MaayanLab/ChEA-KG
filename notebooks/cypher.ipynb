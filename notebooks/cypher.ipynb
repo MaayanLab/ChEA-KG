{
 "cells": [
  {
   "attachments": {},
   "cell_type": "markdown",
   "metadata": {},
   "source": [
    "# Cypher Query Language\n",
    "Unlike relational databases, graph databases do not have a uniform query language. Platforms typically build their own query languages. Cypher was originally built for Neo4j but was later opened up via the OpenCypher project (https://opencypher.org/).\n",
    "\n",
    "## Preliminaries\n",
    "To start querying our Neo4j database, we have two options:\n",
    "* Go to http://localhost:7474 to access Neo4j's console\n",
    "* Use this notebook that uses the combination of [py2neo](https://py2neo.org/2021.1/) and [ipycytoscape](https://github.com/cytoscape/ipycytoscape) to generate graph visualizations in this jupyter notebook. This notebook will focus on creating cypher queries, so we won't delve on the libraries that were used. The `cypher` function provided below should take care of querying and plotting your cypher queries. If you want to learn more about these libraries, you can click on their respective links above.\n",
    "\n",
    "### Importing libraries"
   ]
  },
  {
   "cell_type": "code",
   "execution_count": 14,
   "metadata": {},
   "outputs": [],
   "source": [
    "import os\n",
    "import requests\n",
    "import ipycytoscape\n",
    "from py2neo import Graph\n",
    "import seaborn as sns\n",
    "import random\n",
    "from dotenv import load_dotenv"
   ]
  },
  {
   "attachments": {},
   "cell_type": "markdown",
   "metadata": {},
   "source": [
    "### Loading environment variables and connecting to the Neo4j database"
   ]
  },
  {
   "cell_type": "code",
   "execution_count": 15,
   "metadata": {},
   "outputs": [],
   "source": [
    "load_dotenv()\n",
    "graph = Graph(os.getenv('NEO4j_URL'), auth=(os.getenv('NEO4J_USER'), os.getenv('NEO4J_PASSWORD')))"
   ]
  },
  {
   "attachments": {},
   "cell_type": "markdown",
   "metadata": {},
   "source": [
    "### Cypher query function\n",
    "This function is built so we can start building cypher queries quickly (same as using Neo4j console). Feel free to look at the following libraries for more information:\n",
    "* [py2neo](https://py2neo.org/2021.1/)\n",
    "* [cytoscape.js](https://js.cytoscape.org/)\n",
    "* [ipycytoscape](https://github.com/cytoscape/ipycytoscape)"
   ]
  },
  {
   "cell_type": "code",
   "execution_count": 16,
   "metadata": {},
   "outputs": [],
   "source": [
    "style = [{\n",
    "                            \"selector\": 'node',\n",
    "                            \"style\": {\n",
    "                            'background-color': 'data(color)',\n",
    "                            'border-color': 'data(borderColor)',\n",
    "                            'border-width': 'data(borderWidth)',\n",
    "                            'label': 'data(label)',\n",
    "                            \"text-valign\": \"center\",\n",
    "                            \"text-halign\": \"center\",\n",
    "                            'width': \"50\",\n",
    "                            'height': \"50\",\n",
    "                            }\n",
    "                        },\n",
    "                        {\n",
    "                            \"selector\": 'edge',\n",
    "                            \"style\": {\n",
    "                            'curve-style': 'straight',\n",
    "                            'line-color': 'data(lineColor)',\n",
    "                            'width': '3',\n",
    "                            'label': 'data(relation)',\n",
    "                            \"text-rotation\": \"autorotate\",\n",
    "                            \"text-margin-x\": \"0px\",\n",
    "                            \"text-margin-y\": \"0px\",\n",
    "                            'font-size': '12px',\n",
    "                            'target-arrow-shape': \"data(directed)\",\n",
    "                            'target-endpoint': 'outside-to-node',\n",
    "                            'source-endpoint': 'outside-to-node',\n",
    "                            'target-arrow-color': 'data(lineColor)',\n",
    "                            }\n",
    "                        },\n",
    "                        {\n",
    "                            \"selector\": 'node.highlight',\n",
    "                            \"style\": {\n",
    "                                'border-color': 'gray',\n",
    "                                'border-width': '2px',\n",
    "                                'font-weight': 'bold',\n",
    "                                'font-size': '18px',\n",
    "                                'width': \"90\",\n",
    "                                'height': \"90\",\n",
    "                            }\n",
    "                        },\n",
    "                        {\n",
    "                            \"selector\": 'node.focused',\n",
    "                            \"style\": {\n",
    "                                'border-color': 'gray',\n",
    "                                'border-width': '2px',\n",
    "                                'font-weight': 'bold',\n",
    "                                'font-size': '18px',\n",
    "                                'width': \"90\",\n",
    "                                'height': \"90\",\n",
    "                            }\n",
    "                        },\n",
    "                        {\n",
    "                            \"selector\": 'edge.focusedColored',\n",
    "                            \"style\": {\n",
    "                                'line-color': '#F8333C',\n",
    "                                'width': '6'\n",
    "                            }\n",
    "                        },\n",
    "                        {\n",
    "                            \"selector\": 'node.semitransp',\n",
    "                            \"style\":{ 'opacity': '0.5' }\n",
    "                        },\n",
    "                        {\n",
    "                            \"selector\": 'node.focusedSemitransp',\n",
    "                            \"style\":{ 'opacity': '0.5' }\n",
    "                        },\n",
    "                        {\n",
    "                            \"selector\": 'edge.colored',\n",
    "                            \"style\": {\n",
    "                                'line-color': '#F8333C',\n",
    "                                'target-arrow-color': '#F8333C',\n",
    "                                'width': '6'\n",
    "                            }\n",
    "                        },\n",
    "                        {\n",
    "                            \"selector\": 'edge.semitransp',\n",
    "                            \"style\":{ 'opacity': '0.5' }\n",
    "                        },\n",
    "                        {\n",
    "                            \"selector\": 'edge.focusedSemitransp',\n",
    "                            \"style\":{ 'opacity': '0.5' }\n",
    "                        }]"
   ]
  },
  {
   "cell_type": "code",
   "execution_count": 17,
   "metadata": {},
   "outputs": [],
   "source": [
    "palette = sns.color_palette().as_hex()\n",
    "def cypher(query):\n",
    "    if query == \"\": return\n",
    "    results = graph.run(query).data()\n",
    "    nodes = []\n",
    "    edges = []\n",
    "    colors = {}\n",
    "    for i in results:\n",
    "        for vals in i.values():\n",
    "            for node in vals.nodes:\n",
    "                label = str(node.labels)\n",
    "                if label not in colors:\n",
    "                    colors[label] = palette[len(colors) % len(sns.color_palette())]\n",
    "                color = colors[label]\n",
    "                n = {\"kind\": label, \"color\": color}\n",
    "                for k,v in node.items():\n",
    "                    n[k] = v\n",
    "                nodes.append(n)\n",
    "            for relation in vals.relationships:\n",
    "                r = {\n",
    "                    \"kind\": \"relation\",\n",
    "                    \"source\": relation.nodes[0][\"id\"],\n",
    "                    \"target\": relation.nodes[1][\"id\"]\n",
    "                    }\n",
    "                for k,v in relation.items():\n",
    "                    r[k] = v\n",
    "                edges.append(r)      \n",
    "    cytoscapeobj = ipycytoscape.CytoscapeWidget()\n",
    "    cytoscapeobj.graph.add_graph_from_json({\n",
    "        \"nodes\": nodes,\n",
    "        \"edges\": edges\n",
    "    }) \n",
    "    cytoscapeobj.set_style(style)\n",
    "    return cytoscapeobj\n"
   ]
  },
  {
   "attachments": {},
   "cell_type": "markdown",
   "metadata": {},
   "source": [
    "## Cypher Query\n",
    "\n",
    "### Querying nodes\n",
    "Let's dissect this cypher query:\n",
    "```MATCH (a:`Drug` {label: 'Afatinib'}) RETURN a```\n",
    "  * The `MATCH` keyword queries for nodes/relations/paths that matches the succeeding statement\n",
    "  * Queries wrapped in parenthesis are matched on nodes. In this case, we want to match Drug nodes and we want the node to have the label, Afatinib.\n",
    "  * The `a` preceding the filter is the variable where we store the results. This is the variable that we then return and display as a graph."
   ]
  },
  {
   "cell_type": "code",
   "execution_count": 18,
   "metadata": {},
   "outputs": [
    {
     "data": {
      "application/vnd.jupyter.widget-view+json": {
       "model_id": "beb4d5e7d55a4818b78a4b3236b65d24",
       "version_major": 2,
       "version_minor": 0
      },
      "text/plain": [
       "CytoscapeWidget(cytoscape_layout={'name': 'cola'}, cytoscape_style=[{'selector': 'node', 'style': {'background…"
      ]
     },
     "execution_count": 18,
     "metadata": {},
     "output_type": "execute_result"
    }
   ],
   "source": [
    "query = \"MATCH (a) RETURN a LIMIT 5\"\n",
    "cypher(query)"
   ]
  },
  {
   "cell_type": "code",
   "execution_count": 19,
   "metadata": {},
   "outputs": [
    {
     "data": {
      "application/vnd.jupyter.widget-view+json": {
       "model_id": "e16ac229accb46508cd817fe8ee0c8dc",
       "version_major": 2,
       "version_minor": 0
      },
      "text/plain": [
       "CytoscapeWidget(cytoscape_layout={'name': 'cola'}, cytoscape_style=[{'selector': 'node', 'style': {'background…"
      ]
     },
     "execution_count": 19,
     "metadata": {},
     "output_type": "execute_result"
    }
   ],
   "source": [
    "query = \"MATCH (n:`GO Biological Process 2021`) RETURN n LIMIT 5\"\n",
    "cypher(query)"
   ]
  },
  {
   "cell_type": "code",
   "execution_count": 20,
   "metadata": {},
   "outputs": [
    {
     "data": {
      "application/vnd.jupyter.widget-view+json": {
       "model_id": "c39ef9513daf434c9b9eb5920c747fdf",
       "version_major": 2,
       "version_minor": 0
      },
      "text/plain": [
       "CytoscapeWidget(cytoscape_layout={'name': 'cola'}, cytoscape_style=[{'selector': 'node', 'style': {'background…"
      ]
     },
     "execution_count": 20,
     "metadata": {},
     "output_type": "execute_result"
    }
   ],
   "source": [
    "query = \"MATCH (a:`LINCS L1000 Chem Pert Consensus Sigs` {label: 'Afatinib'}) RETURN a LIMIT 5\"\n",
    "cypher(query)"
   ]
  },
  {
   "attachments": {},
   "cell_type": "markdown",
   "metadata": {},
   "source": [
    "Without any filter, our graph database will match any type of nodes and return them. For this reason, it's ideal to set up a limit to not overwhelm our results:"
   ]
  },
  {
   "attachments": {},
   "cell_type": "markdown",
   "metadata": {},
   "source": [
    "### Querying relations\n",
    "Let's dissect this cypher query:\n",
    "```MATCH ()-[r:`GO BP`]->() RETURN r LIMIT 10```\n",
    "  * Queries wrapped in square braces matches a relation. In this case we are matching for GO BP edges. Similar to nodes, we can add curly braces to filter edges by property.\n",
    "  * `()` denotes any node. These are not assigned to any variable.\n",
    "  * Edges can have directions based on the arrow:\n",
    "    * `()-[]->()`\n",
    "    * `()<-[]-()`\n",
    "  * Alternatively, setting the query to * `()-[]-()` makes it agnostic to the directionality of the edges."
   ]
  },
  {
   "cell_type": "code",
   "execution_count": 21,
   "metadata": {},
   "outputs": [
    {
     "data": {
      "application/vnd.jupyter.widget-view+json": {
       "model_id": "e98f1ea4828841a0b4dd7753923b0afe",
       "version_major": 2,
       "version_minor": 0
      },
      "text/plain": [
       "CytoscapeWidget(cytoscape_layout={'name': 'cola'}, cytoscape_style=[{'selector': 'node', 'style': {'background…"
      ]
     },
     "execution_count": 21,
     "metadata": {},
     "output_type": "execute_result"
    }
   ],
   "source": [
    "query = \"MATCH ()-[r:`KEGG Pathway`]->() RETURN r LIMIT 10\"\n",
    "cypher(query)"
   ]
  },
  {
   "attachments": {},
   "cell_type": "markdown",
   "metadata": {},
   "source": [
    "### Querying Neighbors\n",
    "Find immediate neighbors of a gene"
   ]
  },
  {
   "cell_type": "code",
   "execution_count": 25,
   "metadata": {},
   "outputs": [
    {
     "data": {
      "application/vnd.jupyter.widget-view+json": {
       "model_id": "550ae3f4d110454589bed23834c7084c",
       "version_major": 2,
       "version_minor": 0
      },
      "text/plain": [
       "CytoscapeWidget(cytoscape_layout={'name': 'cola'}, cytoscape_style=[{'selector': 'node', 'style': {'background…"
      ]
     },
     "execution_count": 25,
     "metadata": {},
     "output_type": "execute_result"
    }
   ],
   "source": [
    "query = \"MATCH p=(a:Gene {label: 'ACE2'})-[]-() RETURN p LIMIT 10\"\n",
    "cypher(query)"
   ]
  },
  {
   "attachments": {},
   "cell_type": "markdown",
   "metadata": {},
   "source": [
    "### Checkpoint Exercise:\n",
    "Create a query that returns 10 terms that are connected with the gene KL"
   ]
  },
  {
   "cell_type": "code",
   "execution_count": 23,
   "metadata": {},
   "outputs": [
    {
     "data": {
      "application/vnd.jupyter.widget-view+json": {
       "model_id": "db067fb9e737494eaf0f279e3a578144",
       "version_major": 2,
       "version_minor": 0
      },
      "text/plain": [
       "CytoscapeWidget(cytoscape_layout={'name': 'cola'}, cytoscape_style=[{'selector': 'node', 'style': {'background…"
      ]
     },
     "execution_count": 23,
     "metadata": {},
     "output_type": "execute_result"
    }
   ],
   "source": [
    "query = \"MATCH p=(:Gene {label: 'KL'})-[]-() RETURN p LIMIT 10\"\n",
    "cypher(query)"
   ]
  },
  {
   "attachments": {},
   "cell_type": "markdown",
   "metadata": {},
   "source": [
    "### Checkpoint Exercise:\n",
    "Create a query that returns all terms that are connected with the gene KL with the relationship KEGG Pathway"
   ]
  },
  {
   "cell_type": "code",
   "execution_count": 24,
   "metadata": {},
   "outputs": [
    {
     "data": {
      "application/vnd.jupyter.widget-view+json": {
       "model_id": "7633fc16768c47f9adb9abbb47689d91",
       "version_major": 2,
       "version_minor": 0
      },
      "text/plain": [
       "CytoscapeWidget(cytoscape_layout={'name': 'cola'}, cytoscape_style=[{'selector': 'node', 'style': {'background…"
      ]
     },
     "execution_count": 24,
     "metadata": {},
     "output_type": "execute_result"
    }
   ],
   "source": [
    "query = \"\"\n",
    "cypher(query)"
   ]
  },
  {
   "attachments": {},
   "cell_type": "markdown",
   "metadata": {},
   "source": [
    "## Querying longer paths\n",
    "Suppose we want to discover a path of length 2 that connects the gene MAPK1 to the gene CRKL. There are several ways of doing this:\n",
    "\n",
    "First we can define a path using components that we already know like this:"
   ]
  },
  {
   "cell_type": "code",
   "execution_count": 28,
   "metadata": {},
   "outputs": [
    {
     "data": {
      "application/vnd.jupyter.widget-view+json": {
       "model_id": "5a9ed19f676740749a29751b9ce38fdb",
       "version_major": 2,
       "version_minor": 0
      },
      "text/plain": [
       "CytoscapeWidget(cytoscape_layout={'name': 'cola'}, cytoscape_style=[{'selector': 'node', 'style': {'background…"
      ]
     },
     "execution_count": 28,
     "metadata": {},
     "output_type": "execute_result"
    }
   ],
   "source": [
    "query = \"MATCH p=(:Gene {label: 'MAPK1'})-[]-()-[]-(:Gene {label: 'CRKL'}) RETURN p LIMIT 10\"\n",
    "cypher(query)"
   ]
  },
  {
   "attachments": {},
   "cell_type": "markdown",
   "metadata": {},
   "source": [
    "Alternatively, we can use variable length pattern matching:\n",
    "\n",
    "```MATCH p=(:Gene {label: 'MAPK1'})-[*2]-(:Gene {label: 'CRKL'}) RETURN p LIMIT 10```\n",
    "\n",
    "This query allows us to skip defining intermediate nodes and just specify the length of the path in the square braces. Note that there may be some subtle differences on how the graph db's algorithm discover and prioritizes paths between two methods especially if you are using limits."
   ]
  },
  {
   "cell_type": "code",
   "execution_count": 30,
   "metadata": {},
   "outputs": [
    {
     "data": {
      "application/vnd.jupyter.widget-view+json": {
       "model_id": "cdf5fb29131149518db4d80ed0243b85",
       "version_major": 2,
       "version_minor": 0
      },
      "text/plain": [
       "CytoscapeWidget(cytoscape_layout={'name': 'cola'}, cytoscape_style=[{'selector': 'node', 'style': {'background…"
      ]
     },
     "execution_count": 30,
     "metadata": {},
     "output_type": "execute_result"
    }
   ],
   "source": [
    "query = \"MATCH p=(:Gene {label: 'MAPK1'})-[*2]-(:Gene {label: 'CRKL'}) RETURN p LIMIT 10\"\n",
    "cypher(query)"
   ]
  },
  {
   "attachments": {},
   "cell_type": "markdown",
   "metadata": {},
   "source": [
    "Variable pattern matching are particularly useful if you want to set a minimum or maximum length of a path, the next query finds path with a minimum length of 2 and maximum length of 4:"
   ]
  },
  {
   "cell_type": "code",
   "execution_count": 31,
   "metadata": {},
   "outputs": [
    {
     "data": {
      "application/vnd.jupyter.widget-view+json": {
       "model_id": "f9becd76e9544c39be57dc32665edc86",
       "version_major": 2,
       "version_minor": 0
      },
      "text/plain": [
       "CytoscapeWidget(cytoscape_layout={'name': 'cola'}, cytoscape_style=[{'selector': 'node', 'style': {'background…"
      ]
     },
     "execution_count": 31,
     "metadata": {},
     "output_type": "execute_result"
    }
   ],
   "source": [
    "query = \"MATCH p=(:Gene {label: 'MAPK1'})-[*2..4]-(:Gene {label: 'CRKL'}) RETURN p LIMIT 10\"\n",
    "cypher(query)"
   ]
  },
  {
   "attachments": {},
   "cell_type": "markdown",
   "metadata": {},
   "source": [
    "### Checkpoint Exercise:\n",
    "Find at least 10 shared genes between the GO Biological Process 2021 'apoptotic process (GO:0006915)' and the KEGG 2021 Human, 'Apoptosis':"
   ]
  },
  {
   "cell_type": "code",
   "execution_count": 14,
   "metadata": {},
   "outputs": [],
   "source": [
    "query = \"\"\n",
    "cypher(query)"
   ]
  },
  {
   "attachments": {},
   "cell_type": "markdown",
   "metadata": {},
   "source": [
    "### allShortestPaths\n",
    "Another option is to use the allShortestPaths function, this returns the all the shortest paths between two nodes:"
   ]
  },
  {
   "cell_type": "code",
   "execution_count": 33,
   "metadata": {},
   "outputs": [
    {
     "data": {
      "application/vnd.jupyter.widget-view+json": {
       "model_id": "ec5cb4b657f24110989b3f19fa9e2c8f",
       "version_major": 2,
       "version_minor": 0
      },
      "text/plain": [
       "CytoscapeWidget(cytoscape_layout={'name': 'cola'}, cytoscape_style=[{'selector': 'node', 'style': {'background…"
      ]
     },
     "execution_count": 33,
     "metadata": {},
     "output_type": "execute_result"
    }
   ],
   "source": [
    "query = \"MATCH p=allShortestPaths((:`GO Biological Process 2021` {label: 'apoptotic process (GO:0006915)'})-[*]-(:`KEGG 2021 Human` {label: 'Apoptosis'})) RETURN p LIMIT 10\"\n",
    "cypher(query)"
   ]
  },
  {
   "attachments": {},
   "cell_type": "markdown",
   "metadata": {},
   "source": [
    "## Cypher resources\n",
    "\n",
    "This notebook provides an overview on creating Cypher queries but this is by no means exhaustive. To learn more about cypher queries, you can check the cypher manual here: https://neo4j.com/docs/cypher-manual/current/"
   ]
  }
 ],
 "metadata": {
  "kernelspec": {
   "display_name": "venv",
   "language": "python",
   "name": "python3"
  },
  "language_info": {
   "codemirror_mode": {
    "name": "ipython",
    "version": 3
   },
   "file_extension": ".py",
   "mimetype": "text/x-python",
   "name": "python",
   "nbconvert_exporter": "python",
   "pygments_lexer": "ipython3",
   "version": "3.10.9"
  },
  "orig_nbformat": 4,
  "vscode": {
   "interpreter": {
    "hash": "798122c9e4f43102ac6a3a7c51d7fe95ee01edcdc77ff31e968bccde04a8b5dc"
   }
  }
 },
 "nbformat": 4,
 "nbformat_minor": 2
}
